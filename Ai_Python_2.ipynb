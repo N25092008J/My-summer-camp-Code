{
  "nbformat": 4,
  "nbformat_minor": 0,
  "metadata": {
    "colab": {
      "name": "Ai Python 2.ipynb",
      "provenance": [],
      "collapsed_sections": []
    },
    "kernelspec": {
      "name": "python3",
      "display_name": "Python 3"
    }
  },
  "cells": [
    {
      "cell_type": "markdown",
      "metadata": {
        "id": "y9KuYgAyZQ0Y",
        "colab_type": "text"
      },
      "source": [
        "Linear Regression"
      ]
    },
    {
      "cell_type": "markdown",
      "metadata": {
        "id": "eq7Y7Ua7wTW4",
        "colab_type": "text"
      },
      "source": [
        "Importing modules"
      ]
    },
    {
      "cell_type": "code",
      "metadata": {
        "id": "SbvL6PfwwH5A",
        "colab_type": "code",
        "colab": {}
      },
      "source": [
        "import matplotlib.pyplot as plt\n",
        "import numpy as np\n",
        "import pandas as pd \n",
        "from sklearn.model_selection import train_test_split \n",
        "from sklearn import linear_model\n",
        "from sklearn.metrics import mean_squared_error, r2_score"
      ],
      "execution_count": null,
      "outputs": []
    },
    {
      "cell_type": "markdown",
      "metadata": {
        "id": "Ph7Y5Q1twxhB",
        "colab_type": "text"
      },
      "source": [
        "For Loading data"
      ]
    },
    {
      "cell_type": "code",
      "metadata": {
        "id": "KYTfIPHdwVu1",
        "colab_type": "code",
        "colab": {
          "base_uri": "https://localhost:8080/",
          "height": 121
        },
        "outputId": "14afb46b-3edb-43ae-dacd-34212e00174e"
      },
      "source": [
        "data_set=pd.read_csv('salary_data.csv')\n",
        "# for displaying first 5 rows\n",
        "print(data_set.head())"
      ],
      "execution_count": null,
      "outputs": [
        {
          "output_type": "stream",
          "text": [
            "   YearsExperience  Salary\n",
            "0              1.1   39343\n",
            "1              1.3   46205\n",
            "2              1.5   37731\n",
            "3              2.0   43525\n",
            "4              2.2   39891\n"
          ],
          "name": "stdout"
        }
      ]
    },
    {
      "cell_type": "markdown",
      "metadata": {
        "id": "n_GattjyxTvH",
        "colab_type": "text"
      },
      "source": [
        "For checking whole data"
      ]
    },
    {
      "cell_type": "code",
      "metadata": {
        "id": "exai2f5LxFU7",
        "colab_type": "code",
        "colab": {
          "base_uri": "https://localhost:8080/",
          "height": 555
        },
        "outputId": "08d9198f-0f72-4e93-f94f-5354b8407c4d"
      },
      "source": [
        "print(data_set)"
      ],
      "execution_count": null,
      "outputs": [
        {
          "output_type": "stream",
          "text": [
            "    YearsExperience  Salary\n",
            "0               1.1   39343\n",
            "1               1.3   46205\n",
            "2               1.5   37731\n",
            "3               2.0   43525\n",
            "4               2.2   39891\n",
            "5               2.9   56642\n",
            "6               3.0   60150\n",
            "7               3.2   54445\n",
            "8               3.2   64445\n",
            "9               3.7   57189\n",
            "10              3.9   63218\n",
            "11              4.0   55794\n",
            "12              4.0   56957\n",
            "13              4.1   57081\n",
            "14              4.5   61111\n",
            "15              4.9   67938\n",
            "16              5.1   66029\n",
            "17              5.3   83088\n",
            "18              5.9   81363\n",
            "19              6.0   93940\n",
            "20              6.8   91738\n",
            "21              7.1   98273\n",
            "22              7.9  101302\n",
            "23              8.2  113812\n",
            "24              8.7  109431\n",
            "25              9.0  105582\n",
            "26              9.5  116969\n",
            "27              9.6  112635\n",
            "28             10.3  122391\n",
            "29             10.5  121872\n"
          ],
          "name": "stdout"
        }
      ]
    },
    {
      "cell_type": "markdown",
      "metadata": {
        "id": "DisVs7ltxosz",
        "colab_type": "text"
      },
      "source": [
        "Independent Variable"
      ]
    },
    {
      "cell_type": "code",
      "metadata": {
        "id": "giBw8M0YxMlS",
        "colab_type": "code",
        "colab": {}
      },
      "source": [
        "# for assigning i"
      ],
      "execution_count": null,
      "outputs": []
    },
    {
      "cell_type": "code",
      "metadata": {
        "id": "lLDJOJG03WBh",
        "colab_type": "code",
        "colab": {}
      },
      "source": [
        "x=data_set.iloc[:,:-1]\n",
        "y=data_set.iloc[:,1]"
      ],
      "execution_count": null,
      "outputs": []
    },
    {
      "cell_type": "code",
      "metadata": {
        "id": "9LHkcwT6yOr1",
        "colab_type": "code",
        "colab": {
          "base_uri": "https://localhost:8080/",
          "height": 555
        },
        "outputId": "500c45c0-b4c6-4853-a7ad-d7891464aed9"
      },
      "source": [
        "# for assign\n",
        "print(y)"
      ],
      "execution_count": null,
      "outputs": [
        {
          "output_type": "stream",
          "text": [
            "0      39343\n",
            "1      46205\n",
            "2      37731\n",
            "3      43525\n",
            "4      39891\n",
            "5      56642\n",
            "6      60150\n",
            "7      54445\n",
            "8      64445\n",
            "9      57189\n",
            "10     63218\n",
            "11     55794\n",
            "12     56957\n",
            "13     57081\n",
            "14     61111\n",
            "15     67938\n",
            "16     66029\n",
            "17     83088\n",
            "18     81363\n",
            "19     93940\n",
            "20     91738\n",
            "21     98273\n",
            "22    101302\n",
            "23    113812\n",
            "24    109431\n",
            "25    105582\n",
            "26    116969\n",
            "27    112635\n",
            "28    122391\n",
            "29    121872\n",
            "Name: Salary, dtype: int64\n"
          ],
          "name": "stdout"
        }
      ]
    },
    {
      "cell_type": "code",
      "metadata": {
        "id": "tLYeEHOtz6Ce",
        "colab_type": "code",
        "colab": {
          "base_uri": "https://localhost:8080/",
          "height": 1000
        },
        "outputId": "8bcd132e-b1cc-4581-9ab6-2e2c74845ad7"
      },
      "source": [
        "# splitting training and test data\n",
        "x_train,x_test,y_train,y_test=train_test_split(x,y,test_size=0.2,random_state=3)\n",
        "# for checking the values\n",
        "print(x_train)\n",
        "print(y_test)\n",
        "print(y_train)\n",
        "print(x_test)"
      ],
      "execution_count": null,
      "outputs": [
        {
          "output_type": "stream",
          "text": [
            "    YearsExperience\n",
            "13              4.1\n",
            "2               1.5\n",
            "16              5.1\n",
            "1               1.3\n",
            "17              5.3\n",
            "27              9.6\n",
            "7               3.2\n",
            "12              4.0\n",
            "4               2.2\n",
            "23              8.2\n",
            "6               3.0\n",
            "20              6.8\n",
            "9               3.7\n",
            "11              4.0\n",
            "29             10.5\n",
            "19              6.0\n",
            "21              7.1\n",
            "0               1.1\n",
            "8               3.2\n",
            "28             10.3\n",
            "3               2.0\n",
            "25              9.0\n",
            "24              8.7\n",
            "10              3.9\n",
            "15     67938\n",
            "5      56642\n",
            "22    101302\n",
            "26    116969\n",
            "18     81363\n",
            "14     61111\n",
            "Name: Salary, dtype: int64\n",
            "13     57081\n",
            "2      37731\n",
            "16     66029\n",
            "1      46205\n",
            "17     83088\n",
            "27    112635\n",
            "7      54445\n",
            "12     56957\n",
            "4      39891\n",
            "23    113812\n",
            "6      60150\n",
            "20     91738\n",
            "9      57189\n",
            "11     55794\n",
            "29    121872\n",
            "19     93940\n",
            "21     98273\n",
            "0      39343\n",
            "8      64445\n",
            "28    122391\n",
            "3      43525\n",
            "25    105582\n",
            "24    109431\n",
            "10     63218\n",
            "Name: Salary, dtype: int64\n",
            "    YearsExperience\n",
            "15              4.9\n",
            "5               2.9\n",
            "22              7.9\n",
            "26              9.5\n",
            "18              5.9\n",
            "14              4.5\n"
          ],
          "name": "stdout"
        }
      ]
    },
    {
      "cell_type": "markdown",
      "metadata": {
        "id": "gsiLHj7_1JsM",
        "colab_type": "text"
      },
      "source": [
        "Creating a regression model and Training it"
      ]
    },
    {
      "cell_type": "code",
      "metadata": {
        "id": "Koz1jvFb0KY7",
        "colab_type": "code",
        "colab": {}
      },
      "source": [
        "line=linear_model.LinearRegression()"
      ],
      "execution_count": null,
      "outputs": []
    },
    {
      "cell_type": "code",
      "metadata": {
        "id": "v5LoVDDD1eBi",
        "colab_type": "code",
        "colab": {
          "base_uri": "https://localhost:8080/",
          "height": 1000
        },
        "outputId": "a7306dce-d454-4f6f-ca74-df795270daba"
      },
      "source": [
        "# for training the model\n",
        "line.fit(x_train,y_train)\n",
        "print(x)\n",
        "print(y)"
      ],
      "execution_count": null,
      "outputs": [
        {
          "output_type": "stream",
          "text": [
            "    YearsExperience\n",
            "0               1.1\n",
            "1               1.3\n",
            "2               1.5\n",
            "3               2.0\n",
            "4               2.2\n",
            "5               2.9\n",
            "6               3.0\n",
            "7               3.2\n",
            "8               3.2\n",
            "9               3.7\n",
            "10              3.9\n",
            "11              4.0\n",
            "12              4.0\n",
            "13              4.1\n",
            "14              4.5\n",
            "15              4.9\n",
            "16              5.1\n",
            "17              5.3\n",
            "18              5.9\n",
            "19              6.0\n",
            "20              6.8\n",
            "21              7.1\n",
            "22              7.9\n",
            "23              8.2\n",
            "24              8.7\n",
            "25              9.0\n",
            "26              9.5\n",
            "27              9.6\n",
            "28             10.3\n",
            "29             10.5\n",
            "0      39343\n",
            "1      46205\n",
            "2      37731\n",
            "3      43525\n",
            "4      39891\n",
            "5      56642\n",
            "6      60150\n",
            "7      54445\n",
            "8      64445\n",
            "9      57189\n",
            "10     63218\n",
            "11     55794\n",
            "12     56957\n",
            "13     57081\n",
            "14     61111\n",
            "15     67938\n",
            "16     66029\n",
            "17     83088\n",
            "18     81363\n",
            "19     93940\n",
            "20     91738\n",
            "21     98273\n",
            "22    101302\n",
            "23    113812\n",
            "24    109431\n",
            "25    105582\n",
            "26    116969\n",
            "27    112635\n",
            "28    122391\n",
            "29    121872\n",
            "Name: Salary, dtype: int64\n"
          ],
          "name": "stdout"
        }
      ]
    },
    {
      "cell_type": "markdown",
      "metadata": {
        "id": "-EMpSIVA4W_u",
        "colab_type": "text"
      },
      "source": [
        "Prediction"
      ]
    },
    {
      "cell_type": "code",
      "metadata": {
        "id": "pGqOd2Qo1z1O",
        "colab_type": "code",
        "colab": {}
      },
      "source": [
        "# for making predictions\n",
        "x_pred = line.predict(x_test)"
      ],
      "execution_count": null,
      "outputs": []
    },
    {
      "cell_type": "code",
      "metadata": {
        "id": "cKYiWQWG4h8F",
        "colab_type": "code",
        "colab": {
          "base_uri": "https://localhost:8080/",
          "height": 252
        },
        "outputId": "227cd3e5-c006-44a6-c383-2c2edca5780e"
      },
      "source": [
        "plt.scatter(x_test,y_test,  color='black')\n",
        "# line plot with predicted data\n",
        "plt.plot(x_test,x_pred , color='blue', linewidth=3)\n",
        "# for not having values in the x axis and y axis\n",
        "plt.xticks(())\n",
        "plt.yticks(())\n",
        "\n",
        "plt.show()\n"
      ],
      "execution_count": null,
      "outputs": [
        {
          "output_type": "display_data",
          "data": {
            "image/png": "[encoded data removed]",
            "text/plain": [
              "<Figure size 432x288 with 1 Axes>"
            ]
          },
          "metadata": {
            "tags": []
          }
        }
      ]
    },
    {
      "cell_type": "code",
      "metadata": {
        "id": "8uB4UNpx7cNl",
        "colab_type": "code",
        "colab": {
          "base_uri": "https://localhost:8080/",
          "height": 35
        },
        "outputId": "10a57c8f-a2f2-4925-f1ae-bbcb291d760b"
      },
      "source": [
        "# for MSE\n",
        "mse=mean_squared_error(y_test,x_pred)\n",
        "print(mse)"
      ],
      "execution_count": null,
      "outputs": [
        {
          "output_type": "stream",
          "text": [
            "14564390.306734825\n"
          ],
          "name": "stdout"
        }
      ]
    },
    {
      "cell_type": "code",
      "metadata": {
        "id": "LFjxpzi-71Ea",
        "colab_type": "code",
        "colab": {
          "base_uri": "https://localhost:8080/",
          "height": 35
        },
        "outputId": "6022ed08-3390-461e-e062-bcdcef372a31"
      },
      "source": [
        "# for r2 score\n",
        "score=r2_score(y_test,x_pred)\n",
        "print(score)"
      ],
      "execution_count": null,
      "outputs": [
        {
          "output_type": "stream",
          "text": [
            "0.9695039421049821\n"
          ],
          "name": "stdout"
        }
      ]
    },
    {
      "cell_type": "code",
      "metadata": {
        "id": "cjDxJU_iEjTX",
        "colab_type": "code",
        "colab": {}
      },
      "source": [
        ""
      ],
      "execution_count": null,
      "outputs": []
    }
  ]
}