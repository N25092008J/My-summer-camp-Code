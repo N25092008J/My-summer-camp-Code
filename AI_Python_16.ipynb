{
  "nbformat": 4,
  "nbformat_minor": 0,
  "metadata": {
    "colab": {
      "name": "AI Python 16.ipynb",
      "provenance": [],
      "collapsed_sections": []
    },
    "kernelspec": {
      "name": "python3",
      "display_name": "Python 3"
    }
  },
  "cells": [
    {
      "cell_type": "markdown",
      "metadata": {
        "id": "BB7nWe9yV4NG",
        "colab_type": "text"
      },
      "source": [
        "Decision Tree Algorithm (Classification)"
      ]
    },
    {
      "cell_type": "code",
      "metadata": {
        "id": "5hnSMduxUUcp",
        "colab_type": "code",
        "colab": {}
      },
      "source": [
        "import pandas as pd \n",
        "import numpy as np\n",
        "from sklearn.tree import DecisionTreeClassifier\n",
        "import matplotlib.pyplot as plt\n",
        "from sklearn.preprocessing import StandardScaler\n",
        "from sklearn.model_selection import train_test_split"
      ],
      "execution_count": null,
      "outputs": []
    },
    {
      "cell_type": "code",
      "metadata": {
        "id": "CoUp-wzMX8L3",
        "colab_type": "code",
        "colab": {
          "base_uri": "https://localhost:8080/",
          "height": 243
        },
        "outputId": "7941a8d2-48eb-4eb2-afd6-df8b1ce4f831"
      },
      "source": [
        "data=pd.read_csv('job.csv')\n",
        "print(data.head())\n",
        "print(data.columns)"
      ],
      "execution_count": null,
      "outputs": [
        {
          "output_type": "stream",
          "text": [
            "   ID  JobFamily    JobFamilyDescription  ...  ContactLevel FinancialBudget    PG\n",
            "0   1          1  Accounting And Finance  ...             3               5  PG05\n",
            "1   2          1  Accounting And Finance  ...             7               7  PG06\n",
            "2   3          1  Accounting And Finance  ...             7              10  PG08\n",
            "3   4          1  Accounting And Finance  ...             8              11  PG10\n",
            "4   5          2  Administrative Support  ...             1               1  PG01\n",
            "\n",
            "[5 rows x 14 columns]\n",
            "Index(['ID', 'JobFamily', 'JobFamilyDescription', 'JobClass',\n",
            "       'JobClassDescription', 'PayGrade', 'EducationLevel', 'Experience',\n",
            "       'OrgImpact', 'ProblemSolving', 'Supervision', 'ContactLevel',\n",
            "       'FinancialBudget', 'PG'],\n",
            "      dtype='object')\n"
          ],
          "name": "stdout"
        }
      ]
    },
    {
      "cell_type": "code",
      "metadata": {
        "id": "8Jjb3OnGYB7Y",
        "colab_type": "code",
        "colab": {
          "base_uri": "https://localhost:8080/",
          "height": 1000
        },
        "outputId": "3b9f8537-53cb-498b-91fc-47e4296f3b09"
      },
      "source": [
        "x=data.iloc[:,[5,6,7,8,9,10,11]].values\n",
        "y=data.iloc[:,12].values\n",
        "print(x)\n",
        "print(y)"
      ],
      "execution_count": null,
      "outputs": [
        {
          "output_type": "stream",
          "text": [
            "[[ 5  3  1  3  3  4  3]\n",
            " [ 6  4  1  5  4  5  7]\n",
            " [ 8  4  2  6  5  6  7]\n",
            " [10  5  5  6  6  7  8]\n",
            " [ 1  1  0  1  1  1  1]\n",
            " [ 2  1  1  1  1  1  2]\n",
            " [ 3  1  2  1  2  1  3]\n",
            " [ 4  4  0  1  2  1  3]\n",
            " [ 5  4  0  4  3  5  7]\n",
            " [ 4  2  0  1  4  1  1]\n",
            " [ 6  2  0  3  4  1  6]\n",
            " [ 9  2  0  4  5  5  6]\n",
            " [ 5  1  0  3  4  3  7]\n",
            " [ 6  3  0  3  4  5  6]\n",
            " [ 9  4  0  4  5  7  6]\n",
            " [10  5  0  6  6  7  8]\n",
            " [ 2  1  0  1  2  1  1]\n",
            " [ 3  1  1  1  2  1  1]\n",
            " [ 4  1  1  3  3  4  3]\n",
            " [ 5  3  2  3  4  5  8]\n",
            " [ 5  2  1  3  3  4  3]\n",
            " [ 8  4  0  6  5  6  7]\n",
            " [ 9  4 10  6  5  6  7]\n",
            " [ 1  1  2  2  1  2  1]\n",
            " [ 3  3  3  2  3  4  2]\n",
            " [ 6  4  2  4  4  5  7]\n",
            " [ 4  2  0  1  3  4  4]\n",
            " [ 5  4  0  1  2  1  3]\n",
            " [ 8  5  2  5  5  6  7]\n",
            " [ 2  1  0  1  1  1  1]\n",
            " [ 3  1  1  1  2  1  3]\n",
            " [ 5  4  0  1  3  1  4]\n",
            " [ 7  4  0  3  4  5  7]\n",
            " [ 2  1  0  1  2  1  1]\n",
            " [ 4  1  0  3  3  4  5]\n",
            " [ 5  2  0  3  4  4  5]\n",
            " [10  6  5  6  6  7  7]\n",
            " [ 2  1  0  1  1  1  1]\n",
            " [ 4  3  0  3  2  1  1]\n",
            " [ 5  4  2  3  4  4  1]\n",
            " [ 8  6  5  4  5  6  7]\n",
            " [ 5  4  1  3  4  4  3]\n",
            " [ 6  4  2  3  4  5  6]\n",
            " [ 9  4  3  6  5  6  7]\n",
            " [ 5  4  2  3  3  4  3]\n",
            " [ 7  4  3  4  4  4  7]\n",
            " [ 8  5  5  6  5  4  7]\n",
            " [ 5  4  1  3  3  4  3]\n",
            " [ 7  4  3  4  4  4  7]\n",
            " [ 9  5  5  6  5  6  7]\n",
            " [10  5  5  6  6  7  8]\n",
            " [ 3  1  1  3  3  4  4]\n",
            " [ 6  4  1  4  4  4  6]\n",
            " [ 7  4  3  4  4  5  6]\n",
            " [ 9  4  5  6  5  6  6]\n",
            " [10  5  8  6  6  7  8]\n",
            " [ 3  1  2  3  2  1  2]\n",
            " [ 5  2  3  3  3  4  3]\n",
            " [ 4  3  0  1  2  1  3]\n",
            " [ 5  3  0  3  3  1  7]\n",
            " [ 8  4  0  4  5  6  7]\n",
            " [ 3  1  1  1  2  1  1]\n",
            " [ 5  4  1  3  3  4  3]\n",
            " [ 6  5  2  4  4  5  7]\n",
            " [ 8  5  5  6  5  6  7]\n",
            " [10  5  5  6  6  7  8]]\n",
            "[ 5  7 10 11  1  3  3  5  7  2  4 10  4  7 10 11  1  1  2  4  5  8  9  1\n",
            "  1  7  1  4 10  1  3  3  7  1  4  4 11  1  1  2 11  5  7 10  1  1 10  3\n",
            "  7 10 11  2  2  7 10 11  4  5  1  5  7  1  4  5  7 11]\n"
          ],
          "name": "stdout"
        }
      ]
    },
    {
      "cell_type": "code",
      "metadata": {
        "id": "4FbDssQWZHVV",
        "colab_type": "code",
        "colab": {
          "base_uri": "https://localhost:8080/",
          "height": 1000
        },
        "outputId": "4d62fdce-8722-4586-c66c-5f8e8afd30d1"
      },
      "source": [
        "x_train,x_test,y_train,y_test=train_test_split(x,y,train_size=0.5,random_state=3)\n",
        "# for checking the values\n",
        "print(x_train)\n",
        "print(x_test)\n",
        "print(y_train)\n",
        "print(y_test)"
      ],
      "execution_count": null,
      "outputs": [
        {
          "output_type": "stream",
          "text": [
            "[[ 2  1  0  1  1  1  1]\n",
            " [ 4  4  0  1  2  1  3]\n",
            " [10  5  5  6  6  7  8]\n",
            " [ 9  5  5  6  5  6  7]\n",
            " [ 2  1  0  1  2  1  1]\n",
            " [ 2  1  1  1  1  1  2]\n",
            " [10  5  5  6  6  7  8]\n",
            " [ 6  4  1  5  4  5  7]\n",
            " [ 6  4  2  3  4  5  6]\n",
            " [ 8  4  2  6  5  6  7]\n",
            " [ 9  4 10  6  5  6  7]\n",
            " [ 8  5  5  6  5  4  7]\n",
            " [ 3  1  1  1  2  1  1]\n",
            " [ 4  2  0  1  3  4  4]\n",
            " [ 9  4  0  4  5  7  6]\n",
            " [ 5  4  2  3  4  4  1]\n",
            " [ 2  1  0  1  1  1  1]\n",
            " [ 5  4  2  3  3  4  3]\n",
            " [ 5  2  1  3  3  4  3]\n",
            " [ 7  4  0  3  4  5  7]\n",
            " [ 4  3  0  3  2  1  1]\n",
            " [ 8  4  0  4  5  6  7]\n",
            " [ 4  3  0  1  2  1  3]\n",
            " [ 5  4  1  3  4  4  3]\n",
            " [ 9  4  3  6  5  6  7]\n",
            " [ 6  2  0  3  4  1  6]\n",
            " [ 5  3  2  3  4  5  8]\n",
            " [ 8  4  0  6  5  6  7]\n",
            " [ 5  3  1  3  3  4  3]\n",
            " [ 5  4  0  4  3  5  7]\n",
            " [ 3  1  2  3  2  1  2]\n",
            " [10  5  5  6  6  7  8]\n",
            " [ 3  3  3  2  3  4  2]]\n",
            "[[ 5  4  1  3  3  4  3]\n",
            " [ 9  2  0  4  5  5  6]\n",
            " [ 5  4  0  1  2  1  3]\n",
            " [ 3  1  2  1  2  1  3]\n",
            " [ 6  4  2  4  4  5  7]\n",
            " [ 1  1  0  1  1  1  1]\n",
            " [ 8  5  5  6  5  6  7]\n",
            " [ 6  5  2  4  4  5  7]\n",
            " [ 8  5  2  5  5  6  7]\n",
            " [10  5  8  6  6  7  8]\n",
            " [ 5  4  0  1  3  1  4]\n",
            " [ 5  1  0  3  4  3  7]\n",
            " [ 6  4  1  4  4  4  6]\n",
            " [ 8  6  5  4  5  6  7]\n",
            " [ 7  4  3  4  4  4  7]\n",
            " [ 6  3  0  3  4  5  6]\n",
            " [ 5  3  0  3  3  1  7]\n",
            " [ 4  1  0  3  3  4  5]\n",
            " [ 3  1  1  1  2  1  3]\n",
            " [ 4  1  1  3  3  4  3]\n",
            " [ 4  2  0  1  4  1  1]\n",
            " [ 5  2  0  3  4  4  5]\n",
            " [ 3  1  1  1  2  1  1]\n",
            " [ 5  2  3  3  3  4  3]\n",
            " [ 1  1  2  2  1  2  1]\n",
            " [10  6  5  6  6  7  7]\n",
            " [ 5  4  1  3  3  4  3]\n",
            " [ 9  4  5  6  5  6  6]\n",
            " [ 7  4  3  4  4  4  7]\n",
            " [ 3  1  1  3  3  4  4]\n",
            " [ 7  4  3  4  4  5  6]\n",
            " [ 2  1  0  1  2  1  1]\n",
            " [10  5  0  6  6  7  8]]\n",
            "[ 1  5 11 10  1  3 11  7  7 10  9 10  1  1 10  2  1  1  5  7  1  7  1  5\n",
            " 10  4  4  8  5  7  4 11  1]\n",
            "[ 4 10  4  3  7  1  7  5 10 11  3  4  2 11  7  7  5  4  3  2  2  4  1  5\n",
            "  1 11  3 10  1  2  7  1 11]\n"
          ],
          "name": "stdout"
        }
      ]
    },
    {
      "cell_type": "code",
      "metadata": {
        "id": "TUonavZtZc6t",
        "colab_type": "code",
        "colab": {
          "base_uri": "https://localhost:8080/",
          "height": 1000
        },
        "outputId": "2ada9ec2-0ce9-497a-dfe6-bb386755cf78"
      },
      "source": [
        "sc=StandardScaler()\n",
        "x_train=sc.fit_transform(x_train)\n",
        "x_test=sc.fit_transform(x_test)\n",
        "print(x)\n",
        "print(y)"
      ],
      "execution_count": null,
      "outputs": [
        {
          "output_type": "stream",
          "text": [
            "[[ 5  3  1  3  3  4  3]\n",
            " [ 6  4  1  5  4  5  7]\n",
            " [ 8  4  2  6  5  6  7]\n",
            " [10  5  5  6  6  7  8]\n",
            " [ 1  1  0  1  1  1  1]\n",
            " [ 2  1  1  1  1  1  2]\n",
            " [ 3  1  2  1  2  1  3]\n",
            " [ 4  4  0  1  2  1  3]\n",
            " [ 5  4  0  4  3  5  7]\n",
            " [ 4  2  0  1  4  1  1]\n",
            " [ 6  2  0  3  4  1  6]\n",
            " [ 9  2  0  4  5  5  6]\n",
            " [ 5  1  0  3  4  3  7]\n",
            " [ 6  3  0  3  4  5  6]\n",
            " [ 9  4  0  4  5  7  6]\n",
            " [10  5  0  6  6  7  8]\n",
            " [ 2  1  0  1  2  1  1]\n",
            " [ 3  1  1  1  2  1  1]\n",
            " [ 4  1  1  3  3  4  3]\n",
            " [ 5  3  2  3  4  5  8]\n",
            " [ 5  2  1  3  3  4  3]\n",
            " [ 8  4  0  6  5  6  7]\n",
            " [ 9  4 10  6  5  6  7]\n",
            " [ 1  1  2  2  1  2  1]\n",
            " [ 3  3  3  2  3  4  2]\n",
            " [ 6  4  2  4  4  5  7]\n",
            " [ 4  2  0  1  3  4  4]\n",
            " [ 5  4  0  1  2  1  3]\n",
            " [ 8  5  2  5  5  6  7]\n",
            " [ 2  1  0  1  1  1  1]\n",
            " [ 3  1  1  1  2  1  3]\n",
            " [ 5  4  0  1  3  1  4]\n",
            " [ 7  4  0  3  4  5  7]\n",
            " [ 2  1  0  1  2  1  1]\n",
            " [ 4  1  0  3  3  4  5]\n",
            " [ 5  2  0  3  4  4  5]\n",
            " [10  6  5  6  6  7  7]\n",
            " [ 2  1  0  1  1  1  1]\n",
            " [ 4  3  0  3  2  1  1]\n",
            " [ 5  4  2  3  4  4  1]\n",
            " [ 8  6  5  4  5  6  7]\n",
            " [ 5  4  1  3  4  4  3]\n",
            " [ 6  4  2  3  4  5  6]\n",
            " [ 9  4  3  6  5  6  7]\n",
            " [ 5  4  2  3  3  4  3]\n",
            " [ 7  4  3  4  4  4  7]\n",
            " [ 8  5  5  6  5  4  7]\n",
            " [ 5  4  1  3  3  4  3]\n",
            " [ 7  4  3  4  4  4  7]\n",
            " [ 9  5  5  6  5  6  7]\n",
            " [10  5  5  6  6  7  8]\n",
            " [ 3  1  1  3  3  4  4]\n",
            " [ 6  4  1  4  4  4  6]\n",
            " [ 7  4  3  4  4  5  6]\n",
            " [ 9  4  5  6  5  6  6]\n",
            " [10  5  8  6  6  7  8]\n",
            " [ 3  1  2  3  2  1  2]\n",
            " [ 5  2  3  3  3  4  3]\n",
            " [ 4  3  0  1  2  1  3]\n",
            " [ 5  3  0  3  3  1  7]\n",
            " [ 8  4  0  4  5  6  7]\n",
            " [ 3  1  1  1  2  1  1]\n",
            " [ 5  4  1  3  3  4  3]\n",
            " [ 6  5  2  4  4  5  7]\n",
            " [ 8  5  5  6  5  6  7]\n",
            " [10  5  5  6  6  7  8]]\n",
            "[ 5  7 10 11  1  3  3  5  7  2  4 10  4  7 10 11  1  1  2  4  5  8  9  1\n",
            "  1  7  1  4 10  1  3  3  7  1  4  4 11  1  1  2 11  5  7 10  1  1 10  3\n",
            "  7 10 11  2  2  7 10 11  4  5  1  5  7  1  4  5  7 11]\n"
          ],
          "name": "stdout"
        }
      ]
    },
    {
      "cell_type": "code",
      "metadata": {
        "id": "xFMgk5PrZgcP",
        "colab_type": "code",
        "colab": {}
      },
      "source": [
        "clf = DecisionTreeClassifier(criterion='gini',max_depth=5)"
      ],
      "execution_count": null,
      "outputs": []
    },
    {
      "cell_type": "code",
      "metadata": {
        "id": "nDCipL1BZsTK",
        "colab_type": "code",
        "colab": {
          "base_uri": "https://localhost:8080/",
          "height": 121
        },
        "outputId": "e5b1e356-2b91-43c9-e281-b239f14a985d"
      },
      "source": [
        "clf.fit(x_train,y_train)"
      ],
      "execution_count": null,
      "outputs": [
        {
          "output_type": "execute_result",
          "data": {
            "text/plain": [
              "DecisionTreeClassifier(ccp_alpha=0.0, class_weight=None, criterion='gini',\n",
              "                       max_depth=5, max_features=None, max_leaf_nodes=None,\n",
              "                       min_impurity_decrease=0.0, min_impurity_split=None,\n",
              "                       min_samples_leaf=1, min_samples_split=2,\n",
              "                       min_weight_fraction_leaf=0.0, presort='deprecated',\n",
              "                       random_state=None, splitter='best')"
            ]
          },
          "metadata": {
            "tags": []
          },
          "execution_count": 62
        }
      ]
    },
    {
      "cell_type": "code",
      "metadata": {
        "id": "gMx4q31_Zvc0",
        "colab_type": "code",
        "colab": {}
      },
      "source": [
        "y_pred=clf.predict(x_test)"
      ],
      "execution_count": null,
      "outputs": []
    },
    {
      "cell_type": "code",
      "metadata": {
        "id": "ofKPwJITaBrl",
        "colab_type": "code",
        "colab": {
          "base_uri": "https://localhost:8080/",
          "height": 87
        },
        "outputId": "5afde9cb-9708-4fec-8706-d443cd821057"
      },
      "source": [
        "print(y_pred)\n",
        "print(y_test)"
      ],
      "execution_count": null,
      "outputs": [
        {
          "output_type": "stream",
          "text": [
            "[ 5  7  5  1  7  1 10  7 10 11  5  4  7 10  7  4  4  1  1  1  1  5  1  1\n",
            "  3 11  5 10  7  1  7  1 11]\n",
            "[ 4 10  4  3  7  1  7  5 10 11  3  4  2 11  7  7  5  4  3  2  2  4  1  5\n",
            "  1 11  3 10  1  2  7  1 11]\n"
          ],
          "name": "stdout"
        }
      ]
    },
    {
      "cell_type": "code",
      "metadata": {
        "id": "KeSPVvuzc0l0",
        "colab_type": "code",
        "colab": {
          "base_uri": "https://localhost:8080/",
          "height": 139
        },
        "outputId": "e15a51b0-763d-4ae8-cb45-da27328ba3fd"
      },
      "source": [
        "a=int(input(\"Write paygrade value\"))\n",
        "b=int(input(\"Write Educationlevel value\"))\n",
        "c=int(input(\"Write Experience value\"))\n",
        "d=int(input(\"Write OrgImpact Value\"))\n",
        "e=int(input(\"Write ProblemSolving value\"))\n",
        "f=int(input(\"Write Supervision value\"))\n",
        "g=int(input(\"Write ContactLevel value\"))"
      ],
      "execution_count": null,
      "outputs": [
        {
          "output_type": "stream",
          "text": [
            "Write paygrade value2\n",
            "Write Educationlevel value5\n",
            "Write Experience value10\n",
            "Write OrgImpact Value5\n",
            "Write ProblemSolving value9\n",
            "Write Supervision value3\n",
            "Write ContactLevel value8\n"
          ],
          "name": "stdout"
        }
      ]
    },
    {
      "cell_type": "code",
      "metadata": {
        "id": "LJb-mcxAaEin",
        "colab_type": "code",
        "colab": {
          "base_uri": "https://localhost:8080/",
          "height": 35
        },
        "outputId": "f0480b67-c15e-4b7a-af4d-1cf1a8637803"
      },
      "source": [
        "t1=sc.transform([[a,b,c,d,e,f,g]])\n",
        "pt1=clf.predict(t1)\n",
        "pt1"
      ],
      "execution_count": null,
      "outputs": [
        {
          "output_type": "execute_result",
          "data": {
            "text/plain": [
              "array([11])"
            ]
          },
          "metadata": {
            "tags": []
          },
          "execution_count": 75
        }
      ]
    },
    {
      "cell_type": "code",
      "metadata": {
        "id": "iOUQVxJjdM-c",
        "colab_type": "code",
        "colab": {}
      },
      "source": [
        ""
      ],
      "execution_count": null,
      "outputs": []
    }
  ]
}