{
  "nbformat": 4,
  "nbformat_minor": 0,
  "metadata": {
    "colab": {
      "name": "AI Python 26.ipynb",
      "provenance": [],
      "collapsed_sections": []
    },
    "kernelspec": {
      "name": "python3",
      "display_name": "Python 3"
    }
  },
  "cells": [
    {
      "cell_type": "code",
      "metadata": {
        "id": "PAnAKckb60fJ",
        "colab_type": "code",
        "colab": {}
      },
      "source": [
        "import pandas as pd\n",
        "data=pd.read_csv('chess.csv')\n",
        "data=data.fillna(0)"
      ],
      "execution_count": null,
      "outputs": []
    },
    {
      "cell_type": "code",
      "metadata": {
        "id": "98EViTV37hF4",
        "colab_type": "code",
        "colab": {}
      },
      "source": [
        "features=data.iloc[:,[0,2,7,8]].values\n",
        "target=data.iloc[:,6].values"
      ],
      "execution_count": null,
      "outputs": []
    },
    {
      "cell_type": "code",
      "metadata": {
        "id": "3rfGJju37pK-",
        "colab_type": "code",
        "colab": {}
      },
      "source": [
        "from sklearn.preprocessing import LabelEncoder\n",
        "features[:,1]=LabelEncoder().fit_transform(features[:,1])"
      ],
      "execution_count": null,
      "outputs": []
    },
    {
      "cell_type": "code",
      "metadata": {
        "id": "JvQGqXPZ7umE",
        "colab_type": "code",
        "colab": {
          "base_uri": "https://localhost:8080/",
          "height": 295
        },
        "outputId": "1fbbe89c-47c9-4578-a021-e533833d65cc"
      },
      "source": [
        "from sklearn.model_selection import train_test_split\n",
        "# splitting training and test data\n",
        "features_train,features_test,target_train,target_test=train_test_split(features,target,train_size=0.85,random_state=0)\n",
        "# for checking the values\n",
        "print(features_train)\n",
        "print(features_test)\n",
        "print(target_train)\n",
        "print(target_test)"
      ],
      "execution_count": null,
      "outputs": [
        {
          "output_type": "stream",
          "text": [
            "[[3406644 21 0.0 0.0]\n",
            " [2110970 17 0.0 0.0]\n",
            " [12426512 120 0.0 0.0]\n",
            " ...\n",
            " [24159182 96 1910.0 2024.0]\n",
            " [405221 33 2011.0 2087.0]\n",
            " [2245400 35 1947.0 0.0]]\n",
            "[[13901036 72 0.0 1957.0]\n",
            " [4402081 23 1902.0 1875.0]\n",
            " [1130005 90 1833.0 0.0]\n",
            " ...\n",
            " [14114321 115 0.0 0.0]\n",
            " [369098 28 1948.0 1864.0]\n",
            " [4109376 96 0.0 0.0]]\n",
            "[1834 1987 1857 ... 1968 2038 2061]\n",
            "[2013 1971 1903 ... 2102 1943 2155]\n"
          ],
          "name": "stdout"
        }
      ]
    },
    {
      "cell_type": "code",
      "metadata": {
        "id": "rPimj2EV70oU",
        "colab_type": "code",
        "colab": {
          "base_uri": "https://localhost:8080/",
          "height": 156
        },
        "outputId": "2cf8449e-be69-47ab-8f27-60e66a2298e7"
      },
      "source": [
        "from sklearn.preprocessing import StandardScaler\n",
        "sc=StandardScaler()\n",
        "features_train=sc.fit_transform(features_train)\n",
        "features_test=sc.fit_transform(features_test)\n",
        "print(features)\n",
        "print(target)"
      ],
      "execution_count": null,
      "outputs": [
        {
          "output_type": "stream",
          "text": [
            "[[700070 47 2646.0 2736.0]\n",
            " [8602980 22 2621.0 2601.0]\n",
            " [5008123 49 2483.0 2483.0]\n",
            " ...\n",
            " [5038294 49 1884.0 1824.0]\n",
            " [2072491 117 0.0 0.0]\n",
            " [4666399 42 0.0 0.0]]\n",
            "[2675 2658 2586 ... 1801 1801 1801]\n"
          ],
          "name": "stdout"
        }
      ]
    },
    {
      "cell_type": "code",
      "metadata": {
        "id": "GNErjfRl75s6",
        "colab_type": "code",
        "colab": {}
      },
      "source": [
        "from sklearn import neighbors, datasets\n",
        "n_neighbors = 15\n",
        "care = neighbors.KNeighborsClassifier(n_neighbors)"
      ],
      "execution_count": null,
      "outputs": []
    },
    {
      "cell_type": "code",
      "metadata": {
        "id": "RXyQGmxd9AbU",
        "colab_type": "code",
        "colab": {
          "base_uri": "https://localhost:8080/",
          "height": 69
        },
        "outputId": "06a1b7a8-ba00-405e-890b-3cb72864a91a"
      },
      "source": [
        "care.fit(features_train,target_train)"
      ],
      "execution_count": null,
      "outputs": [
        {
          "output_type": "execute_result",
          "data": {
            "text/plain": [
              "KNeighborsClassifier(algorithm='auto', leaf_size=30, metric='minkowski',\n",
              "                     metric_params=None, n_jobs=None, n_neighbors=15, p=2,\n",
              "                     weights='uniform')"
            ]
          },
          "metadata": {
            "tags": []
          },
          "execution_count": 8
        }
      ]
    },
    {
      "cell_type": "code",
      "metadata": {
        "id": "471q9DoC9CiB",
        "colab_type": "code",
        "colab": {}
      },
      "source": [
        "guess = care.predict(features_test)"
      ],
      "execution_count": null,
      "outputs": []
    },
    {
      "cell_type": "code",
      "metadata": {
        "id": "kM1fTvkF9Ea8",
        "colab_type": "code",
        "colab": {
          "base_uri": "https://localhost:8080/",
          "height": 52
        },
        "outputId": "46375d24-2349-4995-890f-7697ba1206f8"
      },
      "source": [
        "print(guess)\n",
        "print(target_test)"
      ],
      "execution_count": null,
      "outputs": [
        {
          "output_type": "stream",
          "text": [
            "[1816 1820 1809 ... 1831 1831 1916]\n",
            "[2013 1971 1903 ... 2102 1943 2155]\n"
          ],
          "name": "stdout"
        }
      ]
    },
    {
      "cell_type": "code",
      "metadata": {
        "id": "_bSkaftS9F-o",
        "colab_type": "code",
        "colab": {}
      },
      "source": [
        "from sklearn.metrics import mean_squared_error,r2_score"
      ],
      "execution_count": null,
      "outputs": []
    },
    {
      "cell_type": "code",
      "metadata": {
        "id": "asqi_vz19H1z",
        "colab_type": "code",
        "colab": {
          "base_uri": "https://localhost:8080/",
          "height": 35
        },
        "outputId": "aafe226a-09e5-4fad-82c8-bbcc0a33c0fb"
      },
      "source": [
        "# for MSE\n",
        "mse=mean_squared_error(guess,target_test)\n",
        "print(mse)"
      ],
      "execution_count": null,
      "outputs": [
        {
          "output_type": "stream",
          "text": [
            "32817.044427123925\n"
          ],
          "name": "stdout"
        }
      ]
    },
    {
      "cell_type": "code",
      "metadata": {
        "id": "OtRs047n9Jeg",
        "colab_type": "code",
        "colab": {
          "base_uri": "https://localhost:8080/",
          "height": 35
        },
        "outputId": "bfffe0f4-5a38-4c4a-dbfb-82f60f6a9caa"
      },
      "source": [
        "score=r2_score(guess,target_test)\n",
        "print(score) # K nearest neighbour"
      ],
      "execution_count": null,
      "outputs": [
        {
          "output_type": "stream",
          "text": [
            "-2.0141717128358567\n"
          ],
          "name": "stdout"
        }
      ]
    },
    {
      "cell_type": "code",
      "metadata": {
        "id": "tQ5993ZG9LTp",
        "colab_type": "code",
        "colab": {}
      },
      "source": [
        ""
      ],
      "execution_count": null,
      "outputs": []
    }
  ]
}