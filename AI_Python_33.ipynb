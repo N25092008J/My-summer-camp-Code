{
  "nbformat": 4,
  "nbformat_minor": 0,
  "metadata": {
    "colab": {
      "name": "AI Python 33.ipynb",
      "provenance": [],
      "collapsed_sections": []
    },
    "kernelspec": {
      "name": "python3",
      "display_name": "Python 3"
    }
  },
  "cells": [
    {
      "cell_type": "code",
      "metadata": {
        "id": "-X89GZZuqXlh",
        "colab_type": "code",
        "colab": {
          "base_uri": "https://localhost:8080/",
          "height": 202
        },
        "outputId": "586502ad-1426-4bbe-a4c5-81b57ebc84a7"
      },
      "source": [
        "import pandas as pd\n",
        "data = pd.read_csv('heart.csv')\n",
        "data.head()"
      ],
      "execution_count": null,
      "outputs": [
        {
          "output_type": "execute_result",
          "data": {
            "text/html": [
              "<div>\n",
              "<style scoped>\n",
              "    .dataframe tbody tr th:only-of-type {\n",
              "        vertical-align: middle;\n",
              "    }\n",
              "\n",
              "    .dataframe tbody tr th {\n",
              "        vertical-align: top;\n",
              "    }\n",
              "\n",
              "    .dataframe thead th {\n",
              "        text-align: right;\n",
              "    }\n",
              "</style>\n",
              "<table border=\"1\" class=\"dataframe\">\n",
              "  <thead>\n",
              "    <tr style=\"text-align: right;\">\n",
              "      <th></th>\n",
              "      <th>age</th>\n",
              "      <th>sex</th>\n",
              "      <th>cp</th>\n",
              "      <th>trestbps</th>\n",
              "      <th>chol</th>\n",
              "      <th>fbs</th>\n",
              "      <th>restecg</th>\n",
              "      <th>thalach</th>\n",
              "      <th>exang</th>\n",
              "      <th>oldpeak</th>\n",
              "      <th>slope</th>\n",
              "      <th>ca</th>\n",
              "      <th>thal</th>\n",
              "      <th>target</th>\n",
              "    </tr>\n",
              "  </thead>\n",
              "  <tbody>\n",
              "    <tr>\n",
              "      <th>0</th>\n",
              "      <td>63</td>\n",
              "      <td>1</td>\n",
              "      <td>3</td>\n",
              "      <td>145</td>\n",
              "      <td>233</td>\n",
              "      <td>1</td>\n",
              "      <td>0</td>\n",
              "      <td>150</td>\n",
              "      <td>0</td>\n",
              "      <td>2.3</td>\n",
              "      <td>0</td>\n",
              "      <td>0</td>\n",
              "      <td>1</td>\n",
              "      <td>1</td>\n",
              "    </tr>\n",
              "    <tr>\n",
              "      <th>1</th>\n",
              "      <td>37</td>\n",
              "      <td>1</td>\n",
              "      <td>2</td>\n",
              "      <td>130</td>\n",
              "      <td>250</td>\n",
              "      <td>0</td>\n",
              "      <td>1</td>\n",
              "      <td>187</td>\n",
              "      <td>0</td>\n",
              "      <td>3.5</td>\n",
              "      <td>0</td>\n",
              "      <td>0</td>\n",
              "      <td>2</td>\n",
              "      <td>1</td>\n",
              "    </tr>\n",
              "    <tr>\n",
              "      <th>2</th>\n",
              "      <td>41</td>\n",
              "      <td>0</td>\n",
              "      <td>1</td>\n",
              "      <td>130</td>\n",
              "      <td>204</td>\n",
              "      <td>0</td>\n",
              "      <td>0</td>\n",
              "      <td>172</td>\n",
              "      <td>0</td>\n",
              "      <td>1.4</td>\n",
              "      <td>2</td>\n",
              "      <td>0</td>\n",
              "      <td>2</td>\n",
              "      <td>1</td>\n",
              "    </tr>\n",
              "    <tr>\n",
              "      <th>3</th>\n",
              "      <td>56</td>\n",
              "      <td>1</td>\n",
              "      <td>1</td>\n",
              "      <td>120</td>\n",
              "      <td>236</td>\n",
              "      <td>0</td>\n",
              "      <td>1</td>\n",
              "      <td>178</td>\n",
              "      <td>0</td>\n",
              "      <td>0.8</td>\n",
              "      <td>2</td>\n",
              "      <td>0</td>\n",
              "      <td>2</td>\n",
              "      <td>1</td>\n",
              "    </tr>\n",
              "    <tr>\n",
              "      <th>4</th>\n",
              "      <td>57</td>\n",
              "      <td>0</td>\n",
              "      <td>0</td>\n",
              "      <td>120</td>\n",
              "      <td>354</td>\n",
              "      <td>0</td>\n",
              "      <td>1</td>\n",
              "      <td>163</td>\n",
              "      <td>1</td>\n",
              "      <td>0.6</td>\n",
              "      <td>2</td>\n",
              "      <td>0</td>\n",
              "      <td>2</td>\n",
              "      <td>1</td>\n",
              "    </tr>\n",
              "  </tbody>\n",
              "</table>\n",
              "</div>"
            ],
            "text/plain": [
              "   age  sex  cp  trestbps  chol  fbs  ...  exang  oldpeak  slope  ca  thal  target\n",
              "0   63    1   3       145   233    1  ...      0      2.3      0   0     1       1\n",
              "1   37    1   2       130   250    0  ...      0      3.5      0   0     2       1\n",
              "2   41    0   1       130   204    0  ...      0      1.4      2   0     2       1\n",
              "3   56    1   1       120   236    0  ...      0      0.8      2   0     2       1\n",
              "4   57    0   0       120   354    0  ...      1      0.6      2   0     2       1\n",
              "\n",
              "[5 rows x 14 columns]"
            ]
          },
          "metadata": {
            "tags": []
          },
          "execution_count": 1
        }
      ]
    },
    {
      "cell_type": "code",
      "metadata": {
        "id": "GYyG7TiwvBPm",
        "colab_type": "code",
        "colab": {}
      },
      "source": [
        "features = data.iloc[:,[0,1,3,4,7,9]].values\n",
        "target = data.iloc[:,13].values"
      ],
      "execution_count": null,
      "outputs": []
    },
    {
      "cell_type": "code",
      "metadata": {
        "id": "hlA3fqUmvyCW",
        "colab_type": "code",
        "colab": {
          "base_uri": "https://localhost:8080/",
          "height": 295
        },
        "outputId": "376fd636-3bff-4961-bd98-f2f352008761"
      },
      "source": [
        "print(features)\n",
        "print(target)"
      ],
      "execution_count": null,
      "outputs": [
        {
          "output_type": "stream",
          "text": [
            "[[ 63.    1.  145.  233.  150.    2.3]\n",
            " [ 37.    1.  130.  250.  187.    3.5]\n",
            " [ 41.    0.  130.  204.  172.    1.4]\n",
            " ...\n",
            " [ 68.    1.  144.  193.  141.    3.4]\n",
            " [ 57.    1.  130.  131.  115.    1.2]\n",
            " [ 57.    0.  130.  236.  174.    0. ]]\n",
            "[1 1 1 1 1 1 1 1 1 1 1 1 1 1 1 1 1 1 1 1 1 1 1 1 1 1 1 1 1 1 1 1 1 1 1 1 1\n",
            " 1 1 1 1 1 1 1 1 1 1 1 1 1 1 1 1 1 1 1 1 1 1 1 1 1 1 1 1 1 1 1 1 1 1 1 1 1\n",
            " 1 1 1 1 1 1 1 1 1 1 1 1 1 1 1 1 1 1 1 1 1 1 1 1 1 1 1 1 1 1 1 1 1 1 1 1 1\n",
            " 1 1 1 1 1 1 1 1 1 1 1 1 1 1 1 1 1 1 1 1 1 1 1 1 1 1 1 1 1 1 1 1 1 1 1 1 1\n",
            " 1 1 1 1 1 1 1 1 1 1 1 1 1 1 1 1 1 0 0 0 0 0 0 0 0 0 0 0 0 0 0 0 0 0 0 0 0\n",
            " 0 0 0 0 0 0 0 0 0 0 0 0 0 0 0 0 0 0 0 0 0 0 0 0 0 0 0 0 0 0 0 0 0 0 0 0 0\n",
            " 0 0 0 0 0 0 0 0 0 0 0 0 0 0 0 0 0 0 0 0 0 0 0 0 0 0 0 0 0 0 0 0 0 0 0 0 0\n",
            " 0 0 0 0 0 0 0 0 0 0 0 0 0 0 0 0 0 0 0 0 0 0 0 0 0 0 0 0 0 0 0 0 0 0 0 0 0\n",
            " 0 0 0 0 0 0 0]\n"
          ],
          "name": "stdout"
        }
      ]
    },
    {
      "cell_type": "code",
      "metadata": {
        "id": "NJYjgaf6v1Xg",
        "colab_type": "code",
        "colab": {
          "base_uri": "https://localhost:8080/",
          "height": 1000
        },
        "outputId": "61348344-3a31-4d8b-e1e0-0e5c224c46dd"
      },
      "source": [
        "from sklearn.model_selection import train_test_split\n",
        "# splitting training and test data\n",
        "features_train,features_test,target_train,target_test=train_test_split(features,target,train_size=0.85,random_state=0)\n",
        "# for checking the values\n",
        "print(features_train)\n",
        "print(features_test)\n",
        "print(target_train)\n",
        "print(target_test)"
      ],
      "execution_count": null,
      "outputs": [
        {
          "output_type": "stream",
          "text": [
            "[[ 41.    1.  130.  214.  168.    2. ]\n",
            " [ 50.    1.  140.  233.  163.    0.6]\n",
            " [ 56.    0.  134.  409.  150.    1.9]\n",
            " ...\n",
            " [ 56.    1.  120.  193.  162.    1.9]\n",
            " [ 47.    1.  138.  257.  156.    0. ]\n",
            " [ 58.    1.  120.  284.  160.    1.8]]\n",
            "[[7.00e+01 1.00e+00 1.45e+02 1.74e+02 1.25e+02 2.60e+00]\n",
            " [6.40e+01 1.00e+00 1.70e+02 2.27e+02 1.55e+02 6.00e-01]\n",
            " [5.90e+01 1.00e+00 1.70e+02 2.88e+02 1.59e+02 2.00e-01]\n",
            " [6.00e+01 1.00e+00 1.25e+02 2.58e+02 1.41e+02 2.80e+00]\n",
            " [6.20e+01 1.00e+00 1.30e+02 2.31e+02 1.46e+02 1.80e+00]\n",
            " [4.80e+01 1.00e+00 1.24e+02 2.74e+02 1.66e+02 5.00e-01]\n",
            " [4.00e+01 1.00e+00 1.10e+02 1.67e+02 1.14e+02 2.00e+00]\n",
            " [6.30e+01 1.00e+00 1.30e+02 2.54e+02 1.47e+02 1.40e+00]\n",
            " [5.60e+01 0.00e+00 2.00e+02 2.88e+02 1.33e+02 4.00e+00]\n",
            " [6.30e+01 1.00e+00 1.30e+02 3.30e+02 1.32e+02 1.80e+00]\n",
            " [5.70e+01 1.00e+00 1.50e+02 1.26e+02 1.73e+02 2.00e-01]\n",
            " [4.90e+01 0.00e+00 1.30e+02 2.69e+02 1.63e+02 0.00e+00]\n",
            " [6.50e+01 1.00e+00 1.35e+02 2.54e+02 1.27e+02 2.80e+00]\n",
            " [4.90e+01 1.00e+00 1.30e+02 2.66e+02 1.71e+02 6.00e-01]\n",
            " [5.00e+01 0.00e+00 1.20e+02 2.19e+02 1.58e+02 1.60e+00]\n",
            " [5.10e+01 1.00e+00 1.00e+02 2.22e+02 1.43e+02 1.20e+00]\n",
            " [5.20e+01 1.00e+00 1.08e+02 2.33e+02 1.47e+02 1.00e-01]\n",
            " [4.80e+01 1.00e+00 1.24e+02 2.55e+02 1.75e+02 0.00e+00]\n",
            " [6.20e+01 1.00e+00 1.20e+02 2.67e+02 9.90e+01 1.80e+00]\n",
            " [4.20e+01 1.00e+00 1.20e+02 2.40e+02 1.94e+02 8.00e-01]\n",
            " [4.20e+01 1.00e+00 1.40e+02 2.26e+02 1.78e+02 0.00e+00]\n",
            " [3.90e+01 1.00e+00 1.18e+02 2.19e+02 1.40e+02 1.20e+00]\n",
            " [6.20e+01 1.00e+00 1.20e+02 2.81e+02 1.03e+02 1.40e+00]\n",
            " [5.40e+01 1.00e+00 1.10e+02 2.06e+02 1.08e+02 0.00e+00]\n",
            " [4.10e+01 1.00e+00 1.10e+02 2.35e+02 1.53e+02 0.00e+00]\n",
            " [6.20e+01 0.00e+00 1.30e+02 2.63e+02 9.70e+01 1.20e+00]\n",
            " [5.20e+01 1.00e+00 1.25e+02 2.12e+02 1.68e+02 1.00e+00]\n",
            " [4.60e+01 1.00e+00 1.20e+02 2.49e+02 1.44e+02 8.00e-01]\n",
            " [3.90e+01 0.00e+00 1.38e+02 2.20e+02 1.52e+02 0.00e+00]\n",
            " [5.20e+01 1.00e+00 1.34e+02 2.01e+02 1.58e+02 8.00e-01]\n",
            " [6.00e+01 1.00e+00 1.40e+02 1.85e+02 1.55e+02 3.00e+00]\n",
            " [4.50e+01 1.00e+00 1.42e+02 3.09e+02 1.47e+02 0.00e+00]\n",
            " [4.10e+01 0.00e+00 1.26e+02 3.06e+02 1.63e+02 0.00e+00]\n",
            " [5.20e+01 1.00e+00 1.72e+02 1.99e+02 1.62e+02 5.00e-01]\n",
            " [3.50e+01 1.00e+00 1.22e+02 1.92e+02 1.74e+02 0.00e+00]\n",
            " [5.90e+01 0.00e+00 1.74e+02 2.49e+02 1.43e+02 0.00e+00]\n",
            " [7.00e+01 1.00e+00 1.60e+02 2.69e+02 1.12e+02 2.90e+00]\n",
            " [4.50e+01 1.00e+00 1.28e+02 3.08e+02 1.70e+02 0.00e+00]\n",
            " [5.60e+01 1.00e+00 1.25e+02 2.49e+02 1.44e+02 1.20e+00]\n",
            " [6.20e+01 0.00e+00 1.40e+02 2.68e+02 1.60e+02 3.60e+00]\n",
            " [5.70e+01 1.00e+00 1.40e+02 1.92e+02 1.48e+02 4.00e-01]\n",
            " [5.70e+01 0.00e+00 1.28e+02 3.03e+02 1.59e+02 0.00e+00]\n",
            " [5.20e+01 1.00e+00 1.38e+02 2.23e+02 1.69e+02 0.00e+00]\n",
            " [4.70e+01 1.00e+00 1.10e+02 2.75e+02 1.18e+02 1.00e+00]\n",
            " [5.10e+01 1.00e+00 1.25e+02 2.13e+02 1.25e+02 1.40e+00]\n",
            " [7.00e+01 1.00e+00 1.56e+02 2.45e+02 1.43e+02 0.00e+00]]\n",
            "[1 0 0 1 1 1 1 1 1 0 1 0 1 1 1 1 1 1 0 0 0 0 1 1 1 1 1 0 0 1 0 0 1 1 0 0 0\n",
            " 1 0 0 0 0 1 0 0 1 1 0 1 1 0 0 1 0 0 1 0 1 0 0 0 1 1 1 0 0 0 0 1 0 1 1 1 0\n",
            " 1 1 1 0 1 1 1 1 1 1 1 0 0 1 1 0 1 1 0 0 0 0 1 0 1 1 0 1 1 1 1 1 1 0 0 1 0\n",
            " 0 0 1 1 1 0 1 0 1 1 0 1 1 1 1 1 0 0 1 0 1 0 0 1 0 0 1 1 1 0 0 1 1 0 1 0 1\n",
            " 0 1 1 0 1 1 1 0 1 0 0 0 1 1 1 1 0 1 0 1 0 1 1 1 0 1 0 1 0 0 0 1 1 0 1 0 1\n",
            " 1 0 0 1 0 1 1 0 1 1 1 1 1 0 0 1 1 1 0 0 1 1 1 1 1 0 1 1 0 1 1 0 1 1 0 0 1\n",
            " 1 1 0 0 0 1 0 0 1 0 0 1 0 1 1 0 0 0 0 1 0 1 1 1 0 0 0 0 1 0 0 0 1 1 0]\n",
            "[0 1 0 0 1 0 0 0 0 0 1 1 0 1 1 1 1 1 0 1 1 0 0 0 1 0 0 0 1 1 0 0 1 1 1 0 0\n",
            " 1 0 0 1 1 1 0 1 1]\n"
          ],
          "name": "stdout"
        }
      ]
    },
    {
      "cell_type": "code",
      "metadata": {
        "id": "wqMlwopnv98J",
        "colab_type": "code",
        "colab": {
          "base_uri": "https://localhost:8080/",
          "height": 1000
        },
        "outputId": "aac8d65a-3873-4524-b059-301a94872bf1"
      },
      "source": [
        "from sklearn.preprocessing import StandardScaler\n",
        "sc=StandardScaler()\n",
        "features_train=sc.fit_transform(features_train)\n",
        "features_test=sc.fit_transform(features_test)\n",
        "print(features_train)\n",
        "print(features_test)"
      ],
      "execution_count": null,
      "outputs": [
        {
          "output_type": "stream",
          "text": [
            "[[-1.49122762  0.71537732 -0.07533399 -0.61837547  0.77899916  0.81690612]\n",
            " [-0.49950551  0.71537732  0.51135801 -0.26234111  0.56110323 -0.3769315 ]\n",
            " [ 0.16164256 -1.39786372  0.15934281  3.03566141 -0.0054262   0.731632  ]\n",
            " ...\n",
            " [ 0.16164256  0.71537732 -0.66202599 -1.01188714  0.51752404  0.731632  ]\n",
            " [-0.83007955  0.71537732  0.39401961  0.18738651  0.25604892 -0.88857619]\n",
            " [ 0.38202525  0.71537732 -0.66202599  0.69333007  0.43036567  0.64635789]]\n",
            "[[ 1.84770849e+00  4.93196962e-01  5.79748109e-01 -1.65002445e+00\n",
            "  -9.88653416e-01  1.45686136e+00]\n",
            " [ 1.17845975e+00  4.93196962e-01  1.84245706e+00 -3.66847542e-01\n",
            "   3.60843829e-01 -3.94398931e-01]\n",
            " [ 6.20752459e-01  4.93196962e-01  1.84245706e+00  1.11001645e+00\n",
            "   5.40776795e-01 -7.64650988e-01]\n",
            " [ 7.32293917e-01  4.93196962e-01 -4.30419050e-01  3.83689897e-01\n",
            "  -2.68921552e-01  1.64198739e+00]\n",
            " [ 9.55376832e-01  4.93196962e-01 -1.77877261e-01 -2.70004001e-01\n",
            "  -4.40053449e-02  7.16357242e-01]\n",
            " [-6.06203573e-01  4.93196962e-01 -4.80927408e-01  7.71064059e-01\n",
            "   8.55659485e-01 -4.86961945e-01]\n",
            " [-1.49853523e+00  4.93196962e-01 -1.18804442e+00 -1.81950065e+00\n",
            "  -1.48346907e+00  9.01483271e-01]\n",
            " [ 1.06691829e+00  4.93196962e-01 -1.77877261e-01  2.86846356e-01\n",
            "   9.77896554e-04  3.46105184e-01]\n",
            " [ 2.86128087e-01 -2.02758751e+00  3.35770780e+00  1.11001645e+00\n",
            "  -6.28787484e-01  2.75274356e+00]\n",
            " [ 1.06691829e+00  4.93196962e-01 -1.77877261e-01  2.12687363e+00\n",
            "  -6.73770726e-01  7.16357242e-01]\n",
            " [ 3.97669544e-01  4.93196962e-01  8.32289898e-01 -2.81214694e+00\n",
            "   1.17054218e+00 -7.64650988e-01]\n",
            " [-4.94662116e-01 -2.02758751e+00 -1.77877261e-01  6.50009633e-01\n",
            "   7.20709760e-01 -9.49777017e-01]\n",
            " [ 1.29000120e+00  4.93196962e-01  7.46645291e-02  2.86846356e-01\n",
            "  -8.98686933e-01  1.64198739e+00]\n",
            " [-4.94662116e-01  4.93196962e-01 -1.77877261e-01  5.77376978e-01\n",
            "   1.08057569e+00 -3.94398931e-01]\n",
            " [-3.83120658e-01 -2.02758751e+00 -6.82960840e-01 -5.60534623e-01\n",
            "   4.95793553e-01  5.31231213e-01]\n",
            " [-2.71579201e-01  4.93196962e-01 -1.69312800e+00 -4.87901968e-01\n",
            "  -1.78955069e-01  1.60979155e-01]\n",
            " [-1.60037743e-01  4.93196962e-01 -1.28906114e+00 -2.21582231e-01\n",
            "   9.77896554e-04 -8.57214003e-01]\n",
            " [-6.06203573e-01  4.93196962e-01 -4.80927408e-01  3.11057241e-01\n",
            "   1.26050866e+00 -9.49777017e-01]\n",
            " [ 9.55376832e-01  4.93196962e-01 -6.82960840e-01  6.01587863e-01\n",
            "  -2.15821770e+00  7.16357242e-01]\n",
            " [-1.27545232e+00  4.93196962e-01 -6.82960840e-01 -5.21060354e-02\n",
            "   2.11519025e+00 -2.09272902e-01]\n",
            " [-1.27545232e+00  4.93196962e-01  3.27206319e-01 -3.91058427e-01\n",
            "   1.39545838e+00 -9.49777017e-01]\n",
            " [-1.61007669e+00  4.93196962e-01 -7.83977556e-01 -5.60534623e-01\n",
            "  -3.13904794e-01  1.60979155e-01]\n",
            " [ 9.55376832e-01  4.93196962e-01 -6.82960840e-01  9.40540255e-01\n",
            "  -1.97828473e+00  3.46105184e-01]\n",
            " [ 6.30451716e-02  4.93196962e-01 -1.18804442e+00 -8.75276130e-01\n",
            "  -1.75336852e+00 -9.49777017e-01]\n",
            " [-1.38699378e+00  4.93196962e-01 -1.18804442e+00 -1.73160461e-01\n",
            "   2.70877346e-01 -9.49777017e-01]\n",
            " [ 9.55376832e-01 -2.02758751e+00 -1.77877261e-01  5.04744322e-01\n",
            "  -2.24818418e+00  1.60979155e-01]\n",
            " [-1.60037743e-01  4.93196962e-01 -4.30419050e-01 -7.30010819e-01\n",
            "   9.45625968e-01 -2.41468733e-02]\n",
            " [-8.29286488e-01  4.93196962e-01 -6.82960840e-01  1.65791931e-01\n",
            "  -1.33971828e-01 -2.09272902e-01]\n",
            " [-1.61007669e+00 -2.02758751e+00  2.26189603e-01 -5.36323738e-01\n",
            "   2.25894104e-01 -9.49777017e-01]\n",
            " [-1.60037743e-01  4.93196962e-01  2.41561712e-02 -9.96330555e-01\n",
            "   4.95793553e-01 -2.09272902e-01]\n",
            " [ 7.32293917e-01  4.93196962e-01  3.27206319e-01 -1.38370472e+00\n",
            "   3.60843829e-01  1.82711341e+00]\n",
            " [-9.40827946e-01  4.93196962e-01  4.28223035e-01  1.61844504e+00\n",
            "   9.77896554e-04 -9.49777017e-01]\n",
            " [-1.38699378e+00 -2.02758751e+00 -3.79910692e-01  1.54581238e+00\n",
            "   7.20709760e-01 -9.49777017e-01]\n",
            " [-1.60037743e-01  4.93196962e-01  1.94347377e+00 -1.04475233e+00\n",
            "   6.75726519e-01 -4.86961945e-01]\n",
            " [-2.05624252e+00  4.93196962e-01 -5.81944124e-01 -1.21422852e+00\n",
            "   1.21552542e+00 -9.49777017e-01]\n",
            " [ 6.20752459e-01 -2.02758751e+00  2.04449049e+00  1.65791931e-01\n",
            "  -1.78955069e-01 -9.49777017e-01]\n",
            " [ 1.84770849e+00  4.93196962e-01  1.33737348e+00  6.50009633e-01\n",
            "  -1.57343556e+00  1.73455040e+00]\n",
            " [-9.40827946e-01  4.93196962e-01 -2.78893976e-01  1.59423415e+00\n",
            "   1.03559245e+00 -9.49777017e-01]\n",
            " [ 2.86128087e-01  4.93196962e-01 -4.30419050e-01  1.65791931e-01\n",
            "  -1.33971828e-01  1.60979155e-01]\n",
            " [ 9.55376832e-01 -2.02758751e+00  3.27206319e-01  6.25798748e-01\n",
            "   5.85760036e-01  2.38249150e+00]\n",
            " [ 3.97669544e-01  4.93196962e-01  3.27206319e-01 -1.21422852e+00\n",
            "   4.59611381e-02 -5.79524960e-01]\n",
            " [ 3.97669544e-01 -2.02758751e+00 -2.78893976e-01  1.47317973e+00\n",
            "   5.40776795e-01 -9.49777017e-01]\n",
            " [-1.60037743e-01  4.93196962e-01  2.26189603e-01 -4.63691082e-01\n",
            "   9.90609209e-01 -9.49777017e-01]\n",
            " [-7.17745031e-01  4.93196962e-01 -1.18804442e+00  7.95274944e-01\n",
            "  -1.30353611e+00 -2.41468733e-02]\n",
            " [-2.71579201e-01  4.93196962e-01 -4.30419050e-01 -7.05799934e-01\n",
            "  -9.88653416e-01  3.46105184e-01]\n",
            " [ 1.84770849e+00  4.93196962e-01  1.13534005e+00  6.89483902e-02\n",
            "  -1.78955069e-01 -9.49777017e-01]]\n"
          ],
          "name": "stdout"
        }
      ]
    },
    {
      "cell_type": "code",
      "metadata": {
        "id": "8Di-gkjkwDAm",
        "colab_type": "code",
        "colab": {}
      },
      "source": [
        "from sklearn import neighbors, datasets\n",
        "n_neighbors = 15\n",
        "care = neighbors.KNeighborsClassifier(n_neighbors)"
      ],
      "execution_count": null,
      "outputs": []
    },
    {
      "cell_type": "code",
      "metadata": {
        "id": "8Fi5YfoIwG5c",
        "colab_type": "code",
        "colab": {
          "base_uri": "https://localhost:8080/",
          "height": 69
        },
        "outputId": "d3a9a493-c2c5-4455-8821-6ff109c8b98c"
      },
      "source": [
        "care.fit(features_train,target_train)"
      ],
      "execution_count": null,
      "outputs": [
        {
          "output_type": "execute_result",
          "data": {
            "text/plain": [
              "KNeighborsClassifier(algorithm='auto', leaf_size=30, metric='minkowski',\n",
              "                     metric_params=None, n_jobs=None, n_neighbors=15, p=2,\n",
              "                     weights='uniform')"
            ]
          },
          "metadata": {
            "tags": []
          },
          "execution_count": 7
        }
      ]
    },
    {
      "cell_type": "code",
      "metadata": {
        "id": "_J9clh1PwIut",
        "colab_type": "code",
        "colab": {}
      },
      "source": [
        "y_pred=care.predict(features_test)"
      ],
      "execution_count": null,
      "outputs": []
    },
    {
      "cell_type": "code",
      "metadata": {
        "id": "GZuSA6bYwVCq",
        "colab_type": "code",
        "colab": {
          "base_uri": "https://localhost:8080/",
          "height": 87
        },
        "outputId": "7a5c86d1-7c62-4ba4-df2c-097bbef9ada1"
      },
      "source": [
        "print(y_pred)\n",
        "print(target_test)"
      ],
      "execution_count": null,
      "outputs": [
        {
          "output_type": "stream",
          "text": [
            "[0 1 0 0 0 1 0 0 0 0 1 1 0 1 1 0 1 1 0 1 1 0 0 1 1 1 1 0 1 1 0 0 1 1 1 1 0\n",
            " 1 0 1 1 1 1 0 0 0]\n",
            "[0 1 0 0 1 0 0 0 0 0 1 1 0 1 1 1 1 1 0 1 1 0 0 0 1 0 0 0 1 1 0 0 1 1 1 0 0\n",
            " 1 0 0 1 1 1 0 1 1]\n"
          ],
          "name": "stdout"
        }
      ]
    },
    {
      "cell_type": "code",
      "metadata": {
        "id": "WcrTUgUzxDl9",
        "colab_type": "code",
        "colab": {
          "base_uri": "https://localhost:8080/",
          "height": 52
        },
        "outputId": "8bf42d6c-474d-4684-ded0-846269603f51"
      },
      "source": [
        "from sklearn.metrics import mean_squared_error,r2_score\n",
        "# for MSE\n",
        "mse=mean_squared_error(y_pred,target_test)\n",
        "print(mse)\n",
        "score=r2_score(y_pred,target_test)\n",
        "print(score) # K nearest neighbour"
      ],
      "execution_count": null,
      "outputs": [
        {
          "output_type": "stream",
          "text": [
            "0.21739130434782608\n",
            "0.12380952380952392\n"
          ],
          "name": "stdout"
        }
      ]
    },
    {
      "cell_type": "code",
      "metadata": {
        "id": "vW9gMZk1xhsZ",
        "colab_type": "code",
        "colab": {}
      },
      "source": [
        "from sklearn.tree import DecisionTreeClassifier\n",
        "clf = DecisionTreeClassifier(criterion='gini',max_depth=5)"
      ],
      "execution_count": null,
      "outputs": []
    },
    {
      "cell_type": "code",
      "metadata": {
        "id": "mTzoLlRnyFvL",
        "colab_type": "code",
        "colab": {
          "base_uri": "https://localhost:8080/",
          "height": 121
        },
        "outputId": "fcc918f6-6e31-45f2-b536-34cca0f240fa"
      },
      "source": [
        "clf.fit(features_train,target_train)"
      ],
      "execution_count": null,
      "outputs": [
        {
          "output_type": "execute_result",
          "data": {
            "text/plain": [
              "DecisionTreeClassifier(ccp_alpha=0.0, class_weight=None, criterion='gini',\n",
              "                       max_depth=5, max_features=None, max_leaf_nodes=None,\n",
              "                       min_impurity_decrease=0.0, min_impurity_split=None,\n",
              "                       min_samples_leaf=1, min_samples_split=2,\n",
              "                       min_weight_fraction_leaf=0.0, presort='deprecated',\n",
              "                       random_state=None, splitter='best')"
            ]
          },
          "metadata": {
            "tags": []
          },
          "execution_count": 12
        }
      ]
    },
    {
      "cell_type": "code",
      "metadata": {
        "id": "c0vYjgo_yHZU",
        "colab_type": "code",
        "colab": {}
      },
      "source": [
        "pred = clf.predict(features_test)"
      ],
      "execution_count": null,
      "outputs": []
    },
    {
      "cell_type": "code",
      "metadata": {
        "id": "uFSy7bVvyJck",
        "colab_type": "code",
        "colab": {
          "base_uri": "https://localhost:8080/",
          "height": 87
        },
        "outputId": "27fd313f-0ccd-4764-919e-30e795375b08"
      },
      "source": [
        "print(pred)\n",
        "print(target_test)"
      ],
      "execution_count": null,
      "outputs": [
        {
          "output_type": "stream",
          "text": [
            "[0 0 0 0 1 1 0 0 1 0 1 1 0 1 1 0 0 1 0 1 1 0 0 1 0 1 1 0 1 0 0 0 0 1 1 1 0\n",
            " 1 0 0 1 1 1 0 0 0]\n",
            "[0 1 0 0 1 0 0 0 0 0 1 1 0 1 1 1 1 1 0 1 1 0 0 0 1 0 0 0 1 1 0 0 1 1 1 0 0\n",
            " 1 0 0 1 1 1 0 1 1]\n"
          ],
          "name": "stdout"
        }
      ]
    },
    {
      "cell_type": "code",
      "metadata": {
        "id": "Yqhj2vmgyLrk",
        "colab_type": "code",
        "colab": {
          "base_uri": "https://localhost:8080/",
          "height": 52
        },
        "outputId": "e77f64af-d0cf-486f-c765-a4c55a666d8a"
      },
      "source": [
        "# for MSE\n",
        "mse=mean_squared_error(pred,target_test)\n",
        "print(mse)\n",
        "score=r2_score(pred,target_test)\n",
        "print(score) # for Decision tree clssification"
      ],
      "execution_count": null,
      "outputs": [
        {
          "output_type": "stream",
          "text": [
            "0.30434782608695654\n",
            "-0.2266666666666668\n"
          ],
          "name": "stdout"
        }
      ]
    },
    {
      "cell_type": "code",
      "metadata": {
        "id": "sESaAxrZzNPS",
        "colab_type": "code",
        "colab": {
          "base_uri": "https://localhost:8080/",
          "height": 121
        },
        "outputId": "ef4429ba-c72b-4e4b-a9cb-f4f3f441f79f"
      },
      "source": [
        "a=int(input(\"Write Age Value\"))\n",
        "b=int(input(\"Write Gender(0 - female or 1 - male) Value\"))\n",
        "c=int(input(\"Write Resting bp Value\"))\n",
        "d=int(input(\"Write Cholestrol Value\"))\n",
        "e=int(input(\"Write Maximum Heart rate Value\"))\n",
        "f=int(input(\"Write Old peaks Value\"))"
      ],
      "execution_count": null,
      "outputs": [
        {
          "output_type": "stream",
          "text": [
            "Write Age Value123\n",
            "Write Gender(0 - female or 1 - male) Value32\n",
            "Write Resting bp Value23\n",
            "Write Cholestrol Value23\n",
            "Write Maximum Heart rate Value32\n",
            "Write Old peaks Value32\n"
          ],
          "name": "stdout"
        }
      ]
    },
    {
      "cell_type": "code",
      "metadata": {
        "id": "zcB9pszO0IiH",
        "colab_type": "code",
        "colab": {
          "base_uri": "https://localhost:8080/",
          "height": 35
        },
        "outputId": "871cb159-e635-4d0d-a8f3-62ca33e00895"
      },
      "source": [
        "t1=sc.transform([[a,b,c,d,e,f]])\n",
        "pt1=care.predict(t1)\n",
        "pt1 "
      ],
      "execution_count": null,
      "outputs": [
        {
          "output_type": "execute_result",
          "data": {
            "text/plain": [
              "array([0])"
            ]
          },
          "metadata": {
            "tags": []
          },
          "execution_count": 17
        }
      ]
    },
    {
      "cell_type": "code",
      "metadata": {
        "id": "Hz2wU2Tm0QEH",
        "colab_type": "code",
        "colab": {
          "base_uri": "https://localhost:8080/",
          "height": 35
        },
        "outputId": "15f80b75-8e35-4392-d96e-2b4306d5913c"
      },
      "source": [
        "t1=sc.transform([[a,b,c,d,e,f]])\n",
        "pt1=clf.predict(t1)\n",
        "pt1"
      ],
      "execution_count": null,
      "outputs": [
        {
          "output_type": "execute_result",
          "data": {
            "text/plain": [
              "array([1])"
            ]
          },
          "metadata": {
            "tags": []
          },
          "execution_count": 18
        }
      ]
    },
    {
      "cell_type": "code",
      "metadata": {
        "id": "FgSxDIq00iXN",
        "colab_type": "code",
        "colab": {}
      },
      "source": [
        ""
      ],
      "execution_count": null,
      "outputs": []
    }
  ]
}