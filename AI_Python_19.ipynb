{
  "nbformat": 4,
  "nbformat_minor": 0,
  "metadata": {
    "colab": {
      "name": "AI Python 19.ipynb",
      "provenance": [],
      "collapsed_sections": []
    },
    "kernelspec": {
      "name": "python3",
      "display_name": "Python 3"
    }
  },
  "cells": [
    {
      "cell_type": "markdown",
      "metadata": {
        "id": "BPkyBtOFd57c",
        "colab_type": "text"
      },
      "source": [
        "Random Forest Regression"
      ]
    },
    {
      "cell_type": "code",
      "metadata": {
        "id": "MjbLOj08c1sJ",
        "colab_type": "code",
        "colab": {}
      },
      "source": [
        "import pandas as pd\n",
        "data=pd.read_csv('chessplayers.csv')\n",
        "data=data.fillna(0)"
      ],
      "execution_count": null,
      "outputs": []
    },
    {
      "cell_type": "code",
      "metadata": {
        "id": "C_3-gy2St6Ic",
        "colab_type": "code",
        "colab": {}
      },
      "source": [
        "features=data.iloc[:,[0,2,7,8]].values\n",
        "target=data.iloc[:,6].values"
      ],
      "execution_count": null,
      "outputs": []
    },
    {
      "cell_type": "code",
      "metadata": {
        "id": "Ocrv0E0JusuD",
        "colab_type": "code",
        "colab": {
          "base_uri": "https://localhost:8080/",
          "height": 156
        },
        "outputId": "92fbc7b5-ddde-428f-c503-723967fce688"
      },
      "source": [
        "print(features)\n",
        "print(target)"
      ],
      "execution_count": null,
      "outputs": [
        {
          "output_type": "stream",
          "text": [
            "[[700070 'HUN' 2646.0 2736.0]\n",
            " [8602980 'CHN' 2621.0 2601.0]\n",
            " [5008123 'IND' 2483.0 2483.0]\n",
            " ...\n",
            " [5038294 'IND' 1884.0 1824.0]\n",
            " [2072491 'USA' 0.0 0.0]\n",
            " [4666399 'GER' 0.0 0.0]]\n",
            "[2675 2658 2586 ... 1801 1801 1801]\n"
          ],
          "name": "stdout"
        }
      ]
    },
    {
      "cell_type": "code",
      "metadata": {
        "id": "KZ35jN7XuviJ",
        "colab_type": "code",
        "colab": {}
      },
      "source": [
        "from sklearn.preprocessing import LabelEncoder\n",
        "features[:,1]=LabelEncoder().fit_transform(features[:,1])"
      ],
      "execution_count": null,
      "outputs": []
    },
    {
      "cell_type": "code",
      "metadata": {
        "id": "Kdl028BwvLK0",
        "colab_type": "code",
        "colab": {
          "base_uri": "https://localhost:8080/",
          "height": 295
        },
        "outputId": "80bcd1ec-078c-4de5-bb96-43d2db2f2499"
      },
      "source": [
        "from sklearn.model_selection import train_test_split\n",
        "# splitting training and test data\n",
        "features_train,features_test,target_train,target_test=train_test_split(features,target,train_size=0.85,random_state=0)\n",
        "# for checking the values\n",
        "print(features_train)\n",
        "print(features_test)\n",
        "print(target_train)\n",
        "print(target_test)"
      ],
      "execution_count": null,
      "outputs": [
        {
          "output_type": "stream",
          "text": [
            "[[3406644 21 0.0 0.0]\n",
            " [2110970 17 0.0 0.0]\n",
            " [12426512 120 0.0 0.0]\n",
            " ...\n",
            " [24159182 96 1910.0 2024.0]\n",
            " [405221 33 2011.0 2087.0]\n",
            " [2245400 35 1947.0 0.0]]\n",
            "[[13901036 72 0.0 1957.0]\n",
            " [4402081 23 1902.0 1875.0]\n",
            " [1130005 90 1833.0 0.0]\n",
            " ...\n",
            " [14114321 115 0.0 0.0]\n",
            " [369098 28 1948.0 1864.0]\n",
            " [4109376 96 0.0 0.0]]\n",
            "[1834 1987 1857 ... 1968 2038 2061]\n",
            "[2013 1971 1903 ... 2102 1943 2155]\n"
          ],
          "name": "stdout"
        }
      ]
    },
    {
      "cell_type": "code",
      "metadata": {
        "id": "YxJjR1Z2wJDw",
        "colab_type": "code",
        "colab": {
          "base_uri": "https://localhost:8080/",
          "height": 156
        },
        "outputId": "8454fcf3-e0d9-4c9b-a610-1abfc492f330"
      },
      "source": [
        "from sklearn.preprocessing import StandardScaler\n",
        "sc=StandardScaler()\n",
        "features_train=sc.fit_transform(features_train)\n",
        "features_test=sc.fit_transform(features_test)\n",
        "print(features)\n",
        "print(target)"
      ],
      "execution_count": null,
      "outputs": [
        {
          "output_type": "stream",
          "text": [
            "[[700070 47 2646.0 2736.0]\n",
            " [8602980 22 2621.0 2601.0]\n",
            " [5008123 49 2483.0 2483.0]\n",
            " ...\n",
            " [5038294 49 1884.0 1824.0]\n",
            " [2072491 117 0.0 0.0]\n",
            " [4666399 42 0.0 0.0]]\n",
            "[2675 2658 2586 ... 1801 1801 1801]\n"
          ],
          "name": "stdout"
        }
      ]
    },
    {
      "cell_type": "code",
      "metadata": {
        "id": "cHgIVocywo28",
        "colab_type": "code",
        "colab": {}
      },
      "source": [
        "from sklearn.ensemble import RandomForestRegressor\n",
        "regressor=RandomForestRegressor(max_depth=8)"
      ],
      "execution_count": null,
      "outputs": []
    },
    {
      "cell_type": "code",
      "metadata": {
        "id": "yTlF-ALqwxXI",
        "colab_type": "code",
        "colab": {
          "base_uri": "https://localhost:8080/",
          "height": 139
        },
        "outputId": "46ab8f97-b075-42c5-e793-75d7beddacde"
      },
      "source": [
        "regressor.fit(features_train,target_train)"
      ],
      "execution_count": null,
      "outputs": [
        {
          "output_type": "execute_result",
          "data": {
            "text/plain": [
              "RandomForestRegressor(bootstrap=True, ccp_alpha=0.0, criterion='mse',\n",
              "                      max_depth=8, max_features='auto', max_leaf_nodes=None,\n",
              "                      max_samples=None, min_impurity_decrease=0.0,\n",
              "                      min_impurity_split=None, min_samples_leaf=1,\n",
              "                      min_samples_split=2, min_weight_fraction_leaf=0.0,\n",
              "                      n_estimators=100, n_jobs=None, oob_score=False,\n",
              "                      random_state=None, verbose=0, warm_start=False)"
            ]
          },
          "metadata": {
            "tags": []
          },
          "execution_count": 8
        }
      ]
    },
    {
      "cell_type": "code",
      "metadata": {
        "id": "mwn_8QVZxVJH",
        "colab_type": "code",
        "colab": {}
      },
      "source": [
        "y_pred=regressor.predict(features_test)"
      ],
      "execution_count": null,
      "outputs": []
    },
    {
      "cell_type": "code",
      "metadata": {
        "id": "UIV9XEhwytwI",
        "colab_type": "code",
        "colab": {
          "base_uri": "https://localhost:8080/",
          "height": 69
        },
        "outputId": "cfe968d9-1ab7-41ef-cd2b-894888506acb"
      },
      "source": [
        "print(y_pred)\n",
        "print(target_test)"
      ],
      "execution_count": null,
      "outputs": [
        {
          "output_type": "stream",
          "text": [
            "[1979.45893701 1942.28498508 1871.60483828 ... 2013.32105037 1955.76849018\n",
            " 2001.16360983]\n",
            "[2013 1971 1903 ... 2102 1943 2155]\n"
          ],
          "name": "stdout"
        }
      ]
    },
    {
      "cell_type": "code",
      "metadata": {
        "id": "ue5YGBxVy2nX",
        "colab_type": "code",
        "colab": {
          "base_uri": "https://localhost:8080/",
          "height": 87
        },
        "outputId": "99501284-d31d-497d-84b1-5cddac195166"
      },
      "source": [
        "a=int(input(\"Write FideId value\"))\n",
        "b=int(input(\"Write Federation value\"))\n",
        "c=int(input(\"Write Rapid rating value\"))\n",
        "d=int(input(\"Write Blitz rating Value\"))"
      ],
      "execution_count": null,
      "outputs": [
        {
          "output_type": "stream",
          "text": [
            "Write FideId value7935\n",
            "Write Federation value5380\n",
            "Write Rapid rating value2840\n",
            "Write Blitz rating Value30947\n"
          ],
          "name": "stdout"
        }
      ]
    },
    {
      "cell_type": "code",
      "metadata": {
        "id": "faqRchOOy-ui",
        "colab_type": "code",
        "colab": {
          "base_uri": "https://localhost:8080/",
          "height": 35
        },
        "outputId": "497763b6-203f-4d2a-a222-6d82d318881d"
      },
      "source": [
        "t1=sc.transform([[a,b,c,d]])\n",
        "pt1=regressor.predict(t1)\n",
        "pt1"
      ],
      "execution_count": null,
      "outputs": [
        {
          "output_type": "execute_result",
          "data": {
            "text/plain": [
              "array([2653.12])"
            ]
          },
          "metadata": {
            "tags": []
          },
          "execution_count": 14
        }
      ]
    },
    {
      "cell_type": "code",
      "metadata": {
        "id": "E9LSZJ7JzWc2",
        "colab_type": "code",
        "colab": {}
      },
      "source": [
        ""
      ],
      "execution_count": null,
      "outputs": []
    }
  ]
}