{
  "nbformat": 4,
  "nbformat_minor": 0,
  "metadata": {
    "colab": {
      "name": "AI Python 25.ipynb",
      "provenance": [],
      "collapsed_sections": []
    },
    "kernelspec": {
      "name": "python3",
      "display_name": "Python 3"
    }
  },
  "cells": [
    {
      "cell_type": "code",
      "metadata": {
        "id": "VeeEdUI361An",
        "colab_type": "code",
        "colab": {}
      },
      "source": [
        "import pandas as pd\n",
        "data=pd.read_csv('chess.csv')\n",
        "data=data.fillna(0)"
      ],
      "execution_count": null,
      "outputs": []
    },
    {
      "cell_type": "code",
      "metadata": {
        "id": "DH2oosT17kP-",
        "colab_type": "code",
        "colab": {}
      },
      "source": [
        "features=data.iloc[:,[0,2,7,8]].values\n",
        "target=data.iloc[:,6].values"
      ],
      "execution_count": null,
      "outputs": []
    },
    {
      "cell_type": "code",
      "metadata": {
        "id": "Dbp4ODCd7px8",
        "colab_type": "code",
        "colab": {}
      },
      "source": [
        "from sklearn.preprocessing import LabelEncoder\n",
        "features[:,1]=LabelEncoder().fit_transform(features[:,1])"
      ],
      "execution_count": null,
      "outputs": []
    },
    {
      "cell_type": "code",
      "metadata": {
        "id": "USVxSK2e7vOJ",
        "colab_type": "code",
        "colab": {
          "base_uri": "https://localhost:8080/",
          "height": 295
        },
        "outputId": "a2a774b1-2c23-449b-8480-93d9d5c3275d"
      },
      "source": [
        "from sklearn.model_selection import train_test_split\n",
        "# splitting training and test data\n",
        "features_train,features_test,target_train,target_test=train_test_split(features,target,train_size=0.85,random_state=0)\n",
        "# for checking the values\n",
        "print(features_train)\n",
        "print(features_test)\n",
        "print(target_train)\n",
        "print(target_test)"
      ],
      "execution_count": null,
      "outputs": [
        {
          "output_type": "stream",
          "text": [
            "[[3406644 21 0.0 0.0]\n",
            " [2110970 17 0.0 0.0]\n",
            " [12426512 120 0.0 0.0]\n",
            " ...\n",
            " [24159182 96 1910.0 2024.0]\n",
            " [405221 33 2011.0 2087.0]\n",
            " [2245400 35 1947.0 0.0]]\n",
            "[[13901036 72 0.0 1957.0]\n",
            " [4402081 23 1902.0 1875.0]\n",
            " [1130005 90 1833.0 0.0]\n",
            " ...\n",
            " [14114321 115 0.0 0.0]\n",
            " [369098 28 1948.0 1864.0]\n",
            " [4109376 96 0.0 0.0]]\n",
            "[1834 1987 1857 ... 1968 2038 2061]\n",
            "[2013 1971 1903 ... 2102 1943 2155]\n"
          ],
          "name": "stdout"
        }
      ]
    },
    {
      "cell_type": "code",
      "metadata": {
        "id": "IE7TW4zc71Wo",
        "colab_type": "code",
        "colab": {
          "base_uri": "https://localhost:8080/",
          "height": 156
        },
        "outputId": "721e1f2c-d460-4b0d-d449-7d49c6cc155f"
      },
      "source": [
        "from sklearn.preprocessing import StandardScaler\n",
        "sc=StandardScaler()\n",
        "features_train=sc.fit_transform(features_train)\n",
        "features_test=sc.fit_transform(features_test)\n",
        "print(features)\n",
        "print(target)"
      ],
      "execution_count": null,
      "outputs": [
        {
          "output_type": "stream",
          "text": [
            "[[700070 47 2646.0 2736.0]\n",
            " [8602980 22 2621.0 2601.0]\n",
            " [5008123 49 2483.0 2483.0]\n",
            " ...\n",
            " [5038294 49 1884.0 1824.0]\n",
            " [2072491 117 0.0 0.0]\n",
            " [4666399 42 0.0 0.0]]\n",
            "[2675 2658 2586 ... 1801 1801 1801]\n"
          ],
          "name": "stdout"
        }
      ]
    },
    {
      "cell_type": "code",
      "metadata": {
        "id": "gbOJ1Ku-76b2",
        "colab_type": "code",
        "colab": {}
      },
      "source": [
        "from sklearn.tree import DecisionTreeClassifier\n",
        "clf = DecisionTreeClassifier(criterion='gini',max_depth=5)"
      ],
      "execution_count": null,
      "outputs": []
    },
    {
      "cell_type": "code",
      "metadata": {
        "id": "RxbKtcRU8rAa",
        "colab_type": "code",
        "colab": {
          "base_uri": "https://localhost:8080/",
          "height": 121
        },
        "outputId": "1cae71b4-6a8f-4108-eef2-1ea72d938413"
      },
      "source": [
        "clf.fit(features_train,target_train)"
      ],
      "execution_count": null,
      "outputs": [
        {
          "output_type": "execute_result",
          "data": {
            "text/plain": [
              "DecisionTreeClassifier(ccp_alpha=0.0, class_weight=None, criterion='gini',\n",
              "                       max_depth=5, max_features=None, max_leaf_nodes=None,\n",
              "                       min_impurity_decrease=0.0, min_impurity_split=None,\n",
              "                       min_samples_leaf=1, min_samples_split=2,\n",
              "                       min_weight_fraction_leaf=0.0, presort='deprecated',\n",
              "                       random_state=None, splitter='best')"
            ]
          },
          "metadata": {
            "tags": []
          },
          "execution_count": 7
        }
      ]
    },
    {
      "cell_type": "code",
      "metadata": {
        "id": "SxwErnz48s17",
        "colab_type": "code",
        "colab": {}
      },
      "source": [
        "pred = clf.predict(features_test)"
      ],
      "execution_count": null,
      "outputs": []
    },
    {
      "cell_type": "code",
      "metadata": {
        "id": "uewBPW-_8vHq",
        "colab_type": "code",
        "colab": {
          "base_uri": "https://localhost:8080/",
          "height": 52
        },
        "outputId": "ba468100-4c00-41a7-8d26-b93abc9893db"
      },
      "source": [
        "print(pred)\n",
        "print(target_test)"
      ],
      "execution_count": null,
      "outputs": [
        {
          "output_type": "stream",
          "text": [
            "[1948 1940 1830 ... 1881 1940 2005]\n",
            "[2013 1971 1903 ... 2102 1943 2155]\n"
          ],
          "name": "stdout"
        }
      ]
    },
    {
      "cell_type": "code",
      "metadata": {
        "id": "vyQikJII8xFe",
        "colab_type": "code",
        "colab": {}
      },
      "source": [
        "from sklearn.metrics import mean_squared_error,r2_score"
      ],
      "execution_count": null,
      "outputs": []
    },
    {
      "cell_type": "code",
      "metadata": {
        "id": "aLN2fsh48zLa",
        "colab_type": "code",
        "colab": {
          "base_uri": "https://localhost:8080/",
          "height": 35
        },
        "outputId": "9fce221b-847b-4f0e-ed70-6bc751e5a5b9"
      },
      "source": [
        "# for MSE\n",
        "mse=mean_squared_error(pred,target_test)\n",
        "print(mse)"
      ],
      "execution_count": null,
      "outputs": [
        {
          "output_type": "stream",
          "text": [
            "13650.130943102104\n"
          ],
          "name": "stdout"
        }
      ]
    },
    {
      "cell_type": "code",
      "metadata": {
        "id": "JOCSgn_J81CY",
        "colab_type": "code",
        "colab": {
          "base_uri": "https://localhost:8080/",
          "height": 35
        },
        "outputId": "1c99bad7-a398-4d72-8980-6ee3b8f28d19"
      },
      "source": [
        "score=r2_score(pred,target_test)\n",
        "print(score) # Decision Tree Clssifier"
      ],
      "execution_count": null,
      "outputs": [
        {
          "output_type": "stream",
          "text": [
            "-0.06963516652244617\n"
          ],
          "name": "stdout"
        }
      ]
    },
    {
      "cell_type": "code",
      "metadata": {
        "id": "bf-pWXZ183cI",
        "colab_type": "code",
        "colab": {}
      },
      "source": [
        ""
      ],
      "execution_count": null,
      "outputs": []
    }
  ]
}