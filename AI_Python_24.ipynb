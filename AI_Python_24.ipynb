{
  "nbformat": 4,
  "nbformat_minor": 0,
  "metadata": {
    "colab": {
      "name": "AI Python 24.ipynb",
      "provenance": [],
      "collapsed_sections": []
    },
    "kernelspec": {
      "name": "python3",
      "display_name": "Python 3"
    }
  },
  "cells": [
    {
      "cell_type": "code",
      "metadata": {
        "id": "q2awVNGl62JX",
        "colab_type": "code",
        "colab": {}
      },
      "source": [
        "import pandas as pd\n",
        "data=pd.read_csv('chess.csv')\n",
        "data=data.fillna(0)"
      ],
      "execution_count": null,
      "outputs": []
    },
    {
      "cell_type": "code",
      "metadata": {
        "id": "9RVL9eoW7lcL",
        "colab_type": "code",
        "colab": {}
      },
      "source": [
        "features=data.iloc[:,[0,2,7,8]].values\n",
        "target=data.iloc[:,6].values"
      ],
      "execution_count": null,
      "outputs": []
    },
    {
      "cell_type": "code",
      "metadata": {
        "id": "tkaCA2Wd7qQz",
        "colab_type": "code",
        "colab": {}
      },
      "source": [
        "from sklearn.preprocessing import LabelEncoder\n",
        "features[:,1]=LabelEncoder().fit_transform(features[:,1])"
      ],
      "execution_count": null,
      "outputs": []
    },
    {
      "cell_type": "code",
      "metadata": {
        "id": "-8abbTdt7v0Z",
        "colab_type": "code",
        "colab": {
          "base_uri": "https://localhost:8080/",
          "height": 295
        },
        "outputId": "714a8cf2-ed69-4842-813a-95ab1100ff48"
      },
      "source": [
        "from sklearn.model_selection import train_test_split\n",
        "# splitting training and test data\n",
        "features_train,features_test,target_train,target_test=train_test_split(features,target,train_size=0.85,random_state=0)\n",
        "# for checking the values\n",
        "print(features_train)\n",
        "print(features_test)\n",
        "print(target_train)\n",
        "print(target_test)"
      ],
      "execution_count": null,
      "outputs": [
        {
          "output_type": "stream",
          "text": [
            "[[3406644 21 0.0 0.0]\n",
            " [2110970 17 0.0 0.0]\n",
            " [12426512 120 0.0 0.0]\n",
            " ...\n",
            " [24159182 96 1910.0 2024.0]\n",
            " [405221 33 2011.0 2087.0]\n",
            " [2245400 35 1947.0 0.0]]\n",
            "[[13901036 72 0.0 1957.0]\n",
            " [4402081 23 1902.0 1875.0]\n",
            " [1130005 90 1833.0 0.0]\n",
            " ...\n",
            " [14114321 115 0.0 0.0]\n",
            " [369098 28 1948.0 1864.0]\n",
            " [4109376 96 0.0 0.0]]\n",
            "[1834 1987 1857 ... 1968 2038 2061]\n",
            "[2013 1971 1903 ... 2102 1943 2155]\n"
          ],
          "name": "stdout"
        }
      ]
    },
    {
      "cell_type": "code",
      "metadata": {
        "id": "Yf_thHbH72LT",
        "colab_type": "code",
        "colab": {
          "base_uri": "https://localhost:8080/",
          "height": 156
        },
        "outputId": "ee19b44d-f592-4e1a-cc7a-413c1fdd97a8"
      },
      "source": [
        "from sklearn.preprocessing import StandardScaler\n",
        "sc=StandardScaler()\n",
        "features_train=sc.fit_transform(features_train)\n",
        "features_test=sc.fit_transform(features_test)\n",
        "print(features)\n",
        "print(target)"
      ],
      "execution_count": null,
      "outputs": [
        {
          "output_type": "stream",
          "text": [
            "[[700070 47 2646.0 2736.0]\n",
            " [8602980 22 2621.0 2601.0]\n",
            " [5008123 49 2483.0 2483.0]\n",
            " ...\n",
            " [5038294 49 1884.0 1824.0]\n",
            " [2072491 117 0.0 0.0]\n",
            " [4666399 42 0.0 0.0]]\n",
            "[2675 2658 2586 ... 1801 1801 1801]\n"
          ],
          "name": "stdout"
        }
      ]
    },
    {
      "cell_type": "code",
      "metadata": {
        "id": "Wi_hGKiy77Iu",
        "colab_type": "code",
        "colab": {}
      },
      "source": [
        "from sklearn.ensemble import RandomForestRegressor\n",
        "regressor=RandomForestRegressor(max_depth=8)"
      ],
      "execution_count": null,
      "outputs": []
    },
    {
      "cell_type": "code",
      "metadata": {
        "id": "MD1-hIsl7-Lh",
        "colab_type": "code",
        "colab": {
          "base_uri": "https://localhost:8080/",
          "height": 139
        },
        "outputId": "6de4429a-8e25-4a79-f46e-2487513c82f4"
      },
      "source": [
        "regressor.fit(features_train,target_train)"
      ],
      "execution_count": null,
      "outputs": [
        {
          "output_type": "execute_result",
          "data": {
            "text/plain": [
              "RandomForestRegressor(bootstrap=True, ccp_alpha=0.0, criterion='mse',\n",
              "                      max_depth=8, max_features='auto', max_leaf_nodes=None,\n",
              "                      max_samples=None, min_impurity_decrease=0.0,\n",
              "                      min_impurity_split=None, min_samples_leaf=1,\n",
              "                      min_samples_split=2, min_weight_fraction_leaf=0.0,\n",
              "                      n_estimators=100, n_jobs=None, oob_score=False,\n",
              "                      random_state=None, verbose=0, warm_start=False)"
            ]
          },
          "metadata": {
            "tags": []
          },
          "execution_count": 7
        }
      ]
    },
    {
      "cell_type": "code",
      "metadata": {
        "id": "IHIXyjKb8IeE",
        "colab_type": "code",
        "colab": {}
      },
      "source": [
        "y_pred=regressor.predict(features_test)"
      ],
      "execution_count": null,
      "outputs": []
    },
    {
      "cell_type": "code",
      "metadata": {
        "id": "_JX22iqw8C3Y",
        "colab_type": "code",
        "colab": {
          "base_uri": "https://localhost:8080/",
          "height": 69
        },
        "outputId": "26299b75-ca56-41e8-d5d4-42c45ca868d0"
      },
      "source": [
        "print(y_pred)\n",
        "print(target_test)"
      ],
      "execution_count": null,
      "outputs": [
        {
          "output_type": "stream",
          "text": [
            "[1970.89495933 1942.18008187 1869.50708272 ... 2000.13065193 1969.94174793\n",
            " 2006.30888743]\n",
            "[2013 1971 1903 ... 2102 1943 2155]\n"
          ],
          "name": "stdout"
        }
      ]
    },
    {
      "cell_type": "code",
      "metadata": {
        "id": "GzsLGN4b8FIO",
        "colab_type": "code",
        "colab": {}
      },
      "source": [
        "from sklearn.metrics import mean_squared_error,r2_score"
      ],
      "execution_count": null,
      "outputs": []
    },
    {
      "cell_type": "code",
      "metadata": {
        "id": "Pq82Z-528d7Y",
        "colab_type": "code",
        "colab": {
          "base_uri": "https://localhost:8080/",
          "height": 35
        },
        "outputId": "d24b25db-1829-4482-acfe-0155b7862d6c"
      },
      "source": [
        "# for MSE\n",
        "mse=mean_squared_error(y_pred,target_test)\n",
        "print(mse)"
      ],
      "execution_count": null,
      "outputs": [
        {
          "output_type": "stream",
          "text": [
            "10155.99198112061\n"
          ],
          "name": "stdout"
        }
      ]
    },
    {
      "cell_type": "code",
      "metadata": {
        "id": "cloLdd-k8hl7",
        "colab_type": "code",
        "colab": {
          "base_uri": "https://localhost:8080/",
          "height": 35
        },
        "outputId": "6f962758-5d12-4419-89ab-89bd27d55ee6"
      },
      "source": [
        "score=r2_score(y_pred,target_test)\n",
        "print(score)"
      ],
      "execution_count": null,
      "outputs": [
        {
          "output_type": "stream",
          "text": [
            "0.04695408585600602\n"
          ],
          "name": "stdout"
        }
      ]
    },
    {
      "cell_type": "code",
      "metadata": {
        "id": "kxIytGeX8kU4",
        "colab_type": "code",
        "colab": {}
      },
      "source": [
        ""
      ],
      "execution_count": null,
      "outputs": []
    }
  ]
}