{
  "nbformat": 4,
  "nbformat_minor": 0,
  "metadata": {
    "colab": {
      "name": "AI Python 12.ipynb",
      "provenance": [],
      "collapsed_sections": []
    },
    "kernelspec": {
      "name": "python3",
      "display_name": "Python 3"
    }
  },
  "cells": [
    {
      "cell_type": "markdown",
      "metadata": {
        "id": "0hP5e-wlzRDX",
        "colab_type": "text"
      },
      "source": [
        "KNN Classification"
      ]
    },
    {
      "cell_type": "code",
      "metadata": {
        "id": "C1wj5KU9x96z",
        "colab_type": "code",
        "colab": {}
      },
      "source": [
        "import pandas as pd\n",
        "from sklearn.preprocessing import LabelEncoder\n",
        "from sklearn.model_selection import train_test_split \n",
        "from sklearn.preprocessing import StandardScaler\n",
        "from sklearn.neighbors import KNeighborsClassifier\n",
        "from sklearn import metrics\n",
        "import matplotlib.pyplot as plt\n",
        "from matplotlib.colors import ListedColormap"
      ],
      "execution_count": null,
      "outputs": []
    },
    {
      "cell_type": "code",
      "metadata": {
        "id": "1_6rxuyv2P1G",
        "colab_type": "code",
        "colab": {}
      },
      "source": [
        "n_neighbors = 25"
      ],
      "execution_count": null,
      "outputs": []
    },
    {
      "cell_type": "code",
      "metadata": {
        "id": "bR-WvHknyUSR",
        "colab_type": "code",
        "colab": {
          "base_uri": "https://localhost:8080/",
          "height": 415
        },
        "outputId": "45c99f38-47b6-4eb9-9073-9d7f6abb85d2"
      },
      "source": [
        "data=pd.read_csv('train.csv')\n",
        "data.columns\n",
        "data"
      ],
      "execution_count": null,
      "outputs": [
        {
          "output_type": "execute_result",
          "data": {
            "text/html": [
              "<div>\n",
              "<style scoped>\n",
              "    .dataframe tbody tr th:only-of-type {\n",
              "        vertical-align: middle;\n",
              "    }\n",
              "\n",
              "    .dataframe tbody tr th {\n",
              "        vertical-align: top;\n",
              "    }\n",
              "\n",
              "    .dataframe thead th {\n",
              "        text-align: right;\n",
              "    }\n",
              "</style>\n",
              "<table border=\"1\" class=\"dataframe\">\n",
              "  <thead>\n",
              "    <tr style=\"text-align: right;\">\n",
              "      <th></th>\n",
              "      <th>Id</th>\n",
              "      <th>Province/State</th>\n",
              "      <th>Country/Region</th>\n",
              "      <th>Lat</th>\n",
              "      <th>Long</th>\n",
              "      <th>Date</th>\n",
              "      <th>ConfirmedCases</th>\n",
              "      <th>Fatalities</th>\n",
              "    </tr>\n",
              "  </thead>\n",
              "  <tbody>\n",
              "    <tr>\n",
              "      <th>0</th>\n",
              "      <td>1</td>\n",
              "      <td>NaN</td>\n",
              "      <td>Afghanistan</td>\n",
              "      <td>33.0000</td>\n",
              "      <td>65.0000</td>\n",
              "      <td>2020-01-22</td>\n",
              "      <td>0.0</td>\n",
              "      <td>0.0</td>\n",
              "    </tr>\n",
              "    <tr>\n",
              "      <th>1</th>\n",
              "      <td>2</td>\n",
              "      <td>NaN</td>\n",
              "      <td>Afghanistan</td>\n",
              "      <td>33.0000</td>\n",
              "      <td>65.0000</td>\n",
              "      <td>2020-01-23</td>\n",
              "      <td>0.0</td>\n",
              "      <td>0.0</td>\n",
              "    </tr>\n",
              "    <tr>\n",
              "      <th>2</th>\n",
              "      <td>3</td>\n",
              "      <td>NaN</td>\n",
              "      <td>Afghanistan</td>\n",
              "      <td>33.0000</td>\n",
              "      <td>65.0000</td>\n",
              "      <td>2020-01-24</td>\n",
              "      <td>0.0</td>\n",
              "      <td>0.0</td>\n",
              "    </tr>\n",
              "    <tr>\n",
              "      <th>3</th>\n",
              "      <td>4</td>\n",
              "      <td>NaN</td>\n",
              "      <td>Afghanistan</td>\n",
              "      <td>33.0000</td>\n",
              "      <td>65.0000</td>\n",
              "      <td>2020-01-25</td>\n",
              "      <td>0.0</td>\n",
              "      <td>0.0</td>\n",
              "    </tr>\n",
              "    <tr>\n",
              "      <th>4</th>\n",
              "      <td>5</td>\n",
              "      <td>NaN</td>\n",
              "      <td>Afghanistan</td>\n",
              "      <td>33.0000</td>\n",
              "      <td>65.0000</td>\n",
              "      <td>2020-01-26</td>\n",
              "      <td>0.0</td>\n",
              "      <td>0.0</td>\n",
              "    </tr>\n",
              "    <tr>\n",
              "      <th>...</th>\n",
              "      <td>...</td>\n",
              "      <td>...</td>\n",
              "      <td>...</td>\n",
              "      <td>...</td>\n",
              "      <td>...</td>\n",
              "      <td>...</td>\n",
              "      <td>...</td>\n",
              "      <td>...</td>\n",
              "    </tr>\n",
              "    <tr>\n",
              "      <th>17887</th>\n",
              "      <td>26378</td>\n",
              "      <td>NaN</td>\n",
              "      <td>Zambia</td>\n",
              "      <td>-15.4167</td>\n",
              "      <td>28.2833</td>\n",
              "      <td>2020-03-20</td>\n",
              "      <td>2.0</td>\n",
              "      <td>0.0</td>\n",
              "    </tr>\n",
              "    <tr>\n",
              "      <th>17888</th>\n",
              "      <td>26379</td>\n",
              "      <td>NaN</td>\n",
              "      <td>Zambia</td>\n",
              "      <td>-15.4167</td>\n",
              "      <td>28.2833</td>\n",
              "      <td>2020-03-21</td>\n",
              "      <td>2.0</td>\n",
              "      <td>0.0</td>\n",
              "    </tr>\n",
              "    <tr>\n",
              "      <th>17889</th>\n",
              "      <td>26380</td>\n",
              "      <td>NaN</td>\n",
              "      <td>Zambia</td>\n",
              "      <td>-15.4167</td>\n",
              "      <td>28.2833</td>\n",
              "      <td>2020-03-22</td>\n",
              "      <td>3.0</td>\n",
              "      <td>0.0</td>\n",
              "    </tr>\n",
              "    <tr>\n",
              "      <th>17890</th>\n",
              "      <td>26381</td>\n",
              "      <td>NaN</td>\n",
              "      <td>Zambia</td>\n",
              "      <td>-15.4167</td>\n",
              "      <td>28.2833</td>\n",
              "      <td>2020-03-23</td>\n",
              "      <td>3.0</td>\n",
              "      <td>0.0</td>\n",
              "    </tr>\n",
              "    <tr>\n",
              "      <th>17891</th>\n",
              "      <td>26382</td>\n",
              "      <td>NaN</td>\n",
              "      <td>Zambia</td>\n",
              "      <td>-15.4167</td>\n",
              "      <td>28.2833</td>\n",
              "      <td>2020-03-24</td>\n",
              "      <td>3.0</td>\n",
              "      <td>0.0</td>\n",
              "    </tr>\n",
              "  </tbody>\n",
              "</table>\n",
              "<p>17892 rows × 8 columns</p>\n",
              "</div>"
            ],
            "text/plain": [
              "          Id Province/State  ... ConfirmedCases  Fatalities\n",
              "0          1            NaN  ...            0.0         0.0\n",
              "1          2            NaN  ...            0.0         0.0\n",
              "2          3            NaN  ...            0.0         0.0\n",
              "3          4            NaN  ...            0.0         0.0\n",
              "4          5            NaN  ...            0.0         0.0\n",
              "...      ...            ...  ...            ...         ...\n",
              "17887  26378            NaN  ...            2.0         0.0\n",
              "17888  26379            NaN  ...            2.0         0.0\n",
              "17889  26380            NaN  ...            3.0         0.0\n",
              "17890  26381            NaN  ...            3.0         0.0\n",
              "17891  26382            NaN  ...            3.0         0.0\n",
              "\n",
              "[17892 rows x 8 columns]"
            ]
          },
          "metadata": {
            "tags": []
          },
          "execution_count": 151
        }
      ]
    },
    {
      "cell_type": "code",
      "metadata": {
        "id": "ZPJ2Aws2z2yY",
        "colab_type": "code",
        "colab": {
          "base_uri": "https://localhost:8080/",
          "height": 156
        },
        "outputId": "c552bb4b-d541-4fe7-f509-74f23081a568"
      },
      "source": [
        "x=data.iloc[:,[3,4,7]].values\n",
        "y=data.iloc[:,6].values\n",
        "print(x)\n",
        "print(y)"
      ],
      "execution_count": null,
      "outputs": [
        {
          "output_type": "stream",
          "text": [
            "[[ 33.      65.       0.    ]\n",
            " [ 33.      65.       0.    ]\n",
            " [ 33.      65.       0.    ]\n",
            " ...\n",
            " [-15.4167  28.2833   0.    ]\n",
            " [-15.4167  28.2833   0.    ]\n",
            " [-15.4167  28.2833   0.    ]]\n",
            "[0. 0. 0. ... 3. 3. 3.]\n"
          ],
          "name": "stdout"
        }
      ]
    },
    {
      "cell_type": "code",
      "metadata": {
        "id": "JtW9Zn-10-dG",
        "colab_type": "code",
        "colab": {
          "base_uri": "https://localhost:8080/",
          "height": 295
        },
        "outputId": "e3bdb16c-22ec-41fd-8ffe-f8a2034da233"
      },
      "source": [
        "# splitting training and test data\n",
        "x_train,x_test,y_train,y_test=train_test_split(x,y,train_size=0.85,random_state=0)\n",
        "# for checking the values\n",
        "print(x_train)\n",
        "print(x_test)\n",
        "print(y_train)\n",
        "print(y_test)"
      ],
      "execution_count": null,
      "outputs": [
        {
          "output_type": "stream",
          "text": [
            "[[ 11.8251  42.5903   0.    ]\n",
            " [  9.9456  -9.6966   0.    ]\n",
            " [ 44.682  -63.7443   0.    ]\n",
            " ...\n",
            " [-12.8275  45.1662   0.    ]\n",
            " [ 60.472    8.4689   0.    ]\n",
            " [ 52.9399 -73.5491   0.    ]]\n",
            "[[  9.082    8.6753   0.    ]\n",
            " [ 23.685   90.3563   0.    ]\n",
            " [ 39.0639 -76.8021   0.    ]\n",
            " ...\n",
            " [ -6.369   34.8888   0.    ]\n",
            " [ 41.9029  12.4534   0.    ]\n",
            " [ 29.5     47.75     0.    ]]\n",
            "[0. 0. 0. ... 0. 0. 0.]\n",
            "[ 0.  0. 32. ...  0.  1. 80.]\n"
          ],
          "name": "stdout"
        }
      ]
    },
    {
      "cell_type": "code",
      "metadata": {
        "id": "7WUBU7bx1QQF",
        "colab_type": "code",
        "colab": {
          "base_uri": "https://localhost:8080/",
          "height": 156
        },
        "outputId": "3d052fdc-950b-4e76-e355-fb1aeab7f3cc"
      },
      "source": [
        "sc=StandardScaler()\n",
        "x_train=sc.fit_transform(x_train)\n",
        "x_test=sc.fit_transform(x_test)\n",
        "print(x)\n",
        "print(y)"
      ],
      "execution_count": null,
      "outputs": [
        {
          "output_type": "stream",
          "text": [
            "[[ 33.      65.       0.    ]\n",
            " [ 33.      65.       0.    ]\n",
            " [ 33.      65.       0.    ]\n",
            " ...\n",
            " [-15.4167  28.2833   0.    ]\n",
            " [-15.4167  28.2833   0.    ]\n",
            " [-15.4167  28.2833   0.    ]]\n",
            "[0. 0. 0. ... 3. 3. 3.]\n"
          ],
          "name": "stdout"
        }
      ]
    },
    {
      "cell_type": "code",
      "metadata": {
        "id": "CslOi88U1a0P",
        "colab_type": "code",
        "colab": {
          "base_uri": "https://localhost:8080/",
          "height": 69
        },
        "outputId": "806a78fe-f225-4136-f4f1-72722de01881"
      },
      "source": [
        "clf = neighbors.KNeighborsClassifier(n_neighbors)\n",
        "clf.fit(x, y)"
      ],
      "execution_count": null,
      "outputs": [
        {
          "output_type": "execute_result",
          "data": {
            "text/plain": [
              "KNeighborsClassifier(algorithm='auto', leaf_size=30, metric='minkowski',\n",
              "                     metric_params=None, n_jobs=None, n_neighbors=25, p=2,\n",
              "                     weights='uniform')"
            ]
          },
          "metadata": {
            "tags": []
          },
          "execution_count": 155
        }
      ]
    },
    {
      "cell_type": "code",
      "metadata": {
        "id": "vQyxwlCj2BkQ",
        "colab_type": "code",
        "colab": {}
      },
      "source": [
        "y_pred=clf.predict(x_test)"
      ],
      "execution_count": null,
      "outputs": []
    },
    {
      "cell_type": "code",
      "metadata": {
        "id": "2IyrxnTz3ARy",
        "colab_type": "code",
        "colab": {
          "base_uri": "https://localhost:8080/",
          "height": 52
        },
        "outputId": "464f2d4a-43eb-4896-d969-741a23ee206a"
      },
      "source": [
        "print(y_pred)\n",
        "print(y_test)"
      ],
      "execution_count": null,
      "outputs": [
        {
          "output_type": "stream",
          "text": [
            "[0. 0. 0. ... 0. 0. 0.]\n",
            "[ 0.  0. 32. ...  0.  1. 80.]\n"
          ],
          "name": "stdout"
        }
      ]
    },
    {
      "cell_type": "code",
      "metadata": {
        "id": "jIs6HTbZ3DIe",
        "colab_type": "code",
        "colab": {
          "base_uri": "https://localhost:8080/",
          "height": 35
        },
        "outputId": "b27c135c-f6ff-4fbb-ee55-bb269bf5229e"
      },
      "source": [
        "acc=metrics.accuracy_score(y_test,y_pred)\n",
        "print(acc)"
      ],
      "execution_count": null,
      "outputs": [
        {
          "output_type": "stream",
          "text": [
            "0.6248137108792846\n"
          ],
          "name": "stdout"
        }
      ]
    },
    {
      "cell_type": "code",
      "metadata": {
        "id": "ZGVJgZhK3YWh",
        "colab_type": "code",
        "colab": {
          "base_uri": "https://localhost:8080/",
          "height": 89
        },
        "outputId": "8b8ef2d5-ec2c-4373-8526-c035f667df68"
      },
      "source": [
        "pr=metrics.precision_score(y_test,y_pred,average='weighted') # you can add micro,macro and weighted from anyone of these choose and put in average=''\n",
        "print(pr)"
      ],
      "execution_count": null,
      "outputs": [
        {
          "output_type": "stream",
          "text": [
            "0.39039217330274223\n"
          ],
          "name": "stdout"
        },
        {
          "output_type": "stream",
          "text": [
            "/usr/local/lib/python3.6/dist-packages/sklearn/metrics/_classification.py:1272: UndefinedMetricWarning: Precision is ill-defined and being set to 0.0 in labels with no predicted samples. Use `zero_division` parameter to control this behavior.\n",
            "  _warn_prf(average, modifier, msg_start, len(result))\n"
          ],
          "name": "stderr"
        }
      ]
    },
    {
      "cell_type": "code",
      "metadata": {
        "id": "rk3DeqFZ4cSb",
        "colab_type": "code",
        "colab": {
          "base_uri": "https://localhost:8080/",
          "height": 35
        },
        "outputId": "5c62f989-d79a-4c1b-ad5a-ce76a718631a"
      },
      "source": [
        "t1=sc.transform([[56.0000,28.6743,0.8]])\n",
        "pt1=clf.predict(t1)\n",
        "pt1"
      ],
      "execution_count": null,
      "outputs": [
        {
          "output_type": "execute_result",
          "data": {
            "text/plain": [
              "array([0.])"
            ]
          },
          "metadata": {
            "tags": []
          },
          "execution_count": 160
        }
      ]
    },
    {
      "cell_type": "code",
      "metadata": {
        "id": "j7OhIGDv5TVt",
        "colab_type": "code",
        "colab": {
          "base_uri": "https://localhost:8080/",
          "height": 279
        },
        "outputId": "6f207c09-2785-47ca-bb39-a8f8ca2d8ea5"
      },
      "source": [
        "my_color=np.where(y==1, 'green', 'blue')\n",
        "plt.scatter(data.loc[:,'Fatalities'],data.loc[:,'ConfirmedCases'],color=my_color , s=1, alpha=1)\n",
        "plt.xlabel('Cases')\n",
        "plt.ylabel('Country/Region')\n",
        "plt.show()"
      ],
      "execution_count": null,
      "outputs": [
        {
          "output_type": "display_data",
          "data": {
            "image/png": "[encoded data removed]",
            "text/plain": [
              "<Figure size 432x288 with 1 Axes>"
            ]
          },
          "metadata": {
            "tags": [],
            "needs_background": "light"
          }
        }
      ]
    }
  ]
}