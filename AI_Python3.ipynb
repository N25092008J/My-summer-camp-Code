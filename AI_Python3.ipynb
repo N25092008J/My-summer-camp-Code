{
  "nbformat": 4,
  "nbformat_minor": 0,
  "metadata": {
    "colab": {
      "name": "AI Python3.ipynb",
      "provenance": [],
      "collapsed_sections": []
    },
    "kernelspec": {
      "name": "python3",
      "display_name": "Python 3"
    }
  },
  "cells": [
    {
      "cell_type": "markdown",
      "metadata": {
        "id": "Qf9eWOc1ZVkS",
        "colab_type": "text"
      },
      "source": [
        "Linear Regression"
      ]
    },
    {
      "cell_type": "markdown",
      "metadata": {
        "id": "-Ko4MMtP9Ed-",
        "colab_type": "text"
      },
      "source": [
        "For importing libraries"
      ]
    },
    {
      "cell_type": "code",
      "metadata": {
        "id": "QZMqPUDw8wgS",
        "colab_type": "code",
        "colab": {}
      },
      "source": [
        "import matplotlib.pyplot as plt\n",
        "import numpy as np\n",
        "import pandas as pd \n",
        "from sklearn.model_selection import train_test_split \n",
        "from sklearn import linear_model\n",
        "from sklearn.metrics import mean_squared_error, r2_score"
      ],
      "execution_count": null,
      "outputs": []
    },
    {
      "cell_type": "markdown",
      "metadata": {
        "id": "GRC4XU_V9HVI",
        "colab_type": "text"
      },
      "source": [
        "for selecting data"
      ]
    },
    {
      "cell_type": "code",
      "metadata": {
        "id": "ElG7r00X8zhL",
        "colab_type": "code",
        "colab": {
          "base_uri": "https://localhost:8080/",
          "height": 243
        },
        "outputId": "6ffc4c16-7569-4d97-832a-4c670e68a2fe"
      },
      "source": [
        "data_set=pd.read_csv('kc_house_data.csv')\n",
        "# for displaying first 5 rows\n",
        "print(data_set.head())\n",
        "data_set.columns"
      ],
      "execution_count": null,
      "outputs": [
        {
          "output_type": "stream",
          "text": [
            "           id             date     price  ...     long  sqft_living15  sqft_lot15\n",
            "0  7129300520  20141013T000000  221900.0  ... -122.257           1340        5650\n",
            "1  6414100192  20141209T000000  538000.0  ... -122.319           1690        7639\n",
            "2  5631500400  20150225T000000  180000.0  ... -122.233           2720        8062\n",
            "3  2487200875  20141209T000000  604000.0  ... -122.393           1360        5000\n",
            "4  1954400510  20150218T000000  510000.0  ... -122.045           1800        7503\n",
            "\n",
            "[5 rows x 21 columns]\n"
          ],
          "name": "stdout"
        },
        {
          "output_type": "execute_result",
          "data": {
            "text/plain": [
              "Index(['id', 'date', 'price', 'bedrooms', 'bathrooms', 'sqft_living',\n",
              "       'sqft_lot', 'floors', 'waterfront', 'view', 'condition', 'grade',\n",
              "       'sqft_above', 'sqft_basement', 'yr_built', 'yr_renovated', 'zipcode',\n",
              "       'lat', 'long', 'sqft_living15', 'sqft_lot15'],\n",
              "      dtype='object')"
            ]
          },
          "metadata": {
            "tags": []
          },
          "execution_count": 3
        }
      ]
    },
    {
      "cell_type": "markdown",
      "metadata": {
        "id": "2ykDM2nJ9X-e",
        "colab_type": "text"
      },
      "source": [
        "for checking whole data"
      ]
    },
    {
      "cell_type": "code",
      "metadata": {
        "id": "KHKqZ8XD9U1A",
        "colab_type": "code",
        "colab": {
          "base_uri": "https://localhost:8080/",
          "height": 347
        },
        "outputId": "ade25a26-5ecd-413c-82f6-8ad480b1d618"
      },
      "source": [
        "print(data_set)\n",
        "data_set.columns"
      ],
      "execution_count": null,
      "outputs": [
        {
          "output_type": "stream",
          "text": [
            "               id             date  ...  sqft_living15  sqft_lot15\n",
            "0      7129300520  20141013T000000  ...           1340        5650\n",
            "1      6414100192  20141209T000000  ...           1690        7639\n",
            "2      5631500400  20150225T000000  ...           2720        8062\n",
            "3      2487200875  20141209T000000  ...           1360        5000\n",
            "4      1954400510  20150218T000000  ...           1800        7503\n",
            "...           ...              ...  ...            ...         ...\n",
            "21608   263000018  20140521T000000  ...           1530        1509\n",
            "21609  6600060120  20150223T000000  ...           1830        7200\n",
            "21610  1523300141  20140623T000000  ...           1020        2007\n",
            "21611   291310100  20150116T000000  ...           1410        1287\n",
            "21612  1523300157  20141015T000000  ...           1020        1357\n",
            "\n",
            "[21613 rows x 21 columns]\n"
          ],
          "name": "stdout"
        },
        {
          "output_type": "execute_result",
          "data": {
            "text/plain": [
              "Index(['id', 'date', 'price', 'bedrooms', 'bathrooms', 'sqft_living',\n",
              "       'sqft_lot', 'floors', 'waterfront', 'view', 'condition', 'grade',\n",
              "       'sqft_above', 'sqft_basement', 'yr_built', 'yr_renovated', 'zipcode',\n",
              "       'lat', 'long', 'sqft_living15', 'sqft_lot15'],\n",
              "      dtype='object')"
            ]
          },
          "metadata": {
            "tags": []
          },
          "execution_count": 39
        }
      ]
    },
    {
      "cell_type": "markdown",
      "metadata": {
        "id": "Q3GGxBwi-t58",
        "colab_type": "text"
      },
      "source": [
        "For choosing data"
      ]
    },
    {
      "cell_type": "code",
      "metadata": {
        "id": "BqJwZ9ph9a06",
        "colab_type": "code",
        "colab": {
          "base_uri": "https://localhost:8080/",
          "height": 277
        },
        "outputId": "f7ad33f3-0677-44b2-c89d-c672b2a972f9"
      },
      "source": [
        "x=data_set[['lat','bedrooms','yr_renovated','grade','sqft_lot15']]\n",
        "y=data_set.iloc[:,2].values\n",
        "print(x)\n",
        "print(y)"
      ],
      "execution_count": null,
      "outputs": [
        {
          "output_type": "stream",
          "text": [
            "           lat  bedrooms  yr_renovated  grade  sqft_lot15\n",
            "0      47.5112         3             0      7        5650\n",
            "1      47.7210         3          1991      7        7639\n",
            "2      47.7379         2             0      6        8062\n",
            "3      47.5208         4             0      7        5000\n",
            "4      47.6168         3             0      8        7503\n",
            "...        ...       ...           ...    ...         ...\n",
            "21608  47.6993         3             0      8        1509\n",
            "21609  47.5107         4             0      8        7200\n",
            "21610  47.5944         2             0      7        2007\n",
            "21611  47.5345         3             0      8        1287\n",
            "21612  47.5941         2             0      7        1357\n",
            "\n",
            "[21613 rows x 5 columns]\n",
            "[221900. 538000. 180000. ... 402101. 400000. 325000.]\n"
          ],
          "name": "stdout"
        }
      ]
    },
    {
      "cell_type": "markdown",
      "metadata": {
        "id": "znNs7uSR-8cC",
        "colab_type": "text"
      },
      "source": [
        "for splitting the data"
      ]
    },
    {
      "cell_type": "code",
      "metadata": {
        "id": "4LuIvyf_-mCU",
        "colab_type": "code",
        "colab": {
          "base_uri": "https://localhost:8080/",
          "height": 537
        },
        "outputId": "2e37d9a1-c1a6-4f56-faff-5fc0a83b5d15"
      },
      "source": [
        "# splitting training and test data\n",
        "x_train,x_test,y_train,y_test=train_test_split(x,y,test_size=0.2,random_state=3)\n",
        "# for checking the values\n",
        "print(x_train)\n",
        "print(x_test)\n",
        "print(y_train)\n",
        "print(y_test)"
      ],
      "execution_count": null,
      "outputs": [
        {
          "output_type": "stream",
          "text": [
            "           lat  bedrooms  yr_renovated  grade  sqft_lot15\n",
            "14084  47.7218         3             0      7       67756\n",
            "13750  47.2498         3             0      9      101494\n",
            "619    47.3128         3             0      8        7245\n",
            "18985  47.6857         3             0      7        5100\n",
            "21382  47.4838         4             0      8        6543\n",
            "...        ...       ...           ...    ...         ...\n",
            "6400   47.5194         3             0      6        5050\n",
            "15288  47.3653         3             0      7        5200\n",
            "11513  47.3840         3             0      7        7628\n",
            "1688   47.4599         2             0      7      185565\n",
            "5994   47.5469         2             0      6        5160\n",
            "\n",
            "[17290 rows x 5 columns]\n",
            "           lat  bedrooms  yr_renovated  grade  sqft_lot15\n",
            "4131   47.7662         3             0      8        9829\n",
            "17459  47.5309         5          2002     10       13500\n",
            "2192   47.5898         4             0      9        5615\n",
            "12418  47.5138         1             0      5        8244\n",
            "15773  47.5372         4             0      5       27153\n",
            "...        ...       ...           ...    ...         ...\n",
            "13300  47.7366         4             0      7        8132\n",
            "20400  47.5396         2             0      7        1007\n",
            "10378  47.6392         4             0     10        5600\n",
            "9914   47.6468         5             0     10       37034\n",
            "15860  47.3673         3             0      7        7936\n",
            "\n",
            "[4323 rows x 5 columns]\n",
            "[450000. 599950. 210000. ... 349950. 510000. 286000.]\n",
            "[ 525000. 1870000.  750000. ...  979700. 1315000.  280000.]\n"
          ],
          "name": "stdout"
        }
      ]
    },
    {
      "cell_type": "code",
      "metadata": {
        "id": "ILJyRf51_AXO",
        "colab_type": "code",
        "colab": {}
      },
      "source": [
        "care=linear_model.LinearRegression()"
      ],
      "execution_count": null,
      "outputs": []
    },
    {
      "cell_type": "code",
      "metadata": {
        "id": "XAbW_8vi_KuP",
        "colab_type": "code",
        "colab": {
          "base_uri": "https://localhost:8080/",
          "height": 35
        },
        "outputId": "13eb1d45-a2a1-4f6b-bfa2-83343a331c33"
      },
      "source": [
        "care.fit(x_train,y_train)"
      ],
      "execution_count": null,
      "outputs": [
        {
          "output_type": "execute_result",
          "data": {
            "text/plain": [
              "LinearRegression(copy_X=True, fit_intercept=True, n_jobs=None, normalize=False)"
            ]
          },
          "metadata": {
            "tags": []
          },
          "execution_count": 69
        }
      ]
    },
    {
      "cell_type": "code",
      "metadata": {
        "id": "fGreQPlZAKaU",
        "colab_type": "code",
        "colab": {}
      },
      "source": [
        "y_pred=care.predict(x_test)"
      ],
      "execution_count": null,
      "outputs": []
    },
    {
      "cell_type": "code",
      "metadata": {
        "id": "wMNJMJ96BqTz",
        "colab_type": "code",
        "colab": {
          "base_uri": "https://localhost:8080/",
          "height": 252
        },
        "outputId": "1a6a740f-b6b8-4608-b322-ffcd6f64b317"
      },
      "source": [
        "plt.scatter(x_test['lat'],y_test,  color='black')\n",
        "# line plot with predicted data\n",
        "plt.plot(x_test,y_pred , color='blue', linewidth=3)\n",
        "# for not having values in the x axis and y axis\n",
        "plt.xticks(())\n",
        "plt.yticks(())\n",
        "plt.show()"
      ],
      "execution_count": null,
      "outputs": [
        {
          "output_type": "display_data",
          "data": {
            "image/png": "[encoded data removed]",
            "text/plain": [
              "<Figure size 432x288 with 1 Axes>"
            ]
          },
          "metadata": {
            "tags": []
          }
        }
      ]
    },
    {
      "cell_type": "code",
      "metadata": {
        "id": "duJbrs4oSmUd",
        "colab_type": "code",
        "colab": {
          "base_uri": "https://localhost:8080/",
          "height": 252
        },
        "outputId": "09dc5d9e-589e-4ebd-85ff-9bdc136897d1"
      },
      "source": [
        "plt.scatter(x_test['bedrooms'],y_test,  color='black')\n",
        "# line plot with predicted data\n",
        "plt.plot(x_test,y_pred , color='blue', linewidth=3)\n",
        "# for not having values in the x axis and y axis\n",
        "plt.xticks(())\n",
        "plt.yticks(())\n",
        "plt.show()"
      ],
      "execution_count": null,
      "outputs": [
        {
          "output_type": "display_data",
          "data": {
            "image/png": "[encoded data removed]",
            "text/plain": [
              "<Figure size 432x288 with 1 Axes>"
            ]
          },
          "metadata": {
            "tags": []
          }
        }
      ]
    },
    {
      "cell_type": "code",
      "metadata": {
        "id": "hndJ_aH6So2r",
        "colab_type": "code",
        "colab": {
          "base_uri": "https://localhost:8080/",
          "height": 252
        },
        "outputId": "ae208066-90c1-45d7-b82c-532e1bb89f43"
      },
      "source": [
        "plt.scatter(x_test['yr_renovated'],y_test,  color='black')\n",
        "# line plot with predicted data\n",
        "plt.plot(x_test,y_pred , color='blue', linewidth=3)\n",
        "# for not having values in the x axis and y axis\n",
        "plt.xticks(())\n",
        "plt.yticks(())\n",
        "plt.show()"
      ],
      "execution_count": null,
      "outputs": [
        {
          "output_type": "display_data",
          "data": {
            "image/png": "[encoded data removed]",
            "text/plain": [
              "<Figure size 432x288 with 1 Axes>"
            ]
          },
          "metadata": {
            "tags": []
          }
        }
      ]
    },
    {
      "cell_type": "code",
      "metadata": {
        "id": "3JsgoFmzSrgC",
        "colab_type": "code",
        "colab": {
          "base_uri": "https://localhost:8080/",
          "height": 252
        },
        "outputId": "0fb80396-279f-4cba-8c59-6aa171001291"
      },
      "source": [
        "plt.scatter(x_test['grade'],y_test,  color='black')\n",
        "# line plot with predicted data\n",
        "plt.plot(x_test,y_pred , color='blue', linewidth=3)\n",
        "# for not having values in the x axis and y axis\n",
        "plt.xticks(())\n",
        "plt.yticks(())\n",
        "plt.show()"
      ],
      "execution_count": null,
      "outputs": [
        {
          "output_type": "display_data",
          "data": {
            "image/png": "[encoded data removed]",
            "text/plain": [
              "<Figure size 432x288 with 1 Axes>"
            ]
          },
          "metadata": {
            "tags": []
          }
        }
      ]
    },
    {
      "cell_type": "code",
      "metadata": {
        "id": "uhlYU0QUSuZo",
        "colab_type": "code",
        "colab": {
          "base_uri": "https://localhost:8080/",
          "height": 252
        },
        "outputId": "242b31ed-e5a0-443f-c6b6-c15eb37d301b"
      },
      "source": [
        "plt.scatter(x_test['sqft_lot15'],y_test,  color='black')\n",
        "# line plot with predicted data\n",
        "plt.plot(x_test,y_pred , color='blue', linewidth=3)\n",
        "# for not having values in the x axis and y axis\n",
        "plt.xticks(())\n",
        "plt.yticks(())\n",
        "plt.show()"
      ],
      "execution_count": null,
      "outputs": [
        {
          "output_type": "display_data",
          "data": {
            "image/png": "[encoded data removed]",
            "text/plain": [
              "<Figure size 432x288 with 1 Axes>"
            ]
          },
          "metadata": {
            "tags": []
          }
        }
      ]
    },
    {
      "cell_type": "code",
      "metadata": {
        "id": "WKlL6xibDpaC",
        "colab_type": "code",
        "colab": {
          "base_uri": "https://localhost:8080/",
          "height": 35
        },
        "outputId": "7151cc19-2150-4c0f-ccdd-f19625ba4c99"
      },
      "source": [
        "# for MSE\n",
        "mse=mean_squared_error(y_test,y_pred)\n",
        "print(mse)"
      ],
      "execution_count": null,
      "outputs": [
        {
          "output_type": "stream",
          "text": [
            "60894435522.54071\n"
          ],
          "name": "stdout"
        }
      ]
    },
    {
      "cell_type": "code",
      "metadata": {
        "id": "zeVV_HtzD3-r",
        "colab_type": "code",
        "colab": {
          "base_uri": "https://localhost:8080/",
          "height": 35
        },
        "outputId": "4d959b3e-969b-4da3-fea3-04192dc20077"
      },
      "source": [
        "# for r2 score\n",
        "score=r2_score(y_test,y_pred)\n",
        "print(score)"
      ],
      "execution_count": null,
      "outputs": [
        {
          "output_type": "stream",
          "text": [
            "0.5255983581966697\n"
          ],
          "name": "stdout"
        }
      ]
    }
  ]
}