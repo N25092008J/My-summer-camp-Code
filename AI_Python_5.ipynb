{
  "nbformat": 4,
  "nbformat_minor": 0,
  "metadata": {
    "colab": {
      "name": "AI Python 5.ipynb",
      "provenance": [],
      "collapsed_sections": []
    },
    "kernelspec": {
      "name": "python3",
      "display_name": "Python 3"
    }
  },
  "cells": [
    {
      "cell_type": "markdown",
      "metadata": {
        "id": "FoI5ICfQZlGL",
        "colab_type": "text"
      },
      "source": [
        "Logistic Regression"
      ]
    },
    {
      "cell_type": "markdown",
      "metadata": {
        "id": "AlDxAiq1TOqW",
        "colab_type": "text"
      },
      "source": [
        "Importing Libraries"
      ]
    },
    {
      "cell_type": "code",
      "metadata": {
        "id": "trzDgq9VS6rY",
        "colab_type": "code",
        "colab": {}
      },
      "source": [
        "import numpy as np\n",
        "import matplotlib.pyplot as plt\n",
        "from sklearn.linear_model import LogisticRegression\n",
        "import pandas as pd\n",
        "from sklearn.model_selection import train_test_split \n",
        "from sklearn.preprocessing import LabelEncoder\n",
        "from sklearn import metrics\n",
        "from sklearn.preprocessing import StandardScaler"
      ],
      "execution_count": null,
      "outputs": []
    },
    {
      "cell_type": "markdown",
      "metadata": {
        "id": "BgCpyct1WOJ8",
        "colab_type": "text"
      },
      "source": [
        "Dependent variable and Independent Variables"
      ]
    },
    {
      "cell_type": "code",
      "metadata": {
        "id": "itsy4O2PTVU4",
        "colab_type": "code",
        "colab": {
          "base_uri": "https://localhost:8080/",
          "height": 35
        },
        "outputId": "47680b32-e20d-49ca-abc2-30baca343af7"
      },
      "source": [
        "data=pd.read_csv('iphone_purchase_records.csv')\n",
        "data.columns"
      ],
      "execution_count": null,
      "outputs": [
        {
          "output_type": "execute_result",
          "data": {
            "text/plain": [
              "Index(['Gender', 'Age', 'Salary', 'Purchase Iphone'], dtype='object')"
            ]
          },
          "metadata": {
            "tags": []
          },
          "execution_count": 15
        }
      ]
    },
    {
      "cell_type": "code",
      "metadata": {
        "id": "Z167fzhaWni-",
        "colab_type": "code",
        "colab": {}
      },
      "source": [
        "# Independent Variable\n",
        "x=data.iloc[:,:3].values\n",
        "y=data.iloc[:,3].values\n"
      ],
      "execution_count": null,
      "outputs": []
    },
    {
      "cell_type": "code",
      "metadata": {
        "id": "TrGawOn2WdrG",
        "colab_type": "code",
        "colab": {
          "base_uri": "https://localhost:8080/",
          "height": 139
        },
        "outputId": "9d38c76b-e8ae-404c-b0f2-38541d2382c2"
      },
      "source": [
        "le=LabelEncoder()\n",
        "x[:,0]=le.fit_transform(x[:,0])\n",
        "print(x)"
      ],
      "execution_count": null,
      "outputs": [
        {
          "output_type": "stream",
          "text": [
            "[[1 19 19000]\n",
            " [1 35 20000]\n",
            " [0 26 43000]\n",
            " ...\n",
            " [0 50 20000]\n",
            " [1 36 33000]\n",
            " [0 49 36000]]\n"
          ],
          "name": "stdout"
        }
      ]
    },
    {
      "cell_type": "code",
      "metadata": {
        "id": "t7iwl6YjYR6w",
        "colab_type": "code",
        "colab": {
          "base_uri": "https://localhost:8080/",
          "height": 1000
        },
        "outputId": "70b15594-4fb5-45fa-98d8-b7913691affb"
      },
      "source": [
        "# splitting training and test data\n",
        "x_train,x_test,y_train,y_test=train_test_split(x,y,train_size=0.72,random_state=3)\n",
        "# for checking the values\n",
        "print(x_train)\n",
        "print(x_test)\n",
        "print(y_train)\n",
        "print(y_test)"
      ],
      "execution_count": null,
      "outputs": [
        {
          "output_type": "stream",
          "text": [
            "[[1 28 59000]\n",
            " [0 20 36000]\n",
            " [1 34 43000]\n",
            " [1 47 20000]\n",
            " [0 41 80000]\n",
            " [0 23 82000]\n",
            " [0 42 80000]\n",
            " [0 46 82000]\n",
            " [1 40 57000]\n",
            " [1 24 58000]\n",
            " [0 37 62000]\n",
            " [1 26 16000]\n",
            " [0 48 30000]\n",
            " [1 25 80000]\n",
            " [0 41 71000]\n",
            " [0 33 149000]\n",
            " [0 53 82000]\n",
            " [1 37 52000]\n",
            " [1 49 74000]\n",
            " [0 49 39000]\n",
            " [0 22 63000]\n",
            " [1 19 70000]\n",
            " [0 22 27000]\n",
            " [0 38 112000]\n",
            " [0 58 101000]\n",
            " [1 22 18000]\n",
            " [0 39 61000]\n",
            " [1 35 108000]\n",
            " [1 19 76000]\n",
            " [1 37 72000]\n",
            " [0 41 72000]\n",
            " [0 35 72000]\n",
            " [1 37 53000]\n",
            " [0 52 90000]\n",
            " [0 38 80000]\n",
            " [1 40 59000]\n",
            " [1 56 133000]\n",
            " [1 37 75000]\n",
            " [0 27 84000]\n",
            " [0 56 104000]\n",
            " [0 35 60000]\n",
            " [0 37 57000]\n",
            " [0 41 72000]\n",
            " [0 22 55000]\n",
            " [0 50 20000]\n",
            " [0 40 72000]\n",
            " [0 20 82000]\n",
            " [0 27 57000]\n",
            " [0 54 26000]\n",
            " [0 40 75000]\n",
            " [0 28 87000]\n",
            " [1 42 64000]\n",
            " [0 59 83000]\n",
            " [1 46 28000]\n",
            " [1 41 45000]\n",
            " [1 47 34000]\n",
            " [1 30 15000]\n",
            " [0 59 88000]\n",
            " [1 35 38000]\n",
            " [1 35 61000]\n",
            " [1 19 85000]\n",
            " [0 42 53000]\n",
            " [1 60 42000]\n",
            " [0 43 133000]\n",
            " [1 42 73000]\n",
            " [0 51 146000]\n",
            " [1 29 148000]\n",
            " [0 47 107000]\n",
            " [1 23 20000]\n",
            " [1 57 60000]\n",
            " [1 30 89000]\n",
            " [0 48 96000]\n",
            " [1 36 118000]\n",
            " [0 45 45000]\n",
            " [0 47 49000]\n",
            " [1 36 144000]\n",
            " [1 26 86000]\n",
            " [1 25 22000]\n",
            " [1 28 79000]\n",
            " [1 48 74000]\n",
            " [0 50 36000]\n",
            " [0 35 77000]\n",
            " [0 60 46000]\n",
            " [1 21 88000]\n",
            " [1 31 18000]\n",
            " [0 37 33000]\n",
            " [1 20 74000]\n",
            " [0 37 80000]\n",
            " [1 35 22000]\n",
            " [1 45 79000]\n",
            " [0 29 83000]\n",
            " [0 57 33000]\n",
            " [1 40 71000]\n",
            " [0 57 122000]\n",
            " [1 30 87000]\n",
            " [0 33 41000]\n",
            " [1 35 50000]\n",
            " [0 43 112000]\n",
            " [1 27 90000]\n",
            " [0 20 23000]\n",
            " [0 49 36000]\n",
            " [1 46 117000]\n",
            " [1 19 25000]\n",
            " [0 48 35000]\n",
            " [0 46 32000]\n",
            " [0 37 71000]\n",
            " [1 38 51000]\n",
            " [1 20 86000]\n",
            " [0 28 85000]\n",
            " [1 26 80000]\n",
            " [1 35 58000]\n",
            " [1 36 99000]\n",
            " [0 38 55000]\n",
            " [0 33 69000]\n",
            " [0 23 28000]\n",
            " [0 50 44000]\n",
            " [0 52 138000]\n",
            " [0 35 25000]\n",
            " [0 47 47000]\n",
            " [0 37 80000]\n",
            " [0 33 51000]\n",
            " [1 32 120000]\n",
            " [1 37 144000]\n",
            " [0 30 79000]\n",
            " [0 42 90000]\n",
            " [1 32 18000]\n",
            " [1 40 75000]\n",
            " [0 31 34000]\n",
            " [1 45 26000]\n",
            " [1 49 86000]\n",
            " [0 26 52000]\n",
            " [1 35 55000]\n",
            " [0 52 114000]\n",
            " [1 22 81000]\n",
            " [0 18 44000]\n",
            " [0 31 118000]\n",
            " [0 41 51000]\n",
            " [1 25 90000]\n",
            " [1 26 81000]\n",
            " [1 55 39000]\n",
            " [1 48 33000]\n",
            " [0 35 44000]\n",
            " [0 35 57000]\n",
            " [0 27 31000]\n",
            " [1 24 55000]\n",
            " [0 31 71000]\n",
            " [1 40 61000]\n",
            " [0 24 89000]\n",
            " [1 26 30000]\n",
            " [0 42 75000]\n",
            " [1 39 134000]\n",
            " [1 49 89000]\n",
            " [1 37 70000]\n",
            " [1 35 39000]\n",
            " [0 24 27000]\n",
            " [1 42 54000]\n",
            " [0 38 65000]\n",
            " [0 48 138000]\n",
            " [0 39 79000]\n",
            " [1 59 130000]\n",
            " [0 38 50000]\n",
            " [0 21 68000]\n",
            " [1 27 20000]\n",
            " [0 51 134000]\n",
            " [1 56 60000]\n",
            " [1 27 88000]\n",
            " [0 48 29000]\n",
            " [0 47 113000]\n",
            " [0 39 73000]\n",
            " [1 48 90000]\n",
            " [1 38 71000]\n",
            " [1 25 33000]\n",
            " [0 52 21000]\n",
            " [1 26 15000]\n",
            " [0 48 134000]\n",
            " [0 21 16000]\n",
            " [1 23 63000]\n",
            " [1 48 41000]\n",
            " [0 23 66000]\n",
            " [1 39 71000]\n",
            " [0 60 108000]\n",
            " [1 39 122000]\n",
            " [0 53 104000]\n",
            " [1 40 57000]\n",
            " [0 29 83000]\n",
            " [1 42 65000]\n",
            " [0 34 43000]\n",
            " [1 35 27000]\n",
            " [1 24 23000]\n",
            " [0 35 71000]\n",
            " [0 36 126000]\n",
            " [0 36 75000]\n",
            " [1 57 74000]\n",
            " [0 28 84000]\n",
            " [0 58 38000]\n",
            " [1 18 52000]\n",
            " [0 40 142000]\n",
            " [0 59 42000]\n",
            " [1 37 74000]\n",
            " [1 39 96000]\n",
            " [1 49 65000]\n",
            " [1 47 23000]\n",
            " [0 35 65000]\n",
            " [1 41 72000]\n",
            " [0 54 108000]\n",
            " [0 37 93000]\n",
            " [0 36 63000]\n",
            " [0 19 21000]\n",
            " [0 38 50000]\n",
            " [1 38 61000]\n",
            " [0 39 59000]\n",
            " [0 30 116000]\n",
            " [0 32 117000]\n",
            " [0 39 75000]\n",
            " [0 58 47000]\n",
            " [0 26 118000]\n",
            " [1 40 107000]\n",
            " [0 33 28000]\n",
            " [1 46 59000]\n",
            " [0 26 43000]\n",
            " [0 50 88000]\n",
            " [1 36 125000]\n",
            " [0 37 78000]\n",
            " [1 30 135000]\n",
            " [0 18 68000]\n",
            " [1 60 102000]\n",
            " [1 33 43000]\n",
            " [0 48 119000]\n",
            " [1 54 70000]\n",
            " [1 32 100000]\n",
            " [1 58 144000]\n",
            " [1 59 143000]\n",
            " [0 28 37000]\n",
            " [1 46 79000]\n",
            " [1 36 52000]\n",
            " [1 35 75000]\n",
            " [1 35 20000]\n",
            " [1 37 55000]\n",
            " [1 38 71000]\n",
            " [0 34 72000]\n",
            " [0 37 146000]\n",
            " [1 60 34000]\n",
            " [0 33 60000]\n",
            " [0 18 86000]\n",
            " [0 57 26000]\n",
            " [1 29 43000]\n",
            " [1 19 19000]\n",
            " [0 27 58000]\n",
            " [1 29 43000]\n",
            " [0 55 130000]\n",
            " [0 31 89000]\n",
            " [0 38 113000]\n",
            " [1 45 22000]\n",
            " [1 37 77000]\n",
            " [0 35 47000]\n",
            " [0 36 54000]\n",
            " [0 28 44000]\n",
            " [1 34 115000]\n",
            " [0 32 150000]\n",
            " [1 45 32000]\n",
            " [1 36 33000]\n",
            " [0 26 35000]\n",
            " [1 28 123000]\n",
            " [0 39 71000]\n",
            " [1 43 129000]\n",
            " [0 31 68000]\n",
            " [1 53 72000]\n",
            " [0 26 84000]\n",
            " [0 54 104000]\n",
            " [0 58 95000]\n",
            " [1 41 52000]\n",
            " [0 26 15000]\n",
            " [1 35 79000]\n",
            " [1 49 28000]\n",
            " [0 29 28000]\n",
            " [1 29 61000]\n",
            " [1 41 59000]\n",
            " [0 28 59000]\n",
            " [0 29 47000]\n",
            " [0 42 79000]\n",
            " [0 39 134000]\n",
            " [0 41 30000]\n",
            " [1 49 88000]\n",
            " [0 41 72000]\n",
            " [1 33 31000]\n",
            " [0 35 97000]\n",
            " [1 31 76000]\n",
            " [0 47 50000]]\n",
            "[[0 46 74000]\n",
            " [1 47 25000]\n",
            " [0 59 29000]\n",
            " [1 20 49000]\n",
            " [1 27 89000]\n",
            " [1 40 78000]\n",
            " [1 51 23000]\n",
            " [0 23 48000]\n",
            " [0 44 39000]\n",
            " [0 27 17000]\n",
            " [0 41 60000]\n",
            " [1 39 42000]\n",
            " [1 46 88000]\n",
            " [1 35 53000]\n",
            " [1 26 32000]\n",
            " [1 24 19000]\n",
            " [1 30 49000]\n",
            " [1 24 84000]\n",
            " [0 37 137000]\n",
            " [0 40 60000]\n",
            " [0 32 86000]\n",
            " [0 34 25000]\n",
            " [1 29 80000]\n",
            " [1 42 65000]\n",
            " [0 33 113000]\n",
            " [1 31 58000]\n",
            " [1 42 54000]\n",
            " [1 52 150000]\n",
            " [1 41 79000]\n",
            " [1 46 23000]\n",
            " [0 44 139000]\n",
            " [1 28 32000]\n",
            " [1 42 104000]\n",
            " [0 46 96000]\n",
            " [1 35 88000]\n",
            " [1 41 52000]\n",
            " [1 30 107000]\n",
            " [1 38 61000]\n",
            " [1 35 91000]\n",
            " [0 20 82000]\n",
            " [0 49 141000]\n",
            " [0 27 137000]\n",
            " [0 35 147000]\n",
            " [1 39 42000]\n",
            " [1 49 28000]\n",
            " [0 42 70000]\n",
            " [0 19 26000]\n",
            " [0 45 131000]\n",
            " [1 35 75000]\n",
            " [1 25 87000]\n",
            " [0 28 55000]\n",
            " [1 29 75000]\n",
            " [1 36 60000]\n",
            " [0 27 96000]\n",
            " [0 47 30000]\n",
            " [1 41 87000]\n",
            " [0 24 55000]\n",
            " [1 47 105000]\n",
            " [0 31 15000]\n",
            " [1 40 65000]\n",
            " [1 30 17000]\n",
            " [0 52 38000]\n",
            " [1 48 141000]\n",
            " [1 35 73000]\n",
            " [1 35 59000]\n",
            " [1 37 79000]\n",
            " [1 47 43000]\n",
            " [1 60 42000]\n",
            " [1 31 66000]\n",
            " [0 55 125000]\n",
            " [1 21 72000]\n",
            " [0 53 34000]\n",
            " [0 30 62000]\n",
            " [0 35 23000]\n",
            " [1 39 77000]\n",
            " [0 35 50000]\n",
            " [0 26 80000]\n",
            " [1 40 57000]\n",
            " [1 32 18000]\n",
            " [1 28 89000]\n",
            " [0 53 143000]\n",
            " [1 35 72000]\n",
            " [1 42 149000]\n",
            " [0 45 22000]\n",
            " [0 47 51000]\n",
            " [1 42 80000]\n",
            " [1 39 106000]\n",
            " [1 38 59000]\n",
            " [0 41 63000]\n",
            " [0 36 50000]\n",
            " [0 32 117000]\n",
            " [0 24 32000]\n",
            " [0 26 72000]\n",
            " [0 47 144000]\n",
            " [1 48 33000]\n",
            " [0 48 131000]\n",
            " [1 30 80000]\n",
            " [0 59 76000]\n",
            " [0 46 41000]\n",
            " [1 27 58000]\n",
            " [1 34 112000]\n",
            " [1 18 82000]\n",
            " [0 27 54000]\n",
            " [1 25 79000]\n",
            " [0 58 23000]\n",
            " [0 32 135000]\n",
            " [0 26 17000]\n",
            " [0 42 108000]\n",
            " [1 31 74000]\n",
            " [0 46 22000]\n",
            " [1 40 47000]\n",
            " [1 60 83000]]\n",
            "[0 0 0 1 0 0 1 0 0 0 0 0 1 0 0 1 1 0 0 1 0 0 0 0 1 0 0 0 0 0 0 0 0 1 0 0 1\n",
            " 0 0 1 0 0 0 0 1 0 0 0 1 0 0 0 0 1 0 1 0 1 0 0 0 0 1 0 1 1 1 1 0 1 0 1 1 1\n",
            " 1 1 0 0 0 1 1 0 1 0 0 0 0 0 0 0 0 1 1 1 0 0 0 1 0 0 1 1 0 1 1 0 0 0 0 0 0\n",
            " 1 0 0 0 0 1 0 0 0 0 1 1 0 1 0 0 0 1 1 0 0 0 0 0 1 0 0 0 1 1 0 0 0 0 0 0 0\n",
            " 0 0 1 1 1 0 0 0 0 1 0 1 0 0 0 0 1 0 1 1 0 1 0 0 1 0 1 0 0 1 0 0 1 1 1 0 0\n",
            " 0 0 0 0 0 1 0 1 0 1 0 1 0 0 1 0 1 0 0 1 1 0 0 0 0 0 0 1 1 1 0 1 0 0 0 1 1\n",
            " 1 1 0 1 0 1 1 1 1 1 0 1 0 0 0 0 0 0 1 1 0 0 1 0 0 0 0 1 0 1 1 0 0 0 0 0 1\n",
            " 1 0 0 1 0 1 0 1 0 1 1 0 0 0 1 0 0 0 0 0 0 1 0 1 0 0 1 0 1]\n",
            "[0 1 1 0 0 0 1 0 0 0 0 0 1 0 0 0 0 0 1 0 0 0 0 0 0 0 0 1 0 1 1 0 1 0 0 0 1\n",
            " 0 1 0 1 1 1 0 1 0 0 1 0 0 0 0 0 1 1 1 0 1 0 0 0 1 0 0 0 1 0 1 0 1 0 1 0 0\n",
            " 0 0 0 0 0 0 1 0 1 1 1 0 1 0 0 0 0 0 0 1 1 1 0 1 1 0 1 0 0 0 1 1 0 1 0 0 0\n",
            " 1]\n"
          ],
          "name": "stdout"
        }
      ]
    },
    {
      "cell_type": "code",
      "metadata": {
        "id": "nPTFyBI2Zj-H",
        "colab_type": "code",
        "colab": {}
      },
      "source": [
        "sc=StandardScaler()\n",
        "x_train=sc.fit_transform(x_train)\n",
        "x_test=sc.fit_transform(x_test)"
      ],
      "execution_count": null,
      "outputs": []
    },
    {
      "cell_type": "code",
      "metadata": {
        "id": "9NMV2cSJbeKW",
        "colab_type": "code",
        "colab": {}
      },
      "source": [
        "model=LogisticRegression(random_state=0,solver='liblinear')"
      ],
      "execution_count": null,
      "outputs": []
    },
    {
      "cell_type": "code",
      "metadata": {
        "id": "B8YJtkU5bqDJ",
        "colab_type": "code",
        "colab": {
          "base_uri": "https://localhost:8080/",
          "height": 104
        },
        "outputId": "7843ae93-1c7a-4f56-b6ab-24d31b4c500f"
      },
      "source": [
        "model.fit(x_train,y_train)"
      ],
      "execution_count": null,
      "outputs": [
        {
          "output_type": "execute_result",
          "data": {
            "text/plain": [
              "LogisticRegression(C=1.0, class_weight=None, dual=False, fit_intercept=True,\n",
              "                   intercept_scaling=1, l1_ratio=None, max_iter=100,\n",
              "                   multi_class='auto', n_jobs=None, penalty='l2',\n",
              "                   random_state=0, solver='liblinear', tol=0.0001, verbose=0,\n",
              "                   warm_start=False)"
            ]
          },
          "metadata": {
            "tags": []
          },
          "execution_count": 21
        }
      ]
    },
    {
      "cell_type": "code",
      "metadata": {
        "id": "YQc7PCPdcTz2",
        "colab_type": "code",
        "colab": {}
      },
      "source": [
        "y_pred=model.predict(x_test)"
      ],
      "execution_count": null,
      "outputs": []
    },
    {
      "cell_type": "code",
      "metadata": {
        "id": "qRsWSIh7cyOg",
        "colab_type": "code",
        "colab": {
          "base_uri": "https://localhost:8080/",
          "height": 156
        },
        "outputId": "ad37a11e-b8ec-4b00-a300-ca13aa8fc79e"
      },
      "source": [
        "print(y_pred)\n",
        "print(y_test)"
      ],
      "execution_count": null,
      "outputs": [
        {
          "output_type": "stream",
          "text": [
            "[1 0 1 0 0 0 1 0 0 0 0 0 1 0 0 0 0 0 1 0 0 0 0 1 0 0 0 1 1 0 1 0 1 1 0 0 0\n",
            " 0 0 0 1 0 1 0 1 0 0 1 0 0 0 0 0 0 0 1 0 1 0 0 0 1 1 0 0 0 1 1 0 1 0 1 0 0\n",
            " 0 0 0 0 0 0 1 0 1 0 1 1 1 0 0 0 0 0 0 1 1 1 0 1 0 0 0 0 0 0 1 0 0 1 0 0 0\n",
            " 1]\n",
            "[0 1 1 0 0 0 1 0 0 0 0 0 1 0 0 0 0 0 1 0 0 0 0 0 0 0 0 1 0 1 1 0 1 0 0 0 1\n",
            " 0 1 0 1 1 1 0 1 0 0 1 0 0 0 0 0 1 1 1 0 1 0 0 0 1 0 0 0 1 0 1 0 1 0 1 0 0\n",
            " 0 0 0 0 0 0 1 0 1 1 1 0 1 0 0 0 0 0 0 1 1 1 0 1 1 0 1 0 0 0 1 1 0 1 0 0 0\n",
            " 1]\n"
          ],
          "name": "stdout"
        }
      ]
    },
    {
      "cell_type": "code",
      "metadata": {
        "id": "CnGKs-cIc4SF",
        "colab_type": "code",
        "colab": {
          "base_uri": "https://localhost:8080/",
          "height": 35
        },
        "outputId": "0e886501-4f2e-496a-8b66-d5695ad9c6d4"
      },
      "source": [
        "acc=metrics.accuracy_score(y_test,y_pred)\n",
        "pr=metrics.precision_score(y_test,y_pred)\n",
        "print(acc,pr)"
      ],
      "execution_count": null,
      "outputs": [
        {
          "output_type": "stream",
          "text": [
            "0.8303571428571429 0.8\n"
          ],
          "name": "stdout"
        }
      ]
    },
    {
      "cell_type": "code",
      "metadata": {
        "id": "lF2-c6Nqe7p2",
        "colab_type": "code",
        "colab": {
          "base_uri": "https://localhost:8080/",
          "height": 35
        },
        "outputId": "8e27cc2d-64cf-4452-9df8-2702d1c1a8f9"
      },
      "source": [
        "t1=sc.transform([[1,60,56000]])\n",
        "pt1=model.predict(t1)\n",
        "pt1"
      ],
      "execution_count": null,
      "outputs": [
        {
          "output_type": "execute_result",
          "data": {
            "text/plain": [
              "array([1])"
            ]
          },
          "metadata": {
            "tags": []
          },
          "execution_count": 25
        }
      ]
    },
    {
      "cell_type": "code",
      "metadata": {
        "id": "Bhf_HZCUdICB",
        "colab_type": "code",
        "colab": {
          "base_uri": "https://localhost:8080/",
          "height": 279
        },
        "outputId": "9549d154-928f-4840-cf5e-cd33b9e889a3"
      },
      "source": [
        "x1=data.iloc[:,1].values\n",
        "x2=data.iloc[:,2].values\n",
        "my_color=np.where(y==1, 'green', 'red')\n",
        "plt.scatter(x1,x2,color=my_color , s=1, alpha=1)\n",
        "plt.xlabel('age')\n",
        "plt.ylabel('salary')\n",
        "plt.show()"
      ],
      "execution_count": null,
      "outputs": [
        {
          "output_type": "display_data",
          "data": {
            "image/png": "[encoded data removed]",
            "text/plain": [
              "<Figure size 432x288 with 1 Axes>"
            ]
          },
          "metadata": {
            "tags": [],
            "needs_background": "light"
          }
        }
      ]
    }
  ]
}