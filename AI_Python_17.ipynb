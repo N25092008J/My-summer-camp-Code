{
  "nbformat": 4,
  "nbformat_minor": 0,
  "metadata": {
    "colab": {
      "name": "AI Python 17.ipynb",
      "provenance": [],
      "collapsed_sections": []
    },
    "kernelspec": {
      "name": "python3",
      "display_name": "Python 3"
    }
  },
  "cells": [
    {
      "cell_type": "code",
      "metadata": {
        "id": "pKULNzhEgTne",
        "colab_type": "code",
        "colab": {}
      },
      "source": [
        "import pandas as pd \n",
        "import numpy as np\n",
        "from sklearn.tree import DecisionTreeClassifier\n",
        "import matplotlib.pyplot as plt\n",
        "from sklearn.preprocessing import StandardScaler\n",
        "from sklearn.model_selection import train_test_split\n",
        "from sklearn.preprocessing import LabelEncoder"
      ],
      "execution_count": null,
      "outputs": []
    },
    {
      "cell_type": "code",
      "metadata": {
        "id": "ccHkVMEEjjoQ",
        "colab_type": "code",
        "colab": {
          "base_uri": "https://localhost:8080/",
          "height": 415
        },
        "outputId": "e9b272ff-1b08-4df8-cda1-8b20003d499e"
      },
      "source": [
        "data=pd.read_csv('train.csv')\n",
        "data.fillna(0)"
      ],
      "execution_count": null,
      "outputs": [
        {
          "output_type": "execute_result",
          "data": {
            "text/html": [
              "<div>\n",
              "<style scoped>\n",
              "    .dataframe tbody tr th:only-of-type {\n",
              "        vertical-align: middle;\n",
              "    }\n",
              "\n",
              "    .dataframe tbody tr th {\n",
              "        vertical-align: top;\n",
              "    }\n",
              "\n",
              "    .dataframe thead th {\n",
              "        text-align: right;\n",
              "    }\n",
              "</style>\n",
              "<table border=\"1\" class=\"dataframe\">\n",
              "  <thead>\n",
              "    <tr style=\"text-align: right;\">\n",
              "      <th></th>\n",
              "      <th>Dates</th>\n",
              "      <th>Category</th>\n",
              "      <th>Descript</th>\n",
              "      <th>DayOfWeek</th>\n",
              "      <th>PdDistrict</th>\n",
              "      <th>Resolution</th>\n",
              "      <th>Address</th>\n",
              "      <th>X</th>\n",
              "      <th>Y</th>\n",
              "    </tr>\n",
              "  </thead>\n",
              "  <tbody>\n",
              "    <tr>\n",
              "      <th>0</th>\n",
              "      <td>2015-05-13 23:53:00</td>\n",
              "      <td>WARRANTS</td>\n",
              "      <td>WARRANT ARREST</td>\n",
              "      <td>Wednesday</td>\n",
              "      <td>NORTHERN</td>\n",
              "      <td>ARREST, BOOKED</td>\n",
              "      <td>OAK ST / LAGUNA ST</td>\n",
              "      <td>-122.425892</td>\n",
              "      <td>37.774599</td>\n",
              "    </tr>\n",
              "    <tr>\n",
              "      <th>1</th>\n",
              "      <td>2015-05-13 23:53:00</td>\n",
              "      <td>OTHER OFFENSES</td>\n",
              "      <td>TRAFFIC VIOLATION ARREST</td>\n",
              "      <td>Wednesday</td>\n",
              "      <td>NORTHERN</td>\n",
              "      <td>ARREST, BOOKED</td>\n",
              "      <td>OAK ST / LAGUNA ST</td>\n",
              "      <td>-122.425892</td>\n",
              "      <td>37.774599</td>\n",
              "    </tr>\n",
              "    <tr>\n",
              "      <th>2</th>\n",
              "      <td>2015-05-13 23:33:00</td>\n",
              "      <td>OTHER OFFENSES</td>\n",
              "      <td>TRAFFIC VIOLATION ARREST</td>\n",
              "      <td>Wednesday</td>\n",
              "      <td>NORTHERN</td>\n",
              "      <td>ARREST, BOOKED</td>\n",
              "      <td>VANNESS AV / GREENWICH ST</td>\n",
              "      <td>-122.424363</td>\n",
              "      <td>37.800414</td>\n",
              "    </tr>\n",
              "    <tr>\n",
              "      <th>3</th>\n",
              "      <td>2015-05-13 23:30:00</td>\n",
              "      <td>LARCENY/THEFT</td>\n",
              "      <td>GRAND THEFT FROM LOCKED AUTO</td>\n",
              "      <td>Wednesday</td>\n",
              "      <td>NORTHERN</td>\n",
              "      <td>NONE</td>\n",
              "      <td>1500 Block of LOMBARD ST</td>\n",
              "      <td>-122.426995</td>\n",
              "      <td>37.800873</td>\n",
              "    </tr>\n",
              "    <tr>\n",
              "      <th>4</th>\n",
              "      <td>2015-05-13 23:30:00</td>\n",
              "      <td>LARCENY/THEFT</td>\n",
              "      <td>GRAND THEFT FROM LOCKED AUTO</td>\n",
              "      <td>Wednesday</td>\n",
              "      <td>PARK</td>\n",
              "      <td>NONE</td>\n",
              "      <td>100 Block of BRODERICK ST</td>\n",
              "      <td>-122.438738</td>\n",
              "      <td>37.771541</td>\n",
              "    </tr>\n",
              "    <tr>\n",
              "      <th>...</th>\n",
              "      <td>...</td>\n",
              "      <td>...</td>\n",
              "      <td>...</td>\n",
              "      <td>...</td>\n",
              "      <td>...</td>\n",
              "      <td>...</td>\n",
              "      <td>...</td>\n",
              "      <td>...</td>\n",
              "      <td>...</td>\n",
              "    </tr>\n",
              "    <tr>\n",
              "      <th>267253</th>\n",
              "      <td>2011-09-25 13:20:00</td>\n",
              "      <td>LARCENY/THEFT</td>\n",
              "      <td>GRAND THEFT FROM LOCKED AUTO</td>\n",
              "      <td>Sunday</td>\n",
              "      <td>BAYVIEW</td>\n",
              "      <td>NONE</td>\n",
              "      <td>100 Block of HARNEY WY</td>\n",
              "      <td>-122.391886</td>\n",
              "      <td>37.709790</td>\n",
              "    </tr>\n",
              "    <tr>\n",
              "      <th>267254</th>\n",
              "      <td>2011-09-25 13:00:00</td>\n",
              "      <td>VEHICLE THEFT</td>\n",
              "      <td>STOLEN TRUCK</td>\n",
              "      <td>Sunday</td>\n",
              "      <td>SOUTHERN</td>\n",
              "      <td>UNFOUNDED</td>\n",
              "      <td>7TH ST / HARRISON ST</td>\n",
              "      <td>-122.406300</td>\n",
              "      <td>37.775513</td>\n",
              "    </tr>\n",
              "    <tr>\n",
              "      <th>267255</th>\n",
              "      <td>2011-09-25 13:00:00</td>\n",
              "      <td>GAMBLING</td>\n",
              "      <td>GAMBLING</td>\n",
              "      <td>Sunday</td>\n",
              "      <td>SOUTHERN</td>\n",
              "      <td>NONE</td>\n",
              "      <td>800 Block of BRYANT ST</td>\n",
              "      <td>-122.403405</td>\n",
              "      <td>37.775421</td>\n",
              "    </tr>\n",
              "    <tr>\n",
              "      <th>267256</th>\n",
              "      <td>2011-09-25 13:00:00</td>\n",
              "      <td>VANDALISM</td>\n",
              "      <td>MALICIOUS MISCHIEF, VANDALISM</td>\n",
              "      <td>Sunday</td>\n",
              "      <td>CENTRAL</td>\n",
              "      <td>NONE</td>\n",
              "      <td>2000 Block of LEAVENWORTH ST</td>\n",
              "      <td>-122.417609</td>\n",
              "      <td>37.800120</td>\n",
              "    </tr>\n",
              "    <tr>\n",
              "      <th>267257</th>\n",
              "      <td>2011-09-25 13:00:00</td>\n",
              "      <td>VEHICLE THEFT</td>\n",
              "      <td>ATTEMPTED STOLEN VEHICLE</td>\n",
              "      <td>Sunday</td>\n",
              "      <td>BAYVIEW</td>\n",
              "      <td>NONE</td>\n",
              "      <td>1500 Block of MCKINNON AV</td>\n",
              "      <td>-122.388278</td>\n",
              "      <td>0.000000</td>\n",
              "    </tr>\n",
              "  </tbody>\n",
              "</table>\n",
              "<p>267258 rows × 9 columns</p>\n",
              "</div>"
            ],
            "text/plain": [
              "                      Dates        Category  ...           X          Y\n",
              "0       2015-05-13 23:53:00        WARRANTS  ... -122.425892  37.774599\n",
              "1       2015-05-13 23:53:00  OTHER OFFENSES  ... -122.425892  37.774599\n",
              "2       2015-05-13 23:33:00  OTHER OFFENSES  ... -122.424363  37.800414\n",
              "3       2015-05-13 23:30:00   LARCENY/THEFT  ... -122.426995  37.800873\n",
              "4       2015-05-13 23:30:00   LARCENY/THEFT  ... -122.438738  37.771541\n",
              "...                     ...             ...  ...         ...        ...\n",
              "267253  2011-09-25 13:20:00   LARCENY/THEFT  ... -122.391886  37.709790\n",
              "267254  2011-09-25 13:00:00   VEHICLE THEFT  ... -122.406300  37.775513\n",
              "267255  2011-09-25 13:00:00        GAMBLING  ... -122.403405  37.775421\n",
              "267256  2011-09-25 13:00:00       VANDALISM  ... -122.417609  37.800120\n",
              "267257  2011-09-25 13:00:00   VEHICLE THEFT  ... -122.388278   0.000000\n",
              "\n",
              "[267258 rows x 9 columns]"
            ]
          },
          "metadata": {
            "tags": []
          },
          "execution_count": 13
        }
      ]
    },
    {
      "cell_type": "code",
      "metadata": {
        "id": "5sqxoJH5j4rB",
        "colab_type": "code",
        "colab": {}
      },
      "source": [
        "x=data.iloc[:,[1,2,3,4]].values\n",
        "y=data.iloc[:,5].values"
      ],
      "execution_count": null,
      "outputs": []
    },
    {
      "cell_type": "code",
      "metadata": {
        "id": "tSHAiA3wlenn",
        "colab_type": "code",
        "colab": {
          "base_uri": "https://localhost:8080/",
          "height": 173
        },
        "outputId": "834d2882-eaa4-490b-a917-4c6e89249533"
      },
      "source": [
        "print(x)\n",
        "print(y)"
      ],
      "execution_count": null,
      "outputs": [
        {
          "output_type": "stream",
          "text": [
            "[['WARRANTS' 'WARRANT ARREST' 'Wednesday' 'NORTHERN']\n",
            " ['OTHER OFFENSES' 'TRAFFIC VIOLATION ARREST' 'Wednesday' 'NORTHERN']\n",
            " ['OTHER OFFENSES' 'TRAFFIC VIOLATION ARREST' 'Wednesday' 'NORTHERN']\n",
            " ...\n",
            " ['GAMBLING' 'GAMBLING' 'Sunday' 'SOUTHERN']\n",
            " ['VANDALISM' 'MALICIOUS MISCHIEF, VANDALISM' 'Sunday' 'CENTRAL']\n",
            " ['VEHICLE THEFT' 'ATTEMPTED STOLEN VEHICLE' 'Sunday' 'BAYVIEW']]\n",
            "['ARREST, BOOKED' 'ARREST, BOOKED' 'ARREST, BOOKED' ... 'NONE' 'NONE'\n",
            " 'NONE']\n"
          ],
          "name": "stdout"
        }
      ]
    },
    {
      "cell_type": "code",
      "metadata": {
        "id": "CY3h2flwlkIB",
        "colab_type": "code",
        "colab": {}
      },
      "source": [
        "x[:,0]=LabelEncoder().fit_transform(x[:,0])"
      ],
      "execution_count": null,
      "outputs": []
    },
    {
      "cell_type": "code",
      "metadata": {
        "id": "amg8_xILlwKH",
        "colab_type": "code",
        "colab": {}
      },
      "source": [
        "x[:,1]=LabelEncoder().fit_transform(x[:,1])"
      ],
      "execution_count": null,
      "outputs": []
    },
    {
      "cell_type": "code",
      "metadata": {
        "id": "Sw38MIgWl4XP",
        "colab_type": "code",
        "colab": {}
      },
      "source": [
        "x[:,2]=LabelEncoder().fit_transform(x[:,2])"
      ],
      "execution_count": null,
      "outputs": []
    },
    {
      "cell_type": "code",
      "metadata": {
        "id": "H-sOGi1Tl6uK",
        "colab_type": "code",
        "colab": {}
      },
      "source": [
        "x[:,3]=LabelEncoder().fit_transform(x[:,3])"
      ],
      "execution_count": null,
      "outputs": []
    },
    {
      "cell_type": "code",
      "metadata": {
        "id": "zb-dvVg6l8iN",
        "colab_type": "code",
        "colab": {
          "base_uri": "https://localhost:8080/",
          "height": 139
        },
        "outputId": "9c8e1198-fb0a-4122-d066-1828dde4efa7"
      },
      "source": [
        "print(x)"
      ],
      "execution_count": null,
      "outputs": [
        {
          "output_type": "stream",
          "text": [
            "[[37 790 6 4]\n",
            " [21 738 6 4]\n",
            " [21 738 6 4]\n",
            " ...\n",
            " [14 356 3 7]\n",
            " [35 449 3 1]\n",
            " [36 100 3 0]]\n"
          ],
          "name": "stdout"
        }
      ]
    },
    {
      "cell_type": "code",
      "metadata": {
        "id": "9cgNTP8nl9lj",
        "colab_type": "code",
        "colab": {}
      },
      "source": [
        "y=LabelEncoder().fit_transform(y)"
      ],
      "execution_count": null,
      "outputs": []
    },
    {
      "cell_type": "code",
      "metadata": {
        "id": "PGXZROvgmHe7",
        "colab_type": "code",
        "colab": {
          "base_uri": "https://localhost:8080/",
          "height": 35
        },
        "outputId": "29b3275f-4890-48da-dd62-b0abbb35834d"
      },
      "source": [
        "print(y)"
      ],
      "execution_count": null,
      "outputs": [
        {
          "output_type": "stream",
          "text": [
            "[ 0  0  0 ... 11 11 11]\n"
          ],
          "name": "stdout"
        }
      ]
    },
    {
      "cell_type": "code",
      "metadata": {
        "id": "i9hbgmMymg_5",
        "colab_type": "code",
        "colab": {
          "base_uri": "https://localhost:8080/",
          "height": 295
        },
        "outputId": "d65918ec-a511-49ea-be24-3763311aa64e"
      },
      "source": [
        "# splitting training and test data\n",
        "x_train,x_test,y_train,y_test=train_test_split(x,y,train_size=0.85,random_state=0)\n",
        "# for checking the values\n",
        "print(x_train)\n",
        "print(x_test)\n",
        "print(y_train)\n",
        "print(y_test)"
      ],
      "execution_count": null,
      "outputs": [
        {
          "output_type": "stream",
          "text": [
            "[[20 430 1 9]\n",
            " [36 670 0 4]\n",
            " [16 364 1 4]\n",
            " ...\n",
            " [1 122 2 4]\n",
            " [20 430 3 9]\n",
            " [16 364 5 9]]\n",
            "[[16 368 2 7]\n",
            " [16 500 3 8]\n",
            " [13 212 3 4]\n",
            " ...\n",
            " [21 738 2 9]\n",
            " [21 562 0 4]\n",
            " [20 351 3 3]]\n",
            "[11 11 11 ...  0 11 11]\n",
            "[11 11 11 ...  0  0 11]\n"
          ],
          "name": "stdout"
        }
      ]
    },
    {
      "cell_type": "code",
      "metadata": {
        "id": "itxvk6IdmlQA",
        "colab_type": "code",
        "colab": {
          "base_uri": "https://localhost:8080/",
          "height": 156
        },
        "outputId": "e7dbf16a-d89f-41da-d1cd-c4155bdffd4f"
      },
      "source": [
        "sc=StandardScaler()\n",
        "x_train=sc.fit_transform(x_train)\n",
        "x_test=sc.fit_transform(x_test)\n",
        "print(x)\n",
        "print(y)"
      ],
      "execution_count": null,
      "outputs": [
        {
          "output_type": "stream",
          "text": [
            "[[37 790 6 4]\n",
            " [21 738 6 4]\n",
            " [21 738 6 4]\n",
            " ...\n",
            " [14 356 3 7]\n",
            " [35 449 3 1]\n",
            " [36 100 3 0]]\n",
            "[ 0  0  0 ... 11 11 11]\n"
          ],
          "name": "stdout"
        }
      ]
    },
    {
      "cell_type": "code",
      "metadata": {
        "id": "vCv4EeHHmo5N",
        "colab_type": "code",
        "colab": {}
      },
      "source": [
        "clf = DecisionTreeClassifier(criterion='gini',max_depth=5)"
      ],
      "execution_count": null,
      "outputs": []
    },
    {
      "cell_type": "code",
      "metadata": {
        "id": "lMdbcQL-mt7v",
        "colab_type": "code",
        "colab": {
          "base_uri": "https://localhost:8080/",
          "height": 121
        },
        "outputId": "87b471c1-d5ba-4042-f933-17bce9447808"
      },
      "source": [
        "clf.fit(x_train,y_train)"
      ],
      "execution_count": null,
      "outputs": [
        {
          "output_type": "execute_result",
          "data": {
            "text/plain": [
              "DecisionTreeClassifier(ccp_alpha=0.0, class_weight=None, criterion='gini',\n",
              "                       max_depth=5, max_features=None, max_leaf_nodes=None,\n",
              "                       min_impurity_decrease=0.0, min_impurity_split=None,\n",
              "                       min_samples_leaf=1, min_samples_split=2,\n",
              "                       min_weight_fraction_leaf=0.0, presort='deprecated',\n",
              "                       random_state=None, splitter='best')"
            ]
          },
          "metadata": {
            "tags": []
          },
          "execution_count": 27
        }
      ]
    },
    {
      "cell_type": "code",
      "metadata": {
        "id": "ukC7fOBOmwMF",
        "colab_type": "code",
        "colab": {}
      },
      "source": [
        "y_pred=clf.predict(x_test)"
      ],
      "execution_count": null,
      "outputs": []
    },
    {
      "cell_type": "code",
      "metadata": {
        "id": "VX-70y-amyXA",
        "colab_type": "code",
        "colab": {
          "base_uri": "https://localhost:8080/",
          "height": 52
        },
        "outputId": "556af967-83df-4146-fdcb-722495be7b53"
      },
      "source": [
        "print(y_pred)\n",
        "print(y_test)"
      ],
      "execution_count": null,
      "outputs": [
        {
          "output_type": "stream",
          "text": [
            "[11 11 11 ...  0  0 11]\n",
            "[11 11 11 ...  0  0 11]\n"
          ],
          "name": "stdout"
        }
      ]
    },
    {
      "cell_type": "code",
      "metadata": {
        "id": "EZWKxuT_nPh2",
        "colab_type": "code",
        "colab": {
          "base_uri": "https://localhost:8080/",
          "height": 87
        },
        "outputId": "aafb27bb-624e-489a-eb7b-62f2bf38f550"
      },
      "source": [
        "a=int(input(\"Write Category value\"))\n",
        "b=int(input(\"Write Descript value\"))\n",
        "c=int(input(\"Write DayOfWeek value\"))\n",
        "d=int(input(\"Write PdDistrict Value\"))"
      ],
      "execution_count": null,
      "outputs": [
        {
          "output_type": "stream",
          "text": [
            "Write Category value396\n",
            "Write Descript value0\n",
            "Write DayOfWeek value456\n",
            "Write PdDistrict Value34\n"
          ],
          "name": "stdout"
        }
      ]
    },
    {
      "cell_type": "code",
      "metadata": {
        "id": "npdQ5UMRm1vF",
        "colab_type": "code",
        "colab": {
          "base_uri": "https://localhost:8080/",
          "height": 35
        },
        "outputId": "15fca902-e31b-48c1-82e6-8a472e0ba902"
      },
      "source": [
        "t1=sc.transform([[a,b,c,d]])\n",
        "pt1=clf.predict(t1)\n",
        "pt1"
      ],
      "execution_count": null,
      "outputs": [
        {
          "output_type": "execute_result",
          "data": {
            "text/plain": [
              "array([0])"
            ]
          },
          "metadata": {
            "tags": []
          },
          "execution_count": 34
        }
      ]
    },
    {
      "cell_type": "code",
      "metadata": {
        "id": "T05rTDPdoPc2",
        "colab_type": "code",
        "colab": {}
      },
      "source": [
        ""
      ],
      "execution_count": null,
      "outputs": []
    }
  ]
}