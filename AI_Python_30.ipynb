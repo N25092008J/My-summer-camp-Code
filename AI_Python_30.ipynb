{
  "nbformat": 4,
  "nbformat_minor": 0,
  "metadata": {
    "colab": {
      "name": "AI Python 30.ipynb",
      "provenance": [],
      "collapsed_sections": []
    },
    "kernelspec": {
      "name": "python3",
      "display_name": "Python 3"
    }
  },
  "cells": [
    {
      "cell_type": "markdown",
      "metadata": {
        "id": "VlE6pGnafhfL",
        "colab_type": "text"
      },
      "source": [
        "Tensorflow Regression"
      ]
    },
    {
      "cell_type": "code",
      "metadata": {
        "id": "ZGQ37TI-f4Wy",
        "colab_type": "code",
        "colab": {}
      },
      "source": [
        "import pandas as pd\n",
        "import numpy as np\n",
        "from sklearn.model_selection import train_test_split"
      ],
      "execution_count": null,
      "outputs": []
    },
    {
      "cell_type": "code",
      "metadata": {
        "id": "7AiOqZO7gO5-",
        "colab_type": "code",
        "colab": {
          "base_uri": "https://localhost:8080/",
          "height": 202
        },
        "outputId": "eec59135-ec35-40ad-d667-1d34d6767762"
      },
      "source": [
        "concrete_data=pd.read_csv('concrete_data.csv')\n",
        "concrete_data.head()"
      ],
      "execution_count": null,
      "outputs": [
        {
          "output_type": "execute_result",
          "data": {
            "text/html": [
              "<div>\n",
              "<style scoped>\n",
              "    .dataframe tbody tr th:only-of-type {\n",
              "        vertical-align: middle;\n",
              "    }\n",
              "\n",
              "    .dataframe tbody tr th {\n",
              "        vertical-align: top;\n",
              "    }\n",
              "\n",
              "    .dataframe thead th {\n",
              "        text-align: right;\n",
              "    }\n",
              "</style>\n",
              "<table border=\"1\" class=\"dataframe\">\n",
              "  <thead>\n",
              "    <tr style=\"text-align: right;\">\n",
              "      <th></th>\n",
              "      <th>Cement</th>\n",
              "      <th>Blast Furnace Slag</th>\n",
              "      <th>Fly Ash</th>\n",
              "      <th>Water</th>\n",
              "      <th>Superplasticizer</th>\n",
              "      <th>Coarse Aggregate</th>\n",
              "      <th>Fine Aggregate</th>\n",
              "      <th>Age</th>\n",
              "      <th>Strength</th>\n",
              "    </tr>\n",
              "  </thead>\n",
              "  <tbody>\n",
              "    <tr>\n",
              "      <th>0</th>\n",
              "      <td>540.0</td>\n",
              "      <td>0.0</td>\n",
              "      <td>0.0</td>\n",
              "      <td>162.0</td>\n",
              "      <td>2.5</td>\n",
              "      <td>1040.0</td>\n",
              "      <td>676.0</td>\n",
              "      <td>28</td>\n",
              "      <td>79.99</td>\n",
              "    </tr>\n",
              "    <tr>\n",
              "      <th>1</th>\n",
              "      <td>540.0</td>\n",
              "      <td>0.0</td>\n",
              "      <td>0.0</td>\n",
              "      <td>162.0</td>\n",
              "      <td>2.5</td>\n",
              "      <td>1055.0</td>\n",
              "      <td>676.0</td>\n",
              "      <td>28</td>\n",
              "      <td>61.89</td>\n",
              "    </tr>\n",
              "    <tr>\n",
              "      <th>2</th>\n",
              "      <td>332.5</td>\n",
              "      <td>142.5</td>\n",
              "      <td>0.0</td>\n",
              "      <td>228.0</td>\n",
              "      <td>0.0</td>\n",
              "      <td>932.0</td>\n",
              "      <td>594.0</td>\n",
              "      <td>270</td>\n",
              "      <td>40.27</td>\n",
              "    </tr>\n",
              "    <tr>\n",
              "      <th>3</th>\n",
              "      <td>332.5</td>\n",
              "      <td>142.5</td>\n",
              "      <td>0.0</td>\n",
              "      <td>228.0</td>\n",
              "      <td>0.0</td>\n",
              "      <td>932.0</td>\n",
              "      <td>594.0</td>\n",
              "      <td>365</td>\n",
              "      <td>41.05</td>\n",
              "    </tr>\n",
              "    <tr>\n",
              "      <th>4</th>\n",
              "      <td>198.6</td>\n",
              "      <td>132.4</td>\n",
              "      <td>0.0</td>\n",
              "      <td>192.0</td>\n",
              "      <td>0.0</td>\n",
              "      <td>978.4</td>\n",
              "      <td>825.5</td>\n",
              "      <td>360</td>\n",
              "      <td>44.30</td>\n",
              "    </tr>\n",
              "  </tbody>\n",
              "</table>\n",
              "</div>"
            ],
            "text/plain": [
              "   Cement  Blast Furnace Slag  Fly Ash  ...  Fine Aggregate  Age  Strength\n",
              "0   540.0                 0.0      0.0  ...           676.0   28     79.99\n",
              "1   540.0                 0.0      0.0  ...           676.0   28     61.89\n",
              "2   332.5               142.5      0.0  ...           594.0  270     40.27\n",
              "3   332.5               142.5      0.0  ...           594.0  365     41.05\n",
              "4   198.6               132.4      0.0  ...           825.5  360     44.30\n",
              "\n",
              "[5 rows x 9 columns]"
            ]
          },
          "metadata": {
            "tags": []
          },
          "execution_count": 26
        }
      ]
    },
    {
      "cell_type": "code",
      "metadata": {
        "id": "AS8pmsLqgXbo",
        "colab_type": "code",
        "colab": {}
      },
      "source": [
        "concrete_data_columns=concrete_data.columns\n",
        "pred=concrete_data[concrete_data_columns[concrete_data_columns != 'Strength']]\n",
        "target = concrete_data['Strength']"
      ],
      "execution_count": null,
      "outputs": []
    },
    {
      "cell_type": "code",
      "metadata": {
        "id": "zbNG73CKgunA",
        "colab_type": "code",
        "colab": {
          "base_uri": "https://localhost:8080/",
          "height": 202
        },
        "outputId": "7126a30a-432b-4d3d-df91-a0ca05a1b1eb"
      },
      "source": [
        "pred.head()"
      ],
      "execution_count": null,
      "outputs": [
        {
          "output_type": "execute_result",
          "data": {
            "text/html": [
              "<div>\n",
              "<style scoped>\n",
              "    .dataframe tbody tr th:only-of-type {\n",
              "        vertical-align: middle;\n",
              "    }\n",
              "\n",
              "    .dataframe tbody tr th {\n",
              "        vertical-align: top;\n",
              "    }\n",
              "\n",
              "    .dataframe thead th {\n",
              "        text-align: right;\n",
              "    }\n",
              "</style>\n",
              "<table border=\"1\" class=\"dataframe\">\n",
              "  <thead>\n",
              "    <tr style=\"text-align: right;\">\n",
              "      <th></th>\n",
              "      <th>Cement</th>\n",
              "      <th>Blast Furnace Slag</th>\n",
              "      <th>Fly Ash</th>\n",
              "      <th>Water</th>\n",
              "      <th>Superplasticizer</th>\n",
              "      <th>Coarse Aggregate</th>\n",
              "      <th>Fine Aggregate</th>\n",
              "      <th>Age</th>\n",
              "    </tr>\n",
              "  </thead>\n",
              "  <tbody>\n",
              "    <tr>\n",
              "      <th>0</th>\n",
              "      <td>540.0</td>\n",
              "      <td>0.0</td>\n",
              "      <td>0.0</td>\n",
              "      <td>162.0</td>\n",
              "      <td>2.5</td>\n",
              "      <td>1040.0</td>\n",
              "      <td>676.0</td>\n",
              "      <td>28</td>\n",
              "    </tr>\n",
              "    <tr>\n",
              "      <th>1</th>\n",
              "      <td>540.0</td>\n",
              "      <td>0.0</td>\n",
              "      <td>0.0</td>\n",
              "      <td>162.0</td>\n",
              "      <td>2.5</td>\n",
              "      <td>1055.0</td>\n",
              "      <td>676.0</td>\n",
              "      <td>28</td>\n",
              "    </tr>\n",
              "    <tr>\n",
              "      <th>2</th>\n",
              "      <td>332.5</td>\n",
              "      <td>142.5</td>\n",
              "      <td>0.0</td>\n",
              "      <td>228.0</td>\n",
              "      <td>0.0</td>\n",
              "      <td>932.0</td>\n",
              "      <td>594.0</td>\n",
              "      <td>270</td>\n",
              "    </tr>\n",
              "    <tr>\n",
              "      <th>3</th>\n",
              "      <td>332.5</td>\n",
              "      <td>142.5</td>\n",
              "      <td>0.0</td>\n",
              "      <td>228.0</td>\n",
              "      <td>0.0</td>\n",
              "      <td>932.0</td>\n",
              "      <td>594.0</td>\n",
              "      <td>365</td>\n",
              "    </tr>\n",
              "    <tr>\n",
              "      <th>4</th>\n",
              "      <td>198.6</td>\n",
              "      <td>132.4</td>\n",
              "      <td>0.0</td>\n",
              "      <td>192.0</td>\n",
              "      <td>0.0</td>\n",
              "      <td>978.4</td>\n",
              "      <td>825.5</td>\n",
              "      <td>360</td>\n",
              "    </tr>\n",
              "  </tbody>\n",
              "</table>\n",
              "</div>"
            ],
            "text/plain": [
              "   Cement  Blast Furnace Slag  Fly Ash  ...  Coarse Aggregate  Fine Aggregate  Age\n",
              "0   540.0                 0.0      0.0  ...            1040.0           676.0   28\n",
              "1   540.0                 0.0      0.0  ...            1055.0           676.0   28\n",
              "2   332.5               142.5      0.0  ...             932.0           594.0  270\n",
              "3   332.5               142.5      0.0  ...             932.0           594.0  365\n",
              "4   198.6               132.4      0.0  ...             978.4           825.5  360\n",
              "\n",
              "[5 rows x 8 columns]"
            ]
          },
          "metadata": {
            "tags": []
          },
          "execution_count": 28
        }
      ]
    },
    {
      "cell_type": "code",
      "metadata": {
        "id": "mG2e7adkhFC1",
        "colab_type": "code",
        "colab": {
          "base_uri": "https://localhost:8080/",
          "height": 121
        },
        "outputId": "3b4fd246-dbac-4988-b112-0464d41114a4"
      },
      "source": [
        "target.head()"
      ],
      "execution_count": null,
      "outputs": [
        {
          "output_type": "execute_result",
          "data": {
            "text/plain": [
              "0    79.99\n",
              "1    61.89\n",
              "2    40.27\n",
              "3    41.05\n",
              "4    44.30\n",
              "Name: Strength, dtype: float64"
            ]
          },
          "metadata": {
            "tags": []
          },
          "execution_count": 29
        }
      ]
    },
    {
      "cell_type": "code",
      "metadata": {
        "id": "vnITvY5AhGoX",
        "colab_type": "code",
        "colab": {}
      },
      "source": [
        "pred_norm=(pred-pred.mean())/pred.std()"
      ],
      "execution_count": null,
      "outputs": []
    },
    {
      "cell_type": "code",
      "metadata": {
        "id": "27JpguvDiEUN",
        "colab_type": "code",
        "colab": {
          "base_uri": "https://localhost:8080/",
          "height": 202
        },
        "outputId": "22756a40-ce70-4f5d-8f35-c9a3b6a6ff81"
      },
      "source": [
        "pred_norm.head()"
      ],
      "execution_count": null,
      "outputs": [
        {
          "output_type": "execute_result",
          "data": {
            "text/html": [
              "<div>\n",
              "<style scoped>\n",
              "    .dataframe tbody tr th:only-of-type {\n",
              "        vertical-align: middle;\n",
              "    }\n",
              "\n",
              "    .dataframe tbody tr th {\n",
              "        vertical-align: top;\n",
              "    }\n",
              "\n",
              "    .dataframe thead th {\n",
              "        text-align: right;\n",
              "    }\n",
              "</style>\n",
              "<table border=\"1\" class=\"dataframe\">\n",
              "  <thead>\n",
              "    <tr style=\"text-align: right;\">\n",
              "      <th></th>\n",
              "      <th>Cement</th>\n",
              "      <th>Blast Furnace Slag</th>\n",
              "      <th>Fly Ash</th>\n",
              "      <th>Water</th>\n",
              "      <th>Superplasticizer</th>\n",
              "      <th>Coarse Aggregate</th>\n",
              "      <th>Fine Aggregate</th>\n",
              "      <th>Age</th>\n",
              "    </tr>\n",
              "  </thead>\n",
              "  <tbody>\n",
              "    <tr>\n",
              "      <th>0</th>\n",
              "      <td>2.476712</td>\n",
              "      <td>-0.856472</td>\n",
              "      <td>-0.846733</td>\n",
              "      <td>-0.916319</td>\n",
              "      <td>-0.620147</td>\n",
              "      <td>0.862735</td>\n",
              "      <td>-1.217079</td>\n",
              "      <td>-0.279597</td>\n",
              "    </tr>\n",
              "    <tr>\n",
              "      <th>1</th>\n",
              "      <td>2.476712</td>\n",
              "      <td>-0.856472</td>\n",
              "      <td>-0.846733</td>\n",
              "      <td>-0.916319</td>\n",
              "      <td>-0.620147</td>\n",
              "      <td>1.055651</td>\n",
              "      <td>-1.217079</td>\n",
              "      <td>-0.279597</td>\n",
              "    </tr>\n",
              "    <tr>\n",
              "      <th>2</th>\n",
              "      <td>0.491187</td>\n",
              "      <td>0.795140</td>\n",
              "      <td>-0.846733</td>\n",
              "      <td>2.174405</td>\n",
              "      <td>-1.038638</td>\n",
              "      <td>-0.526262</td>\n",
              "      <td>-2.239829</td>\n",
              "      <td>3.551340</td>\n",
              "    </tr>\n",
              "    <tr>\n",
              "      <th>3</th>\n",
              "      <td>0.491187</td>\n",
              "      <td>0.795140</td>\n",
              "      <td>-0.846733</td>\n",
              "      <td>2.174405</td>\n",
              "      <td>-1.038638</td>\n",
              "      <td>-0.526262</td>\n",
              "      <td>-2.239829</td>\n",
              "      <td>5.055221</td>\n",
              "    </tr>\n",
              "    <tr>\n",
              "      <th>4</th>\n",
              "      <td>-0.790075</td>\n",
              "      <td>0.678079</td>\n",
              "      <td>-0.846733</td>\n",
              "      <td>0.488555</td>\n",
              "      <td>-1.038638</td>\n",
              "      <td>0.070492</td>\n",
              "      <td>0.647569</td>\n",
              "      <td>4.976069</td>\n",
              "    </tr>\n",
              "  </tbody>\n",
              "</table>\n",
              "</div>"
            ],
            "text/plain": [
              "     Cement  Blast Furnace Slag  ...  Fine Aggregate       Age\n",
              "0  2.476712           -0.856472  ...       -1.217079 -0.279597\n",
              "1  2.476712           -0.856472  ...       -1.217079 -0.279597\n",
              "2  0.491187            0.795140  ...       -2.239829  3.551340\n",
              "3  0.491187            0.795140  ...       -2.239829  5.055221\n",
              "4 -0.790075            0.678079  ...        0.647569  4.976069\n",
              "\n",
              "[5 rows x 8 columns]"
            ]
          },
          "metadata": {
            "tags": []
          },
          "execution_count": 31
        }
      ]
    },
    {
      "cell_type": "code",
      "metadata": {
        "id": "rw88larGiKCf",
        "colab_type": "code",
        "colab": {}
      },
      "source": [
        "n_cols=pred_norm.shape[1]"
      ],
      "execution_count": null,
      "outputs": []
    },
    {
      "cell_type": "code",
      "metadata": {
        "id": "ArSYYaeQizqU",
        "colab_type": "code",
        "colab": {}
      },
      "source": [
        "import keras\n",
        "from keras.models import Sequential \n",
        "from keras.layers import Dense"
      ],
      "execution_count": null,
      "outputs": []
    },
    {
      "cell_type": "code",
      "metadata": {
        "id": "67JD_0NGi6pF",
        "colab_type": "code",
        "colab": {}
      },
      "source": [
        "model=Sequential()\n",
        "model.add(Dense(10,activation='relu',input_shape=(n_cols,)))\n",
        "model.add(Dense(1))\n",
        "model.compile(optimizer='adam',loss='mean_squared_error')"
      ],
      "execution_count": null,
      "outputs": []
    },
    {
      "cell_type": "code",
      "metadata": {
        "id": "th_Sph5YkY7R",
        "colab_type": "code",
        "colab": {}
      },
      "source": [
        "x_train,x_test,y_train,y_test = train_test_split(pred_norm,target,train_size=0.8,random_state=2)"
      ],
      "execution_count": null,
      "outputs": []
    },
    {
      "cell_type": "code",
      "metadata": {
        "id": "yq7UKxhZltRc",
        "colab_type": "code",
        "colab": {
          "base_uri": "https://localhost:8080/",
          "height": 1000
        },
        "outputId": "09636f40-4563-4b25-f9ec-a5abf767407c"
      },
      "source": [
        "model.fit(x_train,y_train,validation_split=0.3,epochs=50,verbose=2)# can change verbose to 1, 0"
      ],
      "execution_count": null,
      "outputs": [
        {
          "output_type": "stream",
          "text": [
            "Epoch 1/100\n",
            "18/18 - 0s - loss: 189.1187 - val_loss: 187.0390\n",
            "Epoch 2/100\n",
            "18/18 - 0s - loss: 187.5231 - val_loss: 185.5384\n",
            "Epoch 3/100\n",
            "18/18 - 0s - loss: 186.1024 - val_loss: 184.1319\n",
            "Epoch 4/100\n",
            "18/18 - 0s - loss: 184.7495 - val_loss: 182.7467\n",
            "Epoch 5/100\n",
            "18/18 - 0s - loss: 183.3718 - val_loss: 181.5748\n",
            "Epoch 6/100\n",
            "18/18 - 0s - loss: 182.0778 - val_loss: 180.3218\n",
            "Epoch 7/100\n",
            "18/18 - 0s - loss: 181.0040 - val_loss: 179.1340\n",
            "Epoch 8/100\n",
            "18/18 - 0s - loss: 179.8263 - val_loss: 177.9998\n",
            "Epoch 9/100\n",
            "18/18 - 0s - loss: 178.6951 - val_loss: 176.9585\n",
            "Epoch 10/100\n",
            "18/18 - 0s - loss: 177.7230 - val_loss: 175.9847\n",
            "Epoch 11/100\n",
            "18/18 - 0s - loss: 176.6556 - val_loss: 174.8242\n",
            "Epoch 12/100\n",
            "18/18 - 0s - loss: 175.6905 - val_loss: 173.9024\n",
            "Epoch 13/100\n",
            "18/18 - 0s - loss: 174.7932 - val_loss: 172.8860\n",
            "Epoch 14/100\n",
            "18/18 - 0s - loss: 174.0108 - val_loss: 172.0074\n",
            "Epoch 15/100\n",
            "18/18 - 0s - loss: 173.0792 - val_loss: 170.9243\n",
            "Epoch 16/100\n",
            "18/18 - 0s - loss: 172.2078 - val_loss: 170.0603\n",
            "Epoch 17/100\n",
            "18/18 - 0s - loss: 171.4193 - val_loss: 169.1927\n",
            "Epoch 18/100\n",
            "18/18 - 0s - loss: 170.6083 - val_loss: 168.2963\n",
            "Epoch 19/100\n",
            "18/18 - 0s - loss: 169.9045 - val_loss: 167.4737\n",
            "Epoch 20/100\n",
            "18/18 - 0s - loss: 169.0510 - val_loss: 166.7156\n",
            "Epoch 21/100\n",
            "18/18 - 0s - loss: 168.4127 - val_loss: 165.8076\n",
            "Epoch 22/100\n",
            "18/18 - 0s - loss: 167.6293 - val_loss: 165.0561\n",
            "Epoch 23/100\n",
            "18/18 - 0s - loss: 166.9586 - val_loss: 164.2656\n",
            "Epoch 24/100\n",
            "18/18 - 0s - loss: 166.2948 - val_loss: 163.5261\n",
            "Epoch 25/100\n",
            "18/18 - 0s - loss: 165.6095 - val_loss: 162.7077\n",
            "Epoch 26/100\n",
            "18/18 - 0s - loss: 165.0130 - val_loss: 161.9432\n",
            "Epoch 27/100\n",
            "18/18 - 0s - loss: 164.2987 - val_loss: 161.2880\n",
            "Epoch 28/100\n",
            "18/18 - 0s - loss: 163.6431 - val_loss: 160.6225\n",
            "Epoch 29/100\n",
            "18/18 - 0s - loss: 163.0376 - val_loss: 159.8922\n",
            "Epoch 30/100\n",
            "18/18 - 0s - loss: 162.3917 - val_loss: 159.2885\n",
            "Epoch 31/100\n",
            "18/18 - 0s - loss: 161.8685 - val_loss: 158.5397\n",
            "Epoch 32/100\n",
            "18/18 - 0s - loss: 161.1987 - val_loss: 157.9034\n",
            "Epoch 33/100\n",
            "18/18 - 0s - loss: 160.5582 - val_loss: 157.1522\n",
            "Epoch 34/100\n",
            "18/18 - 0s - loss: 159.9602 - val_loss: 156.4470\n",
            "Epoch 35/100\n",
            "18/18 - 0s - loss: 159.4595 - val_loss: 155.6620\n",
            "Epoch 36/100\n",
            "18/18 - 0s - loss: 158.7132 - val_loss: 155.0184\n",
            "Epoch 37/100\n",
            "18/18 - 0s - loss: 158.1656 - val_loss: 154.3395\n",
            "Epoch 38/100\n",
            "18/18 - 0s - loss: 157.6428 - val_loss: 153.8001\n",
            "Epoch 39/100\n",
            "18/18 - 0s - loss: 157.0463 - val_loss: 152.9881\n",
            "Epoch 40/100\n",
            "18/18 - 0s - loss: 156.3592 - val_loss: 152.4447\n",
            "Epoch 41/100\n",
            "18/18 - 0s - loss: 155.8438 - val_loss: 151.8515\n",
            "Epoch 42/100\n",
            "18/18 - 0s - loss: 155.2799 - val_loss: 151.0626\n",
            "Epoch 43/100\n",
            "18/18 - 0s - loss: 154.6051 - val_loss: 150.5118\n",
            "Epoch 44/100\n",
            "18/18 - 0s - loss: 154.0421 - val_loss: 149.9229\n",
            "Epoch 45/100\n",
            "18/18 - 0s - loss: 153.4499 - val_loss: 149.2710\n",
            "Epoch 46/100\n",
            "18/18 - 0s - loss: 152.8958 - val_loss: 148.7254\n",
            "Epoch 47/100\n",
            "18/18 - 0s - loss: 152.3343 - val_loss: 148.1250\n",
            "Epoch 48/100\n",
            "18/18 - 0s - loss: 151.7550 - val_loss: 147.4775\n",
            "Epoch 49/100\n",
            "18/18 - 0s - loss: 151.1361 - val_loss: 146.7187\n",
            "Epoch 50/100\n",
            "18/18 - 0s - loss: 150.5703 - val_loss: 146.2453\n",
            "Epoch 51/100\n",
            "18/18 - 0s - loss: 150.0293 - val_loss: 145.5931\n",
            "Epoch 52/100\n",
            "18/18 - 0s - loss: 149.4515 - val_loss: 144.8717\n",
            "Epoch 53/100\n",
            "18/18 - 0s - loss: 148.9065 - val_loss: 144.3538\n",
            "Epoch 54/100\n",
            "18/18 - 0s - loss: 148.2735 - val_loss: 143.7401\n",
            "Epoch 55/100\n",
            "18/18 - 0s - loss: 147.6966 - val_loss: 143.0668\n",
            "Epoch 56/100\n",
            "18/18 - 0s - loss: 147.1340 - val_loss: 142.5296\n",
            "Epoch 57/100\n",
            "18/18 - 0s - loss: 146.6047 - val_loss: 141.8615\n",
            "Epoch 58/100\n",
            "18/18 - 0s - loss: 146.0781 - val_loss: 141.1519\n",
            "Epoch 59/100\n",
            "18/18 - 0s - loss: 145.4053 - val_loss: 140.5742\n",
            "Epoch 60/100\n",
            "18/18 - 0s - loss: 144.9602 - val_loss: 140.0901\n",
            "Epoch 61/100\n",
            "18/18 - 0s - loss: 144.3415 - val_loss: 139.5546\n",
            "Epoch 62/100\n",
            "18/18 - 0s - loss: 143.8061 - val_loss: 138.8096\n",
            "Epoch 63/100\n",
            "18/18 - 0s - loss: 143.2625 - val_loss: 138.2610\n",
            "Epoch 64/100\n",
            "18/18 - 0s - loss: 142.6689 - val_loss: 137.5667\n",
            "Epoch 65/100\n",
            "18/18 - 0s - loss: 142.0851 - val_loss: 137.0890\n",
            "Epoch 66/100\n",
            "18/18 - 0s - loss: 141.5845 - val_loss: 136.3603\n",
            "Epoch 67/100\n",
            "18/18 - 0s - loss: 141.0613 - val_loss: 135.8573\n",
            "Epoch 68/100\n",
            "18/18 - 0s - loss: 140.4494 - val_loss: 135.4268\n",
            "Epoch 69/100\n",
            "18/18 - 0s - loss: 139.9082 - val_loss: 134.7948\n",
            "Epoch 70/100\n",
            "18/18 - 0s - loss: 139.3868 - val_loss: 134.1809\n",
            "Epoch 71/100\n",
            "18/18 - 0s - loss: 138.7593 - val_loss: 133.7011\n",
            "Epoch 72/100\n",
            "18/18 - 0s - loss: 138.2635 - val_loss: 133.0865\n",
            "Epoch 73/100\n",
            "18/18 - 0s - loss: 137.6628 - val_loss: 132.6040\n",
            "Epoch 74/100\n",
            "18/18 - 0s - loss: 137.1574 - val_loss: 132.0094\n",
            "Epoch 75/100\n",
            "18/18 - 0s - loss: 136.5431 - val_loss: 131.4549\n",
            "Epoch 76/100\n",
            "18/18 - 0s - loss: 135.9693 - val_loss: 130.9569\n",
            "Epoch 77/100\n",
            "18/18 - 0s - loss: 135.3792 - val_loss: 130.3998\n",
            "Epoch 78/100\n",
            "18/18 - 0s - loss: 134.8723 - val_loss: 129.9103\n",
            "Epoch 79/100\n",
            "18/18 - 0s - loss: 134.3028 - val_loss: 129.3464\n",
            "Epoch 80/100\n",
            "18/18 - 0s - loss: 133.7252 - val_loss: 128.8932\n",
            "Epoch 81/100\n",
            "18/18 - 0s - loss: 133.1691 - val_loss: 128.2134\n",
            "Epoch 82/100\n",
            "18/18 - 0s - loss: 132.6123 - val_loss: 127.7361\n",
            "Epoch 83/100\n",
            "18/18 - 0s - loss: 132.0474 - val_loss: 127.1155\n",
            "Epoch 84/100\n",
            "18/18 - 0s - loss: 131.4535 - val_loss: 126.6686\n",
            "Epoch 85/100\n",
            "18/18 - 0s - loss: 130.9273 - val_loss: 126.0486\n",
            "Epoch 86/100\n",
            "18/18 - 0s - loss: 130.4106 - val_loss: 125.6284\n",
            "Epoch 87/100\n",
            "18/18 - 0s - loss: 129.8838 - val_loss: 125.1578\n",
            "Epoch 88/100\n",
            "18/18 - 0s - loss: 129.3008 - val_loss: 124.5157\n",
            "Epoch 89/100\n",
            "18/18 - 0s - loss: 128.6808 - val_loss: 124.0517\n",
            "Epoch 90/100\n",
            "18/18 - 0s - loss: 128.1664 - val_loss: 123.5176\n",
            "Epoch 91/100\n",
            "18/18 - 0s - loss: 127.5949 - val_loss: 122.8618\n",
            "Epoch 92/100\n",
            "18/18 - 0s - loss: 127.0289 - val_loss: 122.4900\n",
            "Epoch 93/100\n",
            "18/18 - 0s - loss: 126.5057 - val_loss: 121.9829\n",
            "Epoch 94/100\n",
            "18/18 - 0s - loss: 125.9398 - val_loss: 121.3894\n",
            "Epoch 95/100\n",
            "18/18 - 0s - loss: 125.3723 - val_loss: 120.8378\n",
            "Epoch 96/100\n",
            "18/18 - 0s - loss: 124.8466 - val_loss: 120.3966\n",
            "Epoch 97/100\n",
            "18/18 - 0s - loss: 124.2742 - val_loss: 119.9477\n",
            "Epoch 98/100\n",
            "18/18 - 0s - loss: 123.7923 - val_loss: 119.4199\n",
            "Epoch 99/100\n",
            "18/18 - 0s - loss: 123.1452 - val_loss: 118.9636\n",
            "Epoch 100/100\n",
            "18/18 - 0s - loss: 122.6325 - val_loss: 118.5104\n"
          ],
          "name": "stdout"
        },
        {
          "output_type": "execute_result",
          "data": {
            "text/plain": [
              "<tensorflow.python.keras.callbacks.History at 0x7f643e82a5f8>"
            ]
          },
          "metadata": {
            "tags": []
          },
          "execution_count": 42
        }
      ]
    },
    {
      "cell_type": "code",
      "metadata": {
        "id": "e9ofvRBimOET",
        "colab_type": "code",
        "colab": {
          "base_uri": "https://localhost:8080/",
          "height": 52
        },
        "outputId": "716c4b91-0d19-4d40-8928-af029bad1b1e"
      },
      "source": [
        "from sklearn.metrics import mean_squared_error\n",
        "y_pred = model.predict(x_test)\n",
        "print(y_pred.shape)\n",
        "error=mean_squared_error(y_test,y_pred)\n",
        "print('epochs=50, mse=',error)"
      ],
      "execution_count": null,
      "outputs": [
        {
          "output_type": "stream",
          "text": [
            "(206, 1)\n",
            "epochs=50, mse= 134.34498237367023\n"
          ],
          "name": "stdout"
        }
      ]
    },
    {
      "cell_type": "code",
      "metadata": {
        "id": "9orpdJpcmc7v",
        "colab_type": "code",
        "colab": {
          "base_uri": "https://localhost:8080/",
          "height": 1000
        },
        "outputId": "8f0aaf16-e8e9-48d0-efa4-d5f3887276ea"
      },
      "source": [
        "x_train,x_test,y_train,y_test = train_test_split(pred_norm,target,train_size=0.8,random_state=2)\n",
        "model.fit(x_train,y_train,validation_split=0.3,epochs=100,verbose=2)# can change verbose to 1, 0\n",
        "y_pred = model.predict(x_test)\n",
        "error=mean_squared_error(y_test,y_pred)\n",
        "print('epochs=100, mse=',error)"
      ],
      "execution_count": null,
      "outputs": [
        {
          "output_type": "stream",
          "text": [
            "Epoch 1/100\n",
            "18/18 - 0s - loss: 57.2771 - val_loss: 60.4666\n",
            "Epoch 2/100\n",
            "18/18 - 0s - loss: 57.0835 - val_loss: 60.1916\n",
            "Epoch 3/100\n",
            "18/18 - 0s - loss: 56.7251 - val_loss: 59.9246\n",
            "Epoch 4/100\n",
            "18/18 - 0s - loss: 56.4685 - val_loss: 59.7320\n",
            "Epoch 5/100\n",
            "18/18 - 0s - loss: 56.2466 - val_loss: 59.4960\n",
            "Epoch 6/100\n",
            "18/18 - 0s - loss: 55.9895 - val_loss: 59.2876\n",
            "Epoch 7/100\n",
            "18/18 - 0s - loss: 55.7598 - val_loss: 59.0406\n",
            "Epoch 8/100\n",
            "18/18 - 0s - loss: 55.5277 - val_loss: 58.6601\n",
            "Epoch 9/100\n",
            "18/18 - 0s - loss: 55.3585 - val_loss: 58.5473\n",
            "Epoch 10/100\n",
            "18/18 - 0s - loss: 55.0539 - val_loss: 58.3196\n",
            "Epoch 11/100\n",
            "18/18 - 0s - loss: 54.8793 - val_loss: 58.2389\n",
            "Epoch 12/100\n",
            "18/18 - 0s - loss: 54.6118 - val_loss: 58.0072\n",
            "Epoch 13/100\n",
            "18/18 - 0s - loss: 54.3848 - val_loss: 57.6754\n",
            "Epoch 14/100\n",
            "18/18 - 0s - loss: 54.1504 - val_loss: 57.5092\n",
            "Epoch 15/100\n",
            "18/18 - 0s - loss: 53.9421 - val_loss: 57.2636\n",
            "Epoch 16/100\n",
            "18/18 - 0s - loss: 53.7392 - val_loss: 56.9842\n",
            "Epoch 17/100\n",
            "18/18 - 0s - loss: 53.5445 - val_loss: 56.8749\n",
            "Epoch 18/100\n",
            "18/18 - 0s - loss: 53.3555 - val_loss: 56.6582\n",
            "Epoch 19/100\n",
            "18/18 - 0s - loss: 53.1658 - val_loss: 56.4405\n",
            "Epoch 20/100\n",
            "18/18 - 0s - loss: 52.9682 - val_loss: 56.2709\n",
            "Epoch 21/100\n",
            "18/18 - 0s - loss: 52.7796 - val_loss: 56.1976\n",
            "Epoch 22/100\n",
            "18/18 - 0s - loss: 52.6359 - val_loss: 56.0214\n",
            "Epoch 23/100\n",
            "18/18 - 0s - loss: 52.4070 - val_loss: 55.7940\n",
            "Epoch 24/100\n",
            "18/18 - 0s - loss: 52.2827 - val_loss: 55.5213\n",
            "Epoch 25/100\n",
            "18/18 - 0s - loss: 52.0934 - val_loss: 55.4460\n",
            "Epoch 26/100\n",
            "18/18 - 0s - loss: 51.8936 - val_loss: 55.3730\n",
            "Epoch 27/100\n",
            "18/18 - 0s - loss: 51.6786 - val_loss: 55.1189\n",
            "Epoch 28/100\n",
            "18/18 - 0s - loss: 51.5871 - val_loss: 55.0414\n",
            "Epoch 29/100\n",
            "18/18 - 0s - loss: 51.4018 - val_loss: 54.8280\n",
            "Epoch 30/100\n",
            "18/18 - 0s - loss: 51.2539 - val_loss: 54.7061\n",
            "Epoch 31/100\n",
            "18/18 - 0s - loss: 51.0884 - val_loss: 54.3117\n",
            "Epoch 32/100\n",
            "18/18 - 0s - loss: 50.8879 - val_loss: 54.4616\n",
            "Epoch 33/100\n",
            "18/18 - 0s - loss: 50.6940 - val_loss: 54.2776\n",
            "Epoch 34/100\n",
            "18/18 - 0s - loss: 50.5818 - val_loss: 54.0400\n",
            "Epoch 35/100\n",
            "18/18 - 0s - loss: 50.3117 - val_loss: 54.0098\n",
            "Epoch 36/100\n",
            "18/18 - 0s - loss: 50.1745 - val_loss: 53.6731\n",
            "Epoch 37/100\n",
            "18/18 - 0s - loss: 49.9715 - val_loss: 53.6325\n",
            "Epoch 38/100\n",
            "18/18 - 0s - loss: 49.7899 - val_loss: 53.5698\n",
            "Epoch 39/100\n",
            "18/18 - 0s - loss: 49.6866 - val_loss: 53.4713\n",
            "Epoch 40/100\n",
            "18/18 - 0s - loss: 49.5519 - val_loss: 53.2724\n",
            "Epoch 41/100\n",
            "18/18 - 0s - loss: 49.2883 - val_loss: 53.1662\n",
            "Epoch 42/100\n",
            "18/18 - 0s - loss: 49.1657 - val_loss: 53.0385\n",
            "Epoch 43/100\n",
            "18/18 - 0s - loss: 48.9503 - val_loss: 52.8883\n",
            "Epoch 44/100\n",
            "18/18 - 0s - loss: 48.8299 - val_loss: 52.7704\n",
            "Epoch 45/100\n",
            "18/18 - 0s - loss: 48.7276 - val_loss: 52.7655\n",
            "Epoch 46/100\n",
            "18/18 - 0s - loss: 48.4898 - val_loss: 52.5792\n",
            "Epoch 47/100\n",
            "18/18 - 0s - loss: 48.3698 - val_loss: 52.4100\n",
            "Epoch 48/100\n",
            "18/18 - 0s - loss: 48.2656 - val_loss: 52.3800\n",
            "Epoch 49/100\n",
            "18/18 - 0s - loss: 48.0915 - val_loss: 52.2597\n",
            "Epoch 50/100\n",
            "18/18 - 0s - loss: 48.0028 - val_loss: 52.2489\n",
            "Epoch 51/100\n",
            "18/18 - 0s - loss: 47.8775 - val_loss: 51.9668\n",
            "Epoch 52/100\n",
            "18/18 - 0s - loss: 47.7468 - val_loss: 51.9351\n",
            "Epoch 53/100\n",
            "18/18 - 0s - loss: 47.7083 - val_loss: 51.9043\n",
            "Epoch 54/100\n",
            "18/18 - 0s - loss: 47.5438 - val_loss: 51.9148\n",
            "Epoch 55/100\n",
            "18/18 - 0s - loss: 47.3700 - val_loss: 51.7548\n",
            "Epoch 56/100\n",
            "18/18 - 0s - loss: 47.2985 - val_loss: 51.7274\n",
            "Epoch 57/100\n",
            "18/18 - 0s - loss: 47.2289 - val_loss: 51.5030\n",
            "Epoch 58/100\n",
            "18/18 - 0s - loss: 47.0501 - val_loss: 51.4592\n",
            "Epoch 59/100\n",
            "18/18 - 0s - loss: 46.9476 - val_loss: 51.4809\n",
            "Epoch 60/100\n",
            "18/18 - 0s - loss: 46.8146 - val_loss: 51.3690\n",
            "Epoch 61/100\n",
            "18/18 - 0s - loss: 46.7387 - val_loss: 51.2605\n",
            "Epoch 62/100\n",
            "18/18 - 0s - loss: 46.6181 - val_loss: 51.1296\n",
            "Epoch 63/100\n",
            "18/18 - 0s - loss: 46.5304 - val_loss: 51.0274\n",
            "Epoch 64/100\n",
            "18/18 - 0s - loss: 46.4495 - val_loss: 51.0643\n",
            "Epoch 65/100\n",
            "18/18 - 0s - loss: 46.3231 - val_loss: 50.9164\n",
            "Epoch 66/100\n",
            "18/18 - 0s - loss: 46.2528 - val_loss: 50.9017\n",
            "Epoch 67/100\n",
            "18/18 - 0s - loss: 46.1514 - val_loss: 50.7550\n",
            "Epoch 68/100\n",
            "18/18 - 0s - loss: 46.0454 - val_loss: 50.7328\n",
            "Epoch 69/100\n",
            "18/18 - 0s - loss: 45.9971 - val_loss: 50.5280\n",
            "Epoch 70/100\n",
            "18/18 - 0s - loss: 45.8658 - val_loss: 50.4835\n",
            "Epoch 71/100\n",
            "18/18 - 0s - loss: 45.8697 - val_loss: 50.4026\n",
            "Epoch 72/100\n",
            "18/18 - 0s - loss: 45.7074 - val_loss: 50.3192\n",
            "Epoch 73/100\n",
            "18/18 - 0s - loss: 45.6378 - val_loss: 50.3042\n",
            "Epoch 74/100\n",
            "18/18 - 0s - loss: 45.5567 - val_loss: 50.3184\n",
            "Epoch 75/100\n",
            "18/18 - 0s - loss: 45.4604 - val_loss: 50.1900\n",
            "Epoch 76/100\n",
            "18/18 - 0s - loss: 45.4057 - val_loss: 50.1105\n",
            "Epoch 77/100\n",
            "18/18 - 0s - loss: 45.2959 - val_loss: 50.0503\n",
            "Epoch 78/100\n",
            "18/18 - 0s - loss: 45.2694 - val_loss: 50.1245\n",
            "Epoch 79/100\n",
            "18/18 - 0s - loss: 45.1690 - val_loss: 49.9954\n",
            "Epoch 80/100\n",
            "18/18 - 0s - loss: 45.1284 - val_loss: 49.8945\n",
            "Epoch 81/100\n",
            "18/18 - 0s - loss: 45.0248 - val_loss: 49.7734\n",
            "Epoch 82/100\n",
            "18/18 - 0s - loss: 45.0397 - val_loss: 49.6734\n",
            "Epoch 83/100\n",
            "18/18 - 0s - loss: 44.9399 - val_loss: 49.5822\n",
            "Epoch 84/100\n",
            "18/18 - 0s - loss: 44.8663 - val_loss: 49.6254\n",
            "Epoch 85/100\n",
            "18/18 - 0s - loss: 44.7838 - val_loss: 49.6323\n",
            "Epoch 86/100\n",
            "18/18 - 0s - loss: 44.7282 - val_loss: 49.5042\n",
            "Epoch 87/100\n",
            "18/18 - 0s - loss: 44.6545 - val_loss: 49.4689\n",
            "Epoch 88/100\n",
            "18/18 - 0s - loss: 44.6519 - val_loss: 49.4188\n",
            "Epoch 89/100\n",
            "18/18 - 0s - loss: 44.5903 - val_loss: 49.3051\n",
            "Epoch 90/100\n",
            "18/18 - 0s - loss: 44.4838 - val_loss: 49.2947\n",
            "Epoch 91/100\n",
            "18/18 - 0s - loss: 44.4592 - val_loss: 49.2469\n",
            "Epoch 92/100\n",
            "18/18 - 0s - loss: 44.3679 - val_loss: 49.1342\n",
            "Epoch 93/100\n",
            "18/18 - 0s - loss: 44.3579 - val_loss: 49.1724\n",
            "Epoch 94/100\n",
            "18/18 - 0s - loss: 44.2675 - val_loss: 49.0717\n",
            "Epoch 95/100\n",
            "18/18 - 0s - loss: 44.1770 - val_loss: 49.0159\n",
            "Epoch 96/100\n",
            "18/18 - 0s - loss: 44.1515 - val_loss: 48.9977\n",
            "Epoch 97/100\n",
            "18/18 - 0s - loss: 44.1139 - val_loss: 48.8568\n",
            "Epoch 98/100\n",
            "18/18 - 0s - loss: 44.0659 - val_loss: 48.7183\n",
            "Epoch 99/100\n",
            "18/18 - 0s - loss: 43.9941 - val_loss: 48.7273\n",
            "Epoch 100/100\n",
            "18/18 - 0s - loss: 43.9344 - val_loss: 48.8015\n",
            "epochs=100, mse= 48.992189558357275\n"
          ],
          "name": "stdout"
        }
      ]
    },
    {
      "cell_type": "code",
      "metadata": {
        "id": "1dS2dGdRn0PU",
        "colab_type": "code",
        "colab": {}
      },
      "source": [
        "model=Sequential()\n",
        "model.add(Dense(10,activation='relu',input_shape=(n_cols,)))\n",
        "model.add(Dense(10,activation='relu'))\n",
        "model.add(Dense(1))\n",
        "model.compile(optimizer='adam',loss='mean_squared_error')"
      ],
      "execution_count": null,
      "outputs": []
    },
    {
      "cell_type": "code",
      "metadata": {
        "id": "zr7s1VEqoXI8",
        "colab_type": "code",
        "colab": {
          "base_uri": "https://localhost:8080/",
          "height": 35
        },
        "outputId": "cb578a69-93e6-45e1-ccbf-acacf134c46d"
      },
      "source": [
        "x_train,x_test,y_train,y_test = train_test_split(pred_norm,target,train_size=0.8,random_state=2)\n",
        "model.fit(x_train,y_train,validation_split=0.3,epochs=50,verbose=0)# can change verbose to 1, 0\n",
        "y_pred = model.predict(x_test)\n",
        "error=mean_squared_error(y_test,y_pred)\n",
        "print('epochs=50, mse=',error)"
      ],
      "execution_count": null,
      "outputs": [
        {
          "output_type": "stream",
          "text": [
            "epochs=50, mse= 70.27845905419271\n"
          ],
          "name": "stdout"
        }
      ]
    },
    {
      "cell_type": "code",
      "metadata": {
        "id": "HMx4wEc7oeax",
        "colab_type": "code",
        "colab": {
          "base_uri": "https://localhost:8080/",
          "height": 35
        },
        "outputId": "9aafb12f-14ac-4ca0-b47d-446ed6cb6e29"
      },
      "source": [
        "x_train,x_test,y_train,y_test = train_test_split(pred_norm,target,train_size=0.8,random_state=2)\n",
        "model.fit(x_train,y_train,validation_split=0.3,epochs=100,verbose=0)# can change verbose to 1, 0\n",
        "y_pred = model.predict(x_test)\n",
        "error=mean_squared_error(y_test,y_pred)\n",
        "print('epochs=100, mse=',error)"
      ],
      "execution_count": null,
      "outputs": [
        {
          "output_type": "stream",
          "text": [
            "epochs=100, mse= 76.05792058694684\n"
          ],
          "name": "stdout"
        }
      ]
    },
    {
      "cell_type": "code",
      "metadata": {
        "id": "2A7DDn71ogL4",
        "colab_type": "code",
        "colab": {
          "base_uri": "https://localhost:8080/",
          "height": 35
        },
        "outputId": "8fbdfadb-13fc-4f5c-d9c9-dd7394c56abc"
      },
      "source": [
        "model=Sequential()\n",
        "model.add(Dense(10,activation='relu',input_shape=(n_cols,)))\n",
        "model.add(Dense(10,activation='relu'))\n",
        "model.add(Dense(10,activation='relu'))\n",
        "model.add(Dense(10,activation='relu'))\n",
        "model.add(Dense(10,activation='relu'))\n",
        "model.add(Dense(10,activation='relu'))\n",
        "model.add(Dense(1))\n",
        "model.compile(optimizer='adam',loss='mean_squared_error')\n",
        "x_train,x_test,y_train,y_test = train_test_split(pred_norm,target,train_size=0.8,random_state=2)\n",
        "model.fit(x_train,y_train,validation_split=0.3,epochs=50,verbose=0)# can change verbose to 1, 0\n",
        "y_pred = model.predict(x_test)\n",
        "error=mean_squared_error(y_test,y_pred)\n",
        "print('epochs=50, mse=',error)"
      ],
      "execution_count": null,
      "outputs": [
        {
          "output_type": "stream",
          "text": [
            "epochs=50, mse= 134.34498237367023\n"
          ],
          "name": "stdout"
        }
      ]
    },
    {
      "cell_type": "code",
      "metadata": {
        "id": "FL_nBvyrpEcy",
        "colab_type": "code",
        "colab": {
          "base_uri": "https://localhost:8080/",
          "height": 35
        },
        "outputId": "047139b9-a65c-4347-9deb-3249a889d378"
      },
      "source": [
        "model=Sequential()\n",
        "model.add(Dense(10,activation='relu',input_shape=(n_cols,)))\n",
        "model.add(Dense(10,activation='relu'))\n",
        "model.add(Dense(10,activation='relu'))\n",
        "model.add(Dense(10,activation='relu'))\n",
        "model.add(Dense(10,activation='relu'))\n",
        "model.add(Dense(10,activation='relu'))\n",
        "model.add(Dense(1))\n",
        "model.compile(optimizer='adam',loss='mean_squared_error')\n",
        "x_train,x_test,y_train,y_test = train_test_split(pred_norm,target,train_size=0.8,random_state=2)\n",
        "model.fit(x_train,y_train,validation_split=0.3,epochs=100,verbose=0)# can change verbose to 1, 0\n",
        "y_pred = model.predict(x_test)\n",
        "error=mean_squared_error(y_test,y_pred)\n",
        "print('epochs=100, mse=',error)"
      ],
      "execution_count": null,
      "outputs": [
        {
          "output_type": "stream",
          "text": [
            "epochs=100, mse= 55.61105088049285\n"
          ],
          "name": "stdout"
        }
      ]
    },
    {
      "cell_type": "code",
      "metadata": {
        "id": "qBZVizUwqU7k",
        "colab_type": "code",
        "colab": {
          "base_uri": "https://localhost:8080/",
          "height": 35
        },
        "outputId": "32630f99-dfef-4078-fa96-5d004406f6aa"
      },
      "source": [
        "model=Sequential()\n",
        "model.add(Dense(10,activation='relu',input_shape=(n_cols,)))\n",
        "model.add(Dense(10,activation='relu'))\n",
        "model.add(Dense(1))\n",
        "model.compile(optimizer='adam',loss='mean_squared_error')\n",
        "x_train,x_test,y_train,y_test = train_test_split(pred_norm,target,train_size=0.8,random_state=2)\n",
        "model.fit(x_train,y_train,validation_split=0.3,epochs=1000,verbose=0)# can change verbose to 1, 0\n",
        "y_pred = model.predict(x_test)\n",
        "error=mean_squared_error(y_test,y_pred)\n",
        "print('epochs=1000, mse=',error)"
      ],
      "execution_count": null,
      "outputs": [
        {
          "output_type": "stream",
          "text": [
            "epochs=1000, mse= 38.74771815833879\n"
          ],
          "name": "stdout"
        }
      ]
    },
    {
      "cell_type": "code",
      "metadata": {
        "id": "Y45U8FKgrvQV",
        "colab_type": "code",
        "colab": {
          "base_uri": "https://localhost:8080/",
          "height": 35
        },
        "outputId": "ee4d2815-6c1a-4f9f-d0a1-91c48f55651e"
      },
      "source": [
        "model=Sequential()\n",
        "model.add(Dense(10,activation='relu',input_shape=(n_cols,)))\n",
        "model.add(Dense(10,activation='relu'))\n",
        "model.add(Dense(1))\n",
        "model.compile(optimizer='adam',loss='mean_squared_error')\n",
        "x_train,x_test,y_train,y_test = train_test_split(pred_norm,target,train_size=0.8,random_state=2)\n",
        "model.fit(x_train,y_train,validation_split=0.3,epochs=500,verbose=0)# can change verbose to 1, 0\n",
        "y_pred = model.predict(x_test)\n",
        "error=mean_squared_error(y_test,y_pred)\n",
        "print('epochs=500, mse=',error)"
      ],
      "execution_count": null,
      "outputs": [
        {
          "output_type": "stream",
          "text": [
            "epochs=500, mse= 50.72135149167755\n"
          ],
          "name": "stdout"
        }
      ]
    },
    {
      "cell_type": "code",
      "metadata": {
        "id": "ix9qZyDUsF8m",
        "colab_type": "code",
        "colab": {
          "base_uri": "https://localhost:8080/",
          "height": 35
        },
        "outputId": "c95b37bc-073b-4927-f039-620050d4881a"
      },
      "source": [
        "model=Sequential()\n",
        "model.add(Dense(10,activation='relu',input_shape=(n_cols,)))\n",
        "model.add(Dense(10,activation='relu'))\n",
        "model.add(Dense(10,activation='relu'))\n",
        "model.add(Dense(10,activation='relu'))\n",
        "model.add(Dense(10,activation='relu'))\n",
        "model.add(Dense(10,activation='relu'))\n",
        "model.add(Dense(1))\n",
        "model.compile(optimizer='adam',loss='mean_squared_error')\n",
        "x_train,x_test,y_train,y_test = train_test_split(pred_norm,target,train_size=0.8,random_state=2)\n",
        "model.fit(x_train,y_train,validation_split=0.3,epochs=1000,verbose=0)# can change verbose to 1, 0\n",
        "y_pred = model.predict(x_test)\n",
        "error=mean_squared_error(y_test,y_pred)\n",
        "print('epochs=1000, mse=',error)"
      ],
      "execution_count": null,
      "outputs": [
        {
          "output_type": "stream",
          "text": [
            "epochs=1000, mse= 39.18530638095751\n"
          ],
          "name": "stdout"
        }
      ]
    },
    {
      "cell_type": "code",
      "metadata": {
        "id": "oJ3vMANLssDJ",
        "colab_type": "code",
        "colab": {
          "base_uri": "https://localhost:8080/",
          "height": 35
        },
        "outputId": "def24421-d4d9-4dd9-c0b8-7bf1951fb79d"
      },
      "source": [
        "model=Sequential()\n",
        "model.add(Dense(10,activation='relu',input_shape=(n_cols,)))\n",
        "model.add(Dense(10,activation='relu'))\n",
        "model.add(Dense(10,activation='relu'))\n",
        "model.add(Dense(10,activation='relu'))\n",
        "model.add(Dense(10,activation='relu'))\n",
        "model.add(Dense(10,activation='relu'))\n",
        "model.add(Dense(1))\n",
        "model.compile(optimizer='adam',loss='mean_squared_error')\n",
        "x_train,x_test,y_train,y_test = train_test_split(pred_norm,target,train_size=0.8,random_state=2)\n",
        "model.fit(x_train,y_train,validation_split=0.3,epochs=500,verbose=0)# can change verbose to 1, 0\n",
        "y_pred = model.predict(x_test)\n",
        "error=mean_squared_error(y_test,y_pred)\n",
        "print('epochs=500, mse=',error)"
      ],
      "execution_count": null,
      "outputs": [
        {
          "output_type": "stream",
          "text": [
            "epochs=500, mse= 51.04059958599584\n"
          ],
          "name": "stdout"
        }
      ]
    }
  ]
}